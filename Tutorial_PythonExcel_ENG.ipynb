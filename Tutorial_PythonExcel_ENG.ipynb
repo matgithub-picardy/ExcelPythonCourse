{
 "cells": [
  {
   "cell_type": "markdown",
   "id": "0a970719-b3c6-4668-8c76-40952535876a",
   "metadata": {
    "slideshow": {
     "slide_type": ""
    },
    "tags": []
   },
   "source": [
    "# Tutorial 7: Using Python in Excel files\n",
    "\n",
    "Excel is highly rated by professionals for its user-friendly interface. As a result:\n",
    "- It's a popular tool for data management and analysis.\n",
    "- Excel is widely used in a wide range of organizations, including private companies, public institutions, universities and so on.\n",
    "- Professionals in a wide variety of positions - analysts, managers, executives, researchers - use Excel on a daily basis.\n",
    "- It enables both rapid statistical calculations and more advanced data analysis.\n",
    "\n",
    "Given its wide adoption, mastering Excel is essential for data professionals, data scientists and academics. Although Excel is excellent for small tasks and quick calculations, it has limitations for larger datasets and more complex analyses, which require the use of more powerful languages, like Python.\n",
    "\n",
    "Python is currently the most popular general-purpose programming language worldwide. Compared to Excel, Python offers:\n",
    "- Powerful advantages for data analysis,\n",
    "- A more flexible, efficient, and scalable approach,\n",
    "- The ability to automate repetitive tasks and handle large datasets that might challenge Excel, and\n",
    "- Advanced analysis capabilities through libraries like pandas, NumPy, and Matplotlib.\n",
    "\n",
    "Moreover, Python is open-source, allowing continuous development and access to a vast ecosystem of tools that extend its functionality.\n",
    "\n",
    "Combining Python with Excel can bring out the best in both tools. Python libraries like pandas make it easy to work directly with Excel files, enabling you to leverage Excel’s simplicity alongside Python’s computational power. This tutorial will guide you through integrating the two for enhanced data processing and analysis.\n",
    "\n",
    "Pandas is more efficient than Excel for automating data processing tasks, including the processing of Excel files. Pandas offers very interesting methods for reading any type of data from Excel files. You can also export your Pandas results to Excel, if that's what your target audience prefers. Pandas is ideal for other routine data analysis tasks, such as :\n",
    "- rapid exploratory data analysis (EDA)\n",
    "- drawing attractive graphs\n",
    "- feeding data into machine learning tools such as scikit-learn\n",
    "- building machine learning models on your data transferring cleaned and processed data to a large number of data tools</font> <a id='home'></a>\n",
    "\n",
    "The aim of this tutorial is to show you how to work with Excel files in Pandas. We will cover the following concepts:\n",
    "- setting up a computer with the necessary software\n",
    "- reading data from Excel files into pandas\n",
    "- exploring data in Pandas\n",
    "- visualizing data in Pandas using the matplotlib visualization library\n",
    "- manipulating and reshaping data in Pandas\n",
    "- transferring data from Pandas to Excel\n",
    "\n",
    "1. [The Data set](#dataset)\n",
    "2. [Reading data from the Excel file](#reading)\n",
    "3. [Exploring the data](#exploring)\n",
    "4. [Statistics](#statistics)\n",
    "\n",
    "\n",
    "## The Data set <a id=\"dataset\"></a> ([top](#home))\n",
    "\n",
    "In this tutorial, we will work with a multi-sheet Excel file created from Kaggle's IMDb Scores data. You can download the file in the left-hand panel if you are working on Binder or by clicking on the following link: [movies.xlsx](https://github.com/matgithub-picardy/ExcelPythonCourse/raw/refs/heads/main/movies.xlsx).\n",
    "\n",
    "First, we can open the Excel file for an initial exploration of the data. Each line (observation) corresponds to a film, with information about that film: year, genre, language, country, budget, etc. First, we'll describe the database (1916 to 2016, American movies, etc.), propose some initial statistics on the database, and then determine the distribution of the films' audience ratings, identify the films with the highest audience ratings, net revenues, etc. We'll analyze and explore this data first in Excel, then use Python, so that you can see by yourself how well Pandas can work with Excel data in Python.\n",
    "\n",
    "\n",
    "## Reading data from the Excel file <a id=\"reading\"></a> ([top](#home))\n",
    "A quick examination of the Excel file reveals three sheets containing information on mostly American films: '1900s,' '2000s,' and '2010s.' The titles of the sheets indicate that the films correspond to these years (but we'll have to be sure). \n",
    "\n",
    "Then, we need to import the data from the Excel file into pandas. To do that, we start by importing the pandas module. Run the code in the cell below by clicking on the cell and pressing Shift+Enter:"
   ]
  },
  {
   "cell_type": "code",
   "execution_count": null,
   "id": "94ee9b30-b764-4417-8f2b-504c5c6ef1a2",
   "metadata": {},
   "outputs": [],
   "source": [
    "import pandas as pd\n",
    "\n",
    "excel_file = 'movies.xlsx'\n",
    "\n",
    "try:\n",
    "    # Attempts to read the Excel file into a DataFrame\n",
    "    movies = pd.read_excel(excel_file)\n",
    "    print(\"File loaded successfully.\")\n",
    "except FileNotFoundError:\n",
    "    print(f\"Error: The file '{file_path}' was not found.\")\n",
    "except Exception as e:\n",
    "    print(f\"An error occurred: {e}\")"
   ]
  },
  {
   "cell_type": "markdown",
   "id": "38aeb81a-2aa6-44a4-9227-cec38213e03b",
   "metadata": {},
   "source": [
    "### Code explanation\n",
    "* `import pandas as pd`: Imports the pandas library to handle data in structured formats like Excel files.\n",
    "* `excel_file = 'Tutorial_PythonExcel/movies.xlsx'`: Here, the variable `excel_file` is set to the file path of your Excel file. This approach makes it easy to update the file path if you want to load a different file later.\n",
    "* `try` block: This try-except block handles potential errors:\n",
    "    - `pd.read_excel(excel_file)`: The method `read_excel` reads the specified Excel file into a pandas DataFrame (`movies`), a useful data pandas structure for organizing and manipulating data. If no sheet name is specified, the method will read the first sheet in the index (as shown below).\n",
    "    - Success message: If the file loads without issues, it prints \"File loaded successfully.\"\n",
    "\n",
    "As a reminder, to call a method in Python—a function associated with a particular object—you place the method name after the object, separated by a dot (`.`). Let's take a simple example:"
   ]
  },
  {
   "cell_type": "code",
   "execution_count": null,
   "id": "f52fcc2e",
   "metadata": {},
   "outputs": [],
   "source": [
    "my_list = [1, 2, 3]\n",
    "my_list.append(4)# Calls the 'append' method on the 'my_list' object to add an item`\n",
    "print(my_list)"
   ]
  },
  {
   "cell_type": "markdown",
   "id": "9783af84",
   "metadata": {},
   "source": [
    "In this example, `append` is the method, and `my_list` is the object.\n",
    "\n",
    "### Display top rows\n",
    "\n",
    "We now want to have a quick look at the first rows of the Dataframe:"
   ]
  },
  {
   "cell_type": "code",
   "execution_count": null,
   "id": "f1bb9603-5c0c-4c7d-9e6f-a4e88d9ce730",
   "metadata": {},
   "outputs": [],
   "source": [
    "movies.head()"
   ]
  },
  {
   "cell_type": "markdown",
   "id": "6d90ebf6-1462-4989-9bf0-8e3345232291",
   "metadata": {},
   "source": [
    "We use the method `head()` to easily display the first rows of our DataFrame. This lets you quickly verify that the data was loaded as expected. If no argument is passed, it will display first five rows. If a number is passed, it will display the equal number of rows from the top."
   ]
  },
  {
   "cell_type": "code",
   "execution_count": null,
   "id": "b032f87d",
   "metadata": {},
   "outputs": [],
   "source": [
    "movies.head(7)"
   ]
  },
  {
   "cell_type": "code",
   "execution_count": null,
   "id": "dabb5191-e830-4292-92da-508c52400d2f",
   "metadata": {},
   "outputs": [],
   "source": [
    "movies_sheet1 = pd.read_excel(excel_file, sheet_name=0, index_col=0)\n",
    "movies_sheet1.head()"
   ]
  },
  {
   "cell_type": "markdown",
   "id": "f9ff59f8-e695-4231-812c-5c47326629a7",
   "metadata": {},
   "source": [
    "You notice that this method lets us know the number of columns and rows presented (at the bottom left of the output: `5 rows x 25 columns`). Here, we learn that the first sheet contains 25 columns, i.e. 25 variables for each observation, from \"Title\" to \"IMDB Score\" + line numbers.\n",
    "\n",
    "Excel files often contain multiple sheets, so specifying which sheet to read can be important for Pandas. The `read_excel` method in pandas includes a sheet_name argument that allows you to select a specific sheet by name or number. Sheet numbers start from zero; if sheet_name is not specified, pandas defaults to the first sheet (index 0).\n",
    "\n",
    "### Display first row by sheet\n",
    "\n",
    "By default, pandas assigns a numeric index (starting at zero) for each row. However, if your data contains a column with unique values, you may prefer to use this column as the index for easier data referencing. You can do this by setting the index_col argument to the column's number (e.g., index_col=0 for the first column) or to a list of numbers for a multi-index.\n",
    "\n",
    "The first column in our Excel file is labeled 'Title.' We use this 'Title' column as the index by setting index_col=0, and we look at the first rows:\n",
    "\n",
    "As you noticed above, our Excel data file has three sheets. We already read the first sheet in a DataFrame above. Note that there are now only 24 columns, because the line numbers of the first column have been removed.\n",
    "\n",
    "Now, using the same syntax, we also read the first lines of the other two sheets:"
   ]
  },
  {
   "cell_type": "code",
   "execution_count": null,
   "id": "89473ddf-7d4b-4803-b857-708741ee195f",
   "metadata": {},
   "outputs": [],
   "source": [
    "movies_sheet2 = pd.read_excel(excel_file, sheet_name=1, index_col=0)\n",
    "movies_sheet2.head()"
   ]
  },
  {
   "cell_type": "code",
   "execution_count": null,
   "id": "8b4d1794-0f0a-439c-ae4f-504284bee55e",
   "metadata": {},
   "outputs": [],
   "source": [
    "movies_sheet3 = pd.read_excel(excel_file, sheet_name=2, index_col=0)\n",
    "movies_sheet3.head()"
   ]
  },
  {
   "cell_type": "markdown",
   "id": "44ddf5c3-dad9-46d6-aaa6-7184927729c4",
   "metadata": {},
   "source": [
    "### Concatenate sheets\n",
    "\n",
    "Since the three sheets contain similar data, but for different records (films), we create a **single DataFrame from the three DataFrames** created above. To do this, we use the pandas method `concat` (as in concatenation, which literally means “to concatenate”) with the names of the three Dataframes as arguments, and assign the result to the new Dataframe object we call `films`.\n",
    "\n",
    "Keeping the same Dataframe name as before, we overwrite the previously created DataFrame:"
   ]
  },
  {
   "cell_type": "code",
   "execution_count": null,
   "id": "345c714b-93a6-4a84-9cd2-1c68051fc881",
   "metadata": {},
   "outputs": [],
   "source": [
    "movies = pd.concat([movies_sheet1, movies_sheet2, movies_sheet3])"
   ]
  },
  {
   "cell_type": "markdown",
   "id": "c0ccd83a-d401-476f-bd3e-eb172a79a617",
   "metadata": {},
   "source": [
    "We can check whether the concatenation has been successful by checking the number of rows in the final dataFrame by calling the shape method, which will give us the number of rows and columns."
   ]
  },
  {
   "cell_type": "code",
   "execution_count": null,
   "id": "9ebc0661-f425-4412-a768-cc360299255b",
   "metadata": {},
   "outputs": [],
   "source": [
    "movies.shape"
   ]
  },
  {
   "cell_type": "markdown",
   "id": "053e4079-729f-4942-94f5-f8984bb3bea8",
   "metadata": {},
   "source": [
    "We obtain `(5042, 24)`, which corresponds to 5 042 rows and 24 columns. If the number of columns corresponds to the figures obtained above, we can also check the number of rows directly by summing the rows in each sheet of the Excel file (taking care to subtract 3 for headers): 1 339 + 1 605 + 2 101 - 3 = 5 042 (3 for headers).\n",
    "\n",
    "### Using the ExcelFile class to read multiple sheets\n",
    "To work with multiple sheets from the same Excel file, we can also use the `ExcelFile` class, which allows us to achieve the same result more quickly. We begin by wrapping the Excel file with `ExcelFile`, then passing it to the method read_excel:"
   ]
  },
  {
   "cell_type": "code",
   "execution_count": null,
   "id": "57b27110-b5a1-489b-bd3b-76946893cb38",
   "metadata": {},
   "outputs": [],
   "source": [
    "xlsx = pd.ExcelFile(excel_file)\n",
    "movies_sheets = []\n",
    "for sheet in xlsx.sheet_names:\n",
    "   movies_sheets.append(xlsx.parse(sheet))\n",
    "movies = pd.concat(movies_sheets)\n",
    "\n",
    "movies.shape"
   ]
  },
  {
   "cell_type": "markdown",
   "id": "5e6cdfac-c1a5-4a5e-bcc4-5cabed344e6c",
   "metadata": {},
   "source": [
    "### Code explanation\n",
    "* `xlsx = pd.ExcelFile(excel_file`: Reads the Excel file specified by excel_file. This allows access to all the sheets in the workbook.\n",
    "* `movies_sheets = []`: Creates an empty list `movies_sheets` to store the dataframes corresponding to each sheet in the Excel file.\n",
    "* `for sheet in xlsx.sheet_names:`: This loop iterates over the names of all sheets in the Excel file (retrieved using xlsx.sheet_names).\n",
    "    * `movies_sheets.append(xlsx.parse(sheet))`: For each sheet, xlsx.parse(sheet) reads the data and appends it to the movies_sheets list.\n",
    "* `movies = pd.concat(movies_sheets)`: The pd.concat() function is used to concatenate all the dataframes in the movies_sheets list into a single dataframe called movies.\n",
    "* `movies.shape`: Outputs the shape of the combined dataframe, providing information about the number of rows and columns.\n",
    "\n",
    "\n",
    "### Why choose ExcelFile?\n",
    "\n",
    "If your Excel file contains a large number of sheets and you need to create a lot of dataframes, ExcelFile is more practical and efficient than `read_excel`. With ExcelFile, you only need to access the Excel file once to build the final dataframe. With `read_excel`, the Excel file is accessed as many times as there are sheets in the file. This can have a cost in terms of performance if the Excel file contains many sheets with a large number of lines."
   ]
  },
  {
   "cell_type": "markdown",
   "id": "16657aa2",
   "metadata": {},
   "source": [
    "### Quiz #1\n",
    "**What does the pd.ExcelFile() function do?**\n",
    "\n",
    "1. Loads a specific sheet from an Excel file\n",
    "2. Reads the entire Excel file into a DataFrame\n",
    "3. Allows access to all sheets in an Excel workbook\n",
    "4. Converts an Excel file to a CSV file"
   ]
  },
  {
   "cell_type": "markdown",
   "id": "7740f050",
   "metadata": {},
   "source": [
    "<details>\n",
    "<summary>Click here to see the answer</summary>\n",
    "\n",
    "**The correct answer is:** 3. Allows access to all sheets in an Excel workbook\n",
    "\n",
    "</details>"
   ]
  },
  {
   "cell_type": "markdown",
   "id": "51e4364a",
   "metadata": {},
   "source": [
    "### Quiz #2\n",
    "**How are the dataframes from each sheet combined into a single dataframe?**\n",
    "\n",
    "1. Using the merge() function\n",
    "2. Using the join() function\n",
    "3. Using the pd.concat() function\n",
    "4. Using the pd.append() function"
   ]
  },
  {
   "cell_type": "markdown",
   "id": "311ea342",
   "metadata": {},
   "source": [
    "<details>\n",
    "<summary>Click here to see the answer</summary>\n",
    "\n",
    "**The correct answer is:** 3. Using the pd.concat() function\n",
    "\n",
    "</details>"
   ]
  },
  {
   "cell_type": "markdown",
   "id": "f1c05569",
   "metadata": {},
   "source": [
    "### Quiz #3\n",
    "**If the Excel file has 3 sheets with 100 rows each, what will be the shape of the combined dataframe?**\n",
    "\n",
    "1. (100, 3)\n",
    "2. (300, n)\n",
    "3. (3, 100)\n",
    "4. (100, 100)"
   ]
  },
  {
   "cell_type": "markdown",
   "id": "f5d595e7",
   "metadata": {},
   "source": [
    "<details>\n",
    "<summary>Click here to see the answer</summary>\n",
    "\n",
    "**The correct answer is:** 2. (300, n) (where n is the number of columns)\n",
    "\n",
    "</details'>"
   ]
  },
  {
   "cell_type": "markdown",
   "id": "f3bd6dbb",
   "metadata": {},
   "source": [
    "### Quiz #4\n",
    "** What type of object the movies.shape return?**\n",
    "\n",
    "1. The names of the sheets in the Excel file\n",
    "2. The total number of sheets in the Excel file\n",
    "3. A tuple representing the number of rows and columns in the dataframe\n",
    "4. The first few rows of the dataframe"
   ]
  },
  {
   "cell_type": "markdown",
   "id": "20cf4f0e",
   "metadata": {},
   "source": [
    "<details>\n",
    "<summary>Click here to see the answer</summary>\n",
    "\n",
    "**The correct answer is:** 3. A tuple representing the number of rows and columns in the DataFrame\n",
    "\n",
    "</details>"
   ]
  },
  {
   "cell_type": "markdown",
   "id": "b5c93417",
   "metadata": {},
   "source": [
    "### Activity #1:\n",
    "You can use the code cell below to test the codes proposed in this activity.\n",
    "\n",
    "**1. List sheet names**\n",
    "- Use `print(xlsx.sheet_names)` to display the sheet names\n",
    "\n",
    "**2. Inspect a sample sheet**\n",
    "- Use the variable `movies_sheets` to inspect the first 5 lines of the sheet titled “'2000s”. Discuss what columns are available and how they might relate to columns in the other sheets.\n",
    "\n",
    "**3. Inspect the data**\n",
    "- Use `movies.info()` to understand the structure and content of the combined data. What does `movies.info()` reveal about the data types? How many columns have missing values? Note: The`info()` method is helpful for quickly assessing data quality before further analysis.\n",
    "\n",
    "**4. Count the rows from each sheet**\n",
    "- To confirm that each sheet was added correctly, print the number of rows from each individual sheet before combining, and compare it with the total rows in movies. Use `[df.shape[0] for df in movies_sheets]` to create a list of row counts for each sheet, then sum them up to match the total row count in movies.\n",
    "\n",
    "Let's explain the code `[df.shape[0] for df in movies_sheets]`:\n",
    "- The variable `df` represents each individual DataFrame in `movies_sheets` which is a list containing each sheet loaded as a separate DataFrame.\n",
    "- `df.shape` returns a tuple representing the dimensions of `df`, where `df.shape[0]` is the number of rows (`df.shape[1]` is the number of columns).\n",
    "- The list comprehension [df.shape[0] for df in movies_sheets] collects the row count of each sheet into a new list\n",
    "\n",
    "Now, consider the following:\n",
    "- Why is it important to verify the contents of each sheet before combining them?\n",
    "- What are the benefits of using `info()` when working with new datasets?"
   ]
  },
  {
   "cell_type": "code",
   "execution_count": null,
   "id": "d004d6b5",
   "metadata": {},
   "outputs": [],
   "source": []
  },
  {
   "cell_type": "markdown",
   "id": "88a82ac5",
   "metadata": {},
   "source": [
    "## Exploring the data <a id=\"exploring\"></a> ([top](#home))\n",
    "Now that we've had a first look at the movie dataset from our Excel file, we can start exploring the database with the help of pandas. A pandas dataframe stores data in a tabular format, just as Excel does by displaying data in a sheet. Pandas has a whole set of built-in methods for exploring the dataFrame we've created from the Excel file.\n",
    "\n",
    "We've already seen the `head()` and `shape` methods in the previous section for displaying the first rows of a dataframe or finding out the number of rows and columns. Let's now look at some other useful methods for data exploration.\n",
    "\n",
    "### Display end data\n",
    "Just as the `head()` method returns the first rows of a dataframe, the `tail()` method displays the end rows of a dataframe. If no parameter is given, only the last five lines are displayed."
   ]
  },
  {
   "cell_type": "code",
   "execution_count": null,
   "id": "e2ff38b0-e131-4c80-8db8-fe15ee287856",
   "metadata": {},
   "outputs": [],
   "source": [
    "movies.tail()"
   ]
  },
  {
   "cell_type": "markdown",
   "id": "e1f72bc9-edb2-4ca3-9a96-30b72cf12964",
   "metadata": {},
   "source": [
    "You'll notice that dataframe tail observations have missing observations that have been filled in with NaN (for Not a Number). You can view the corresponding data directly in the Excel file. What do you see?\n",
    "\n",
    "### Sort data\n",
    "In Excel, sorting by one or more columns helps organize data based on specific values. In pandas, we achieve this using the methid `sort_values`. For example, to sort our movies DataFrame by the \"Gross Earnings\" column, we can quickly identify the highest-grossing films in our dataset."
   ]
  },
  {
   "cell_type": "code",
   "execution_count": null,
   "id": "31da663a-64dd-431b-95ee-121b12d7d195",
   "metadata": {},
   "outputs": [],
   "source": [
    "sorted_by_gross = movies.sort_values(['Gross Earnings'], ascending=False)"
   ]
  },
  {
   "cell_type": "markdown",
   "id": "7118106a-e29e-4670-b704-6526b29630d4",
   "metadata": {},
   "source": [
    "### Code explanation\n",
    "\n",
    "* `movies.sort_values([...])`: This method sorts the dataframe movies by the specified column(s). Here, `['Gross Earnings']` tells pandas to sort based on the values in the \"Gross Earnings\" column.\n",
    "* `ascending=False`: By default, sort_values sorts in ascending (smallest to largest) order. Setting `ascending=False` reverses this, sorting in descending order (largest to smallest).\n",
    "\n",
    "The data being now sorted by value in a column, we can extract some interesting information. For example, we can display the top 10 highest gross earnings, and, to identify the corresponding films, the top 10 highest gross earnings with the titles."
   ]
  },
  {
   "cell_type": "code",
   "execution_count": null,
   "id": "411b5835-654b-412d-ae95-a9c83d1fe844",
   "metadata": {},
   "outputs": [],
   "source": [
    "print('Top 10 highest gross earnings:')\n",
    "print(sorted_by_gross['Gross Earnings'].head(10))\n",
    "\n",
    "print('\\n') # Displays a vertical space \n",
    "\n",
    "print('Top 10 films with the highest gross earnings:')\n",
    "print(sorted_by_gross[['Title', 'Gross Earnings']].head(10))"
   ]
  },
  {
   "cell_type": "markdown",
   "id": "445468d3-6797-42cd-b5b2-7256239eae74",
   "metadata": {},
   "source": [
    "**Task:** Modify the code in the cell above to find out the directors or actors of these films.\n",
    "\n",
    "\n",
    "### Plot data\n",
    "Now, let's visualize the data for the top 10 films by gross earnings. We'll use `Matplotlib`, a powerful visualization library in Python that integrates well with pandas for creating charts and graphs. With just a few lines of code,`Matplotlib` allows us to generate clear, insightful plots.\n",
    "\n",
    "Working in Jupyter Notebook, we can configure `Matplotlib` to display plots directly below the code, making it easy to interpret results directly in the notebook. What's more, `Matplotlib` plots work well with the notebook, since you can move the plots directly under the code.\n",
    "\n",
    "To get started, we’ll import the `Matplotlib` library and set it up for inline plotting in Jupyter Notebook."
   ]
  },
  {
   "cell_type": "code",
   "execution_count": null,
   "id": "ed324e85-f6df-4682-aeca-f72c7b224963",
   "metadata": {},
   "outputs": [],
   "source": [
    "import matplotlib.pyplot as plt"
   ]
  },
  {
   "cell_type": "markdown",
   "id": "d468a12d-2af6-4aa1-905a-9f1e0c576503",
   "metadata": {},
   "source": [
    "We'll draw a bar chart where each bar represents one of the top 10 movies. We can do this by calling the method `plot` and setting the argument `kind` equal to `barh`. This tells matplotlib to draw a horizontal bar chart."
   ]
  },
  {
   "cell_type": "code",
   "execution_count": null,
   "id": "6e602742-25c5-4028-8479-844bd4c410f0",
   "metadata": {},
   "outputs": [],
   "source": [
    "# Plotting the top 10 movies by 'Gross Earnings' as a horizontal bar chart\n",
    "sorted_by_gross['Gross Earnings'].head(10).plot(kind=\"barh\")\n",
    "\n",
    "# Display the plot\n",
    "plt.show()"
   ]
  },
  {
   "cell_type": "markdown",
   "id": "2d5a9bf4-c86a-4fd1-b478-08e0ebc6af5f",
   "metadata": {},
   "source": [
    "### Code explanation:\n",
    "* `import matplotlib.pyplot as plt:` Imports the `matplotlib.pyplot` library, giving us access to its plotting functions. By convention, it’s imported as plt.\n",
    "* `sorted_by_gross['Gross Earnings'].head(10).plot(kind=\"barh\")`: Selects only the Gross Earnings column from the sorted_by_gross dataframe.\n",
    "    - `.head(10)` takes the top 10 rows from this column, here the 10 movies with the highest gross earnings.\n",
    "    - `.plot(kind=\"barh\")` creates a horizontal bar chart (`barh` stands for “bar horizontal”).\n",
    "* `plt.show()`: This displays the plot. In Jupyter notebooks, this line is often optional, as plots render automatically. However, outside Jupyter, plt.show() is essential to make the plot appear.\n",
    "\n",
    "\n",
    "We can further customize the plot with titles, labels, or colors to make the chart more informative. For instance:"
   ]
  },
  {
   "cell_type": "code",
   "execution_count": null,
   "id": "6ff3bfcc",
   "metadata": {},
   "outputs": [],
   "source": [
    "# Plot the top 10 movies by 'Gross Earnings' using a horizontal bar chart\n",
    "\n",
    "# Selecting the top 10 values in the 'Gross Earnings' column of sorted_by_gross\n",
    "sorted_by_gross['Gross Earnings'].head(10).plot(kind=\"barh\", color=\"skyblue\")\n",
    "\n",
    "# Add a title to the plot\n",
    "plt.title(\"Top 10 Movies by Gross Earnings\")\n",
    "\n",
    "# Label the x-axis to indicate it represents Gross Earnings values\n",
    "plt.xlabel(\"Gross Earnings\")\n",
    "\n",
    "# Label the y-axis, which shows the indices of the movies in the DataFrame\n",
    "plt.ylabel(\"Movie Index\")\n",
    "\n",
    "# Display the plot on the screen\n",
    "plt.show()\n"
   ]
  },
  {
   "cell_type": "markdown",
   "id": "5735842c",
   "metadata": {},
   "source": [
    "### Code explanation\n",
    "- `.head(10) extracts the top 10 rows, and plot(kind=\"barh\", color=\"skyblue\")`: Creates a horizontal bar chart with sky-blue bars.\n",
    "- `plt.title(\"Top 10 Movies by Gross Earnings\")`: Adds a descriptive title.\n",
    "- `plt.xlabel(\"Gross Earnings\")`: Adds label for the x-axis.\n",
    "- `plt.ylabel(\"Movie Index\")`: Adds label for the y-axis, showing row indices or movie names if the index is set to them.\n",
    "\n",
    "**Task:** Explore the different types of plots available in `matplotlib` by experimenting with the kind parameter. This parameter allows you to create various types of visualizations. Try each option and determine which one best represents the data in a clear and meaningful way.\n",
    "\n",
    "Here are the values you can use for kind:\n",
    "- 'line': line plot (default)\n",
    "- 'bar': vertical bar plot\n",
    "- 'barh': horizontal bar plot\n",
    "- 'hist': histogram\n",
    "- 'box': boxplot\n",
    "- 'kde': Kernel Density Estimation plot\n",
    "- 'density': same as 'kde'\n",
    "- 'area': area plot\n",
    "- 'pie': pie plot\n",
    "- 'scatter': scatter plot (DataFrame only)\n",
    "- 'hexbin': hexbin plot (DataFrame only)\n",
    "\n",
    "Experiment with these values and see how each visualization style impacts the readability of your data. Afterward, select the plot type that you think best highlights the top 10 movies by gross earnings and explain your choice.\n",
    "\n",
    "### IMDb scores distribution\n",
    "Let's create a histogram to analyze the distribution of IMDb scores across all movies. A histogram is an excellent tool for visualizing data distribution because it shows the frequency of values within specified ranges. We’ll apply the plot method to the IMDb scores in our movies dataframe and specify `kind=\"hist\"` to produce a histogram."
   ]
  },
  {
   "cell_type": "code",
   "execution_count": null,
   "id": "29cd6001-d07b-4521-bcf8-3a478c758fce",
   "metadata": {},
   "outputs": [],
   "source": [
    "movies['IMDB Score'].plot(kind=\"hist\", color=\"lightblue\", edgecolor=\"black\", bins=10)\n",
    "plt.title(\"Distribution of IMDb Scores\")\n",
    "plt.xlabel(\"IMDb Score\")\n",
    "plt.ylabel(\"Frequency\")\n",
    "plt.show()"
   ]
  },
  {
   "cell_type": "markdown",
   "id": "0966bd99",
   "metadata": {},
   "source": [
    "This visualization shows that most IMDb scores for the movies fall between six and eight, suggesting a central tendency around these values."
   ]
  },
  {
   "cell_type": "markdown",
   "id": "79c7d73c",
   "metadata": {},
   "source": [
    "### Quiz #5\n",
    "**What does a histogram represent?**\n",
    "\n",
    "1. The distribution of a dataset’s frequency across specified ranges.\n",
    "2. The relationship between two variables.\n",
    "3. The cumulative values of a dataset."
   ]
  },
  {
   "cell_type": "markdown",
   "id": "d0186534",
   "metadata": {},
   "source": [
    "<details>\n",
    "<summary>Click here to see the answer</summary>\n",
    "\n",
    "**The correct answer is:** 1. The distribution of a dataset’s frequency across specified ranges.\n",
    "\n",
    "</details>"
   ]
  },
  {
   "cell_type": "markdown",
   "id": "e4d259b8",
   "metadata": {},
   "source": [
    "### Quiz #6\n",
    "**In `movies['IMDB Score'].plot(kind=\"hist\", bins=10)`, what does `bins=10`\n",
    " do?**\n",
    "\n",
    "1. Limits the range of scores shown.\n",
    "2. Divides IMDb scores into 10 groups or intervals.\n",
    "3. Limits the number of movies displayed."
   ]
  },
  {
   "cell_type": "markdown",
   "id": "0f454c9c",
   "metadata": {},
   "source": [
    "<details>\n",
    "<summary>Click here to see the answer</summary>\n",
    "\n",
    "**The correct answer is:** 2. Divides IMDb scores into 10 groups or intervals.\n",
    "\n",
    "</details>"
   ]
  },
  {
   "cell_type": "markdown",
   "id": "1a3db4aa",
   "metadata": {},
   "source": [
    "### Quiz #7\n",
    "**What insight does the histogram provide about IMDb scores?**\n",
    "\n",
    "1. Shows the most common ranges for IMDb scores.\n",
    "2. Shows detailed statistics for each score.\n",
    "3. Displays relationships between IMDb scores and other variables."
   ]
  },
  {
   "cell_type": "markdown",
   "id": "9d80e9fe",
   "metadata": {},
   "source": [
    "<details>\n",
    "<summary>Click here to see the answer</summary>\n",
    "\n",
    "**The correct answer is:** 1. Shows the most common ranges for IMDb scores.\n",
    "\n",
    "</details>"
   ]
  },
  {
   "cell_type": "markdown",
   "id": "6617b3af",
   "metadata": {},
   "source": [
    "### Activity #2\n",
    "\n",
    "You can use the code cell below to test the codes proposed in this activity.\n",
    "\n",
    "1. Use the histogram code provided to plot the IMDb scores, experimenting with different bins values (such as 5, 15, and 20) to see how the histogram changes. Note how increasing or decreasing the number of bins affects the interpretation of the score distribution. For this question, you can refer to the code in Quiz #6 above.\n",
    "\n",
    "2. Identify the approximate range where most IMDb scores fall and the shape of the distribution. Does it seem balanced, skewed left, or skewed right?\n",
    "\n",
    "Based on the histogram, discuss how the choice of `bin` size influences data interpretation. What patterns do you notice in the ratings distribution?"
   ]
  },
  {
   "cell_type": "code",
   "execution_count": null,
   "id": "2a761255",
   "metadata": {},
   "outputs": [],
   "source": []
  },
  {
   "cell_type": "markdown",
   "id": "d86dd263-8861-490c-9728-1091e09bb78a",
   "metadata": {},
   "source": [
    "## Statistics <a id=\"statistics\"></a> ([top](#home))\n",
    "To gain more insights into the dataset, we can also use the method `describe`, which provides a summary of the statistical distribution, including the mean, median, quartiles, minimum, and maximum values."
   ]
  },
  {
   "cell_type": "code",
   "execution_count": null,
   "id": "ca08a70d-36e6-47ba-96ae-86fea54bf444",
   "metadata": {},
   "outputs": [],
   "source": [
    "# Generate a statistical summary of IMDb scores\n",
    "movies['IMDB Score'].describe()"
   ]
  },
  {
   "cell_type": "markdown",
   "id": "f623abc4",
   "metadata": {},
   "source": [
    "We are particularly interested here in the 'IMDB Score' column, but we can also describe all the variables directly with the code `movies['IMDB Score'].describe()` which provides the information for all the variables. You'll also note that this calculated information applies only to numerical values.\n",
    "\n",
    "\n",
    "We can also use a particular method to access a given item of information. For example, to obtain the average of a particular column, you can use the mean method on that column:"
   ]
  },
  {
   "cell_type": "code",
   "execution_count": null,
   "id": "0fa33044",
   "metadata": {},
   "outputs": [],
   "source": [
    "movies[\"Gross Earnings\"].mean()"
   ]
  },
  {
   "cell_type": "markdown",
   "id": "691ce977",
   "metadata": {},
   "source": [
    "### Reading files with no header\n",
    "\n",
    "In some cases, Excel files lack a header row, which can make it challenging to identify column names automatically. With pandas, you can specify that there is no header, and pandas will use integer labels by default. Additionally, if the first few rows contain irrelevant data, you can instruct pandas to skip those rows. This flexibility allows you to manage and prepare data more effectively.\n",
    "\n",
    "For example, in the Excel file below, the first four rows are not part of the actual data, and there is no header row:\n",
    "\n",
    "<figure style=\"margin: 10px;\">\n",
    "        <img src=\"Tutorial_PythonExcel/movies_no_header.jpeg\" alt=\"LibreOffice Chart\" width=\"800\"/>\n",
    "        <figcaption style=\"text-align: center;\">\n",
    "    </figure>\n",
    "    \n",
    "This file can be downloaded here: [Tutorial2xls4-adcampaigns.xlsx](https://github.com/matgithub-picardy/ExcelPythonCourse/raw/refs/heads/main/Tutorial_PythonExcel/movies_no_header.xlsx).\n",
    "    \n",
    "The python code below downloads the file and displays the first five lines of the file:"
   ]
  },
  {
   "cell_type": "code",
   "execution_count": null,
   "id": "339cdcb6",
   "metadata": {},
   "outputs": [],
   "source": [
    "import pandas as pd\n",
    "\n",
    "# Load the file without using any row as a header and skip the first four rows\n",
    "movies_skip_rows = pd.read_excel(\"Tutorial_PythonExcel/movies_no_header.xlsx\", header=None, skiprows=4)\n",
    "movies_skip_rows.head(5)"
   ]
  },
  {
   "cell_type": "markdown",
   "id": "12da59f6",
   "metadata": {},
   "source": [
    "In this code:\n",
    "- `header=None` tells pandas not to use any row as a header.\n",
    "- `skiprows=4` skips the first four rows of the Excel sheet, starting from the top.\n",
    "\n",
    "This produces a DataFrame where column names are automatically numbered. Here, we can rename the columns to meaningful labels:"
   ]
  },
  {
   "cell_type": "code",
   "execution_count": null,
   "id": "7a55b622",
   "metadata": {},
   "outputs": [],
   "source": [
    "# Assigning descriptive column names\n",
    "movies_skip_rows.columns = ['Title', 'Year', 'Genres', 'Language', 'Country', 'Content Rating', 'Duration', 'Aspect Ratio', \n",
    "                            'Budget', 'Gross Earnings', 'Director', 'Actor 1', 'Actor 2', 'Actor 3', 'Facebook Likes - Director', \n",
    "                            'Facebook Likes - Actor 1', 'Facebook Likes - Actor 2', 'Facebook Likes - Actor 3', \n",
    "                            'Facebook Likes - cast Total', 'Facebook likes - Movie', 'Facenumber in posters', \n",
    "                            'User Votes', 'Reviews by Users', 'Reviews by Critics', 'IMDB Score']\n",
    "movies_skip_rows.head()"
   ]
  },
  {
   "cell_type": "markdown",
   "id": "3b97a020",
   "metadata": {},
   "source": [
    "Now the columns are renamed, making the data easier to work with."
   ]
  },
  {
   "cell_type": "markdown",
   "id": "1b0ab57d",
   "metadata": {},
   "source": [
    "### Quiz #8\n",
    "**Which argument in read_excel is used to specify that no row should be treated as a header?**\n",
    "\n",
    "1. skiprows\n",
    "2. header\n",
    "3. skip_footer\n",
    "4. names"
   ]
  },
  {
   "cell_type": "markdown",
   "id": "01e6b799",
   "metadata": {},
   "source": [
    "<details>\n",
    "<summary>Click here to see the answer</summary>\n",
    "\n",
    "**The correct answer is:** 2. header\n",
    "\n",
    "</details>"
   ]
  },
  {
   "cell_type": "markdown",
   "id": "ac616ada",
   "metadata": {},
   "source": [
    "### Quiz #9\n",
    "**What happens when header=None is set in the read_excel function?A) It skips the first row and uses the second row as the header.**\n",
    "\n",
    "1. It skips the first row and uses the second row as the header.\n",
    "2. It skips the specified number of rows.\n",
    "3. It skips the last row in the file.\n",
    "4. It uses default numeric labels for the columns."
   ]
  },
  {
   "cell_type": "markdown",
   "id": "0e494992",
   "metadata": {},
   "source": [
    "<details>\n",
    "<summary>Click here to see the answer</summary>\n",
    "\n",
    "**The correct answer is:** 4. It uses default numeric labels for the columns.\n",
    "\n",
    "</details>"
   ]
  },
  {
   "cell_type": "markdown",
   "id": "2698c947",
   "metadata": {},
   "source": [
    "### Quiz #10\n",
    "**If you want to skip the first three rows in an Excel file, which argument should you use?**\n",
    "\n",
    "1. skiprows=3\n",
    "2. skip_footer=3\n",
    "3. header=3\n",
    "4. skip_first=3"
   ]
  },
  {
   "cell_type": "markdown",
   "id": "2b70eeba",
   "metadata": {},
   "source": [
    "<details>\n",
    "<summary>Click here to see the answer</summary>\n",
    "\n",
    "**The correct answer is:** 1. skiprows=3\n",
    "\n",
    "</details>"
   ]
  },
  {
   "cell_type": "markdown",
   "id": "e1ad9a4b",
   "metadata": {},
   "source": [
    "### Reading a subset of columns\n",
    "\n",
    "When working with large datasets, you might not need all columns in your analysis. By default, read_excel imports every column in the file, but you can customize this by specifying only the columns you want to import.\n",
    "\n",
    "To select the first seven columns, for instance, you can set usecols=6, which will include columns up to index six (column indexing starts from zero). Here’s an example: "
   ]
  },
  {
   "cell_type": "code",
   "execution_count": null,
   "id": "c12edd48",
   "metadata": {},
   "outputs": [],
   "source": [
    "import pandas as pd\n",
    "\n",
    "# Read only the first seven columns (index 0 to 6)\n",
    "movies_subset_columns = pd.read_excel(\"Tutorial_PythonExcel/movies.xlsx\", usecols=range(7))\n",
    "print(movies_subset_columns.head())"
   ]
  },
  {
   "cell_type": "markdown",
   "id": "bb2be10a",
   "metadata": {},
   "source": [
    "Alternatively, you can specify a list of specific columns to import, which provides flexibility for importing non-contiguous columns.\n",
    "\n",
    "### Applying formulas to columns\n",
    "\n",
    "A useful feature in Excel is the ability to apply formulas directly to cells, such as creating new columns based on calculations from existing ones. For example, let’s calculate the \"Net Earnings\" in a movies dataset using the \"Gross Earnings\" and \"Budget\" columns:"
   ]
  },
  {
   "cell_type": "code",
   "execution_count": null,
   "id": "abf9486e",
   "metadata": {},
   "outputs": [],
   "source": [
    "# Create a new column by calculating Net Earnings\n",
    "movies[\"Net Earnings\"] = movies[\"Gross Earnings\"] - movies[\"Budget\"]"
   ]
  },
  {
   "cell_type": "markdown",
   "id": "3833d072",
   "metadata": {},
   "source": [
    "In this code, the new column \"Net Earnings\" is created by subtracting the values in Budget from Gross Earnings.\n",
    "It’s important to note the difference between formulas in Excel and pandas: Excel formulas dynamically update if underlying data changes, while pandas stores calculated values directly in cells. If you modify a value in the \"Gross Earnings\" or \"Budget column\", \"Net Earnings\" will not automatically recalculate.\n",
    "\n",
    "To analyze the movies with the highest earnings, we can sort the data by the new column and visualize the top 10 movies by \"Net Earnings\" in a bar plot:"
   ]
  },
  {
   "cell_type": "code",
   "execution_count": null,
   "id": "a42a84dc",
   "metadata": {},
   "outputs": [],
   "source": [
    "import matplotlib.pyplot as plt\n",
    "\n",
    "# Sort and select the top 10 movies by Net Earnings\n",
    "sorted_movies = movies[['Title', 'Net Earnings']].sort_values(by='Net Earnings', ascending=False)\n",
    "sorted_movies.head(10).plot.barh(x='Title', y='Net Earnings', color='skyblue')\n",
    "plt.title('Top 10 Movies by Net Earnings')\n",
    "plt.xlabel('Net Earnings (USD)')\n",
    "plt.ylabel('Movie Title')\n",
    "plt.show()"
   ]
  },
  {
   "cell_type": "markdown",
   "id": "fd80efd4",
   "metadata": {},
   "source": [
    "### Quiz #11\n",
    "**What does the `usecols=range(7)` argument do in the read_excel function?\n",
    "\n",
    "1. Imports only the first six columns.\n",
    "2. Excludes the first six columns.\n",
    "3. Imports columns up to the seventh column (index 6).\n",
    "4. Imports columns at positions 6 to 12."
   ]
  },
  {
   "cell_type": "markdown",
   "id": "3aa8cc05",
   "metadata": {},
   "source": [
    "<details>\n",
    "<summary>Click here to see the answer</summary>\n",
    "\n",
    "**The correct answer is:** 3. Imports columns up to the seventh column (index 6).\n",
    "\n",
    "</details>"
   ]
  },
  {
   "cell_type": "markdown",
   "id": "3cfcf9ae",
   "metadata": {},
   "source": [
    "### Quiz #12\n",
    "**What is the main difference between Excel formulas and pandas calculations?**\n",
    "\n",
    "1. pandas formulas are stored within cells.\n",
    "2. Excel automatically updates calculated values, but pandas does not.\n",
    "3. pandas recalculates values if columns are modified.\n",
    "4. Excel stores values, while pandas keeps formulas in cells."
   ]
  },
  {
   "cell_type": "markdown",
   "id": "067cba0a",
   "metadata": {},
   "source": [
    "<details>\n",
    "<summary>Click here to see the answer</summary>\n",
    "\n",
    "**The correct answer is:** 2. Excel automatically updates calculated values, but pandas does not.\n",
    "\n",
    "</details>"
   ]
  },
  {
   "cell_type": "markdown",
   "id": "a515db67",
   "metadata": {},
   "source": [
    "### Quiz #13\n",
    "\n",
    "**Which of the following functions is used to sort data by a specific column in pandas?**\n",
    "\n",
    "1. sort_values()\n",
    "2. order_by()\n",
    "3. arrange()\n",
    "4. organize()"
   ]
  },
  {
   "cell_type": "markdown",
   "id": "3b2c3267",
   "metadata": {},
   "source": [
    "<details>\n",
    "<summary>Click here to see the answer</summary>\n",
    "\n",
    "**The correct answer is:** 1. sort_values()\n",
    "\n",
    "</details>"
   ]
  },
  {
   "cell_type": "markdown",
   "id": "84cb6f1e",
   "metadata": {},
   "source": [
    "### Activity #3\n",
    "Try this out on your own:\n",
    "1. Import specific columns: Read only the \"Title,\" \"Gross Earnings,\" and \"Budget\" columns from an Excel file.\n",
    "2. Calculate net earnings: Create a new column by subtracting \"Budget\" from \"Gross Earnings.\"\n",
    "3. Visualize the results: Sort the data by the \"Net Earnings\" column and visualize the top 5 entries in a bar chart.\n",
    "\n",
    "To answer the questions, you need to modify the code below."
   ]
  },
  {
   "cell_type": "code",
   "execution_count": null,
   "id": "64b82cea",
   "metadata": {},
   "outputs": [],
   "source": [
    "# Step 1: Import specific columns\n",
    "movies_data = pd.read_excel(\"Tutorial_PythonExcel/movies.xlsx\", usecols=['Column_1', 'Column_2'])\n",
    "\n",
    "# Step 2: Calculate Net Earnings\n",
    "movies_data[\"Net Earnings\"] = movies_data[\"Column_3\"] - movies_data[\"Column_4\"]\n",
    "\n",
    "# Step 3: Sort and visualize the top 5 movies by Net Earnings\n",
    "top_5_movies = movies_data.sort_values(by='Column_5', ascending=False).head(4)\n",
    "top_5_movies.plot.barh(x='Column_6', y='Column_7', color='teal')\n",
    "plt.title('Top 5 Movies by Net Earnings')\n",
    "plt.xlabel('Net Earnings (USD)')\n",
    "plt.ylabel('Movie Title')\n",
    "plt.show()"
   ]
  },
  {
   "cell_type": "markdown",
   "id": "ee34c96f",
   "metadata": {},
   "source": [
    "### Pivot tables with Pandas\n",
    "Pivot tables are powerful tools often used by advanced Excel users to summarize data by grouping values and applying operations like sorting, summing, or averaging. In pandas, you can create similar tables to analyze and organize your data efficiently.\n",
    "\n",
    "To create a pivot table in pandas, start by choosing the column(s) you want to use as the index for grouping. Then, select the column(s) containing the values to summarize. For example, let's use \"Year\" as the index and summarize data in the \"Gross Earnings\" column:"
   ]
  },
  {
   "cell_type": "code",
   "execution_count": null,
   "id": "adc5e6df",
   "metadata": {},
   "outputs": [],
   "source": [
    "# Selecting relevant columns\n",
    "movies_subset = movies[['Year', 'Gross Earnings']]\n",
    "movies_subset.head()"
   ]
  },
  {
   "cell_type": "markdown",
   "id": "b1802027",
   "metadata": {},
   "source": [
    "Now, we can use `pivot_table` with the index parameter. Here, Year is set as the index for grouping:"
   ]
  },
  {
   "cell_type": "code",
   "execution_count": null,
   "id": "469c286a",
   "metadata": {},
   "outputs": [],
   "source": [
    "# Creating a pivot table to group Gross Earnings by Year\n",
    "earnings_by_year = movies_subset.pivot_table(index='Year')\n",
    "earnings_by_year.head()"
   ]
  },
  {
   "cell_type": "markdown",
   "id": "cca54a78",
   "metadata": {},
   "source": [
    "In this example, pandas automatically uses \"Gross Earnings\" as the column for summarization, defaulting to calculate the mean. This table helps us quickly see how earnings vary across different years.\n",
    "\n",
    "To visualize this data, we can create a line plot:"
   ]
  },
  {
   "cell_type": "code",
   "execution_count": null,
   "id": "d33dc523",
   "metadata": {},
   "outputs": [],
   "source": [
    "# Visualizing the data with a line plot\n",
    "earnings_by_year.plot()\n",
    "plt.show()"
   ]
  },
  {
   "cell_type": "markdown",
   "id": "9f6a754b",
   "metadata": {},
   "source": [
    "This visualization gives a clear picture of how \"Gross Earnings\" change over the years.\n",
    "\n",
    "### Multiple index columns in pivot tables\n",
    "Pandas also lets you use multiple columns as the index, which allows for more detailed grouping. For example, if we want to examine Gross Earnings by both Country and Language, we can create a pivot table with these columns as the index."
   ]
  },
  {
   "cell_type": "code",
   "execution_count": null,
   "id": "4c831bf6",
   "metadata": {},
   "outputs": [],
   "source": [
    "# Selecting columns for a more detailed pivot table\n",
    "movies_subset = movies[['Country', 'Language', 'Gross Earnings']]\n",
    "movies_subset.head()"
   ]
  },
  {
   "cell_type": "markdown",
   "id": "c251fb74",
   "metadata": {},
   "source": [
    "Next, we use `pivot_table` with \"Country\" and \"Language\" as the indices:"
   ]
  },
  {
   "cell_type": "code",
   "execution_count": null,
   "id": "c7caac87",
   "metadata": {},
   "outputs": [],
   "source": [
    "# Grouping Gross Earnings by Country and Language\n",
    "earnings_by_co_lang = movies_subset.pivot_table(index=['Country', 'Language'])\n",
    "earnings_by_co_lang.head()"
   ]
  },
  {
   "cell_type": "markdown",
   "id": "0ed78a58",
   "metadata": {},
   "source": [
    "We can visualize this pivot table with a bar plot, showing data for the first 20 groups:"
   ]
  },
  {
   "cell_type": "code",
   "execution_count": null,
   "id": "3c28d972",
   "metadata": {},
   "outputs": [],
   "source": [
    "# Visualizing with a bar plot\n",
    "earnings_by_co_lang.head(20).plot(kind='bar', figsize=(20,8))\n",
    "plt.show()"
   ]
  },
  {
   "cell_type": "markdown",
   "id": "46421fa8",
   "metadata": {},
   "source": [
    "This plot provides an overview of Gross Earnings for various countries and languages."
   ]
  },
  {
   "cell_type": "markdown",
   "id": "bb52a499",
   "metadata": {},
   "source": [
    "### Code Explanation\n",
    "- `movies_subset = movies[['Year', 'Gross Earnings']]`: Selects only the Year and Gross Earnings columns from the movies DataFrame.\n",
    "-``pivot_table(index='Year'`: Groups data by the Year column, automatically applying the mean to Gross Earnings.\n",
    "- `earnings_by_co_lang.head(20).plot(kind='bar', figsize=(20,8)`: Plots the first 20 entries of the pivot table using a bar chart, with a customized figure size."
   ]
  },
  {
   "cell_type": "markdown",
   "id": "51bb5cfc",
   "metadata": {},
   "source": [
    "### Quiz #14\n",
    "**What does the index parameter in `pivot_table` do?**\n",
    "\n",
    "1. Groups the data by a specific column\n",
    "2. Aggregates multiple columns\n",
    "3. Selects columns to summarize\n",
    "4. Sorts data by value"
   ]
  },
  {
   "cell_type": "markdown",
   "id": "0c1734ba",
   "metadata": {},
   "source": [
    "<details>\n",
    "<summary>Click here to see the answer</summary>\n",
    "\n",
    "**The correct answer is:** 1. Groups the data by a specific column\n",
    "\n",
    "</details>"
   ]
  },
  {
   "cell_type": "markdown",
   "id": "d9ec04da",
   "metadata": {},
   "source": [
    "### Quiz #15\n",
    "**If we use two columns as the index in `pivot_table`\n",
    ", what happens?**\n",
    "\n",
    "1. Only the first column is used\n",
    "2. Data is grouped by both columns\n",
    "3. Only numeric columns are used\n",
    "4. The data table is sorted by both columns"
   ]
  },
  {
   "cell_type": "markdown",
   "id": "dcea4b8b",
   "metadata": {},
   "source": [
    "<details>\n",
    "<summary>Click here to see the answer</summary>\n",
    "\n",
    "**The correct answer is:** 2. Data is grouped by both columns\n",
    "\n",
    "</details>"
   ]
  },
  {
   "cell_type": "markdown",
   "id": "503de5ed",
   "metadata": {},
   "source": [
    "### Quiz #16\n",
    "**In a pivot table created with `pivot_table(index='Year'`, which operation is applied by default?**\n",
    "\n",
    "1. `Median`\n",
    "2. `Sum`\n",
    "3. `Mean`\n",
    "4. `Count`"
   ]
  },
  {
   "cell_type": "markdown",
   "id": "efb00084",
   "metadata": {},
   "source": [
    "<details>\n",
    "<summary>Click here to see the answer</summary>\n",
    "\n",
    "**The correct answer is:** 3. Mean\n",
    "\n",
    "</details>"
   ]
  },
  {
   "cell_type": "markdown",
   "id": "69cb5dad",
   "metadata": {},
   "source": [
    "### Activity\n",
    "1. Fix the code below to create a pivot table summarizing \"Gross Earnings\" by \"Director\" and \"Genre\".\n",
    "\n",
    "2. Update the code to include the correct columns as the index and use \"Gross Earnings\" as the values column for summarization."
   ]
  },
  {
   "cell_type": "code",
   "execution_count": null,
   "id": "21efdf9f",
   "metadata": {},
   "outputs": [],
   "source": [
    "# Current code with an error in the column selection\n",
    "earnings_by_dir_genre = movies_subset.pivot_table(index=['Director'], columns=['Genre'], values='Gross Earnings')\n",
    "earnings_by_dir_genre.head()"
   ]
  },
  {
   "cell_type": "markdown",
   "id": "a9a2eb49",
   "metadata": {},
   "source": [
    "### Exporting the results to Excel\n",
    "\n",
    "When collaborating with colleagues who use Excel, it's essential to know how to export data from pandas to an Excel file. This can be done using the to_excel method, which saves the contents of a DataFrame to an Excel file. By default, pandas includes the DataFrame’s index in the output file, though it can be omitted if it doesn't provide useful information.\n",
    "\n",
    "For example, here’s how to save the movies DataFrame to an Excel file:"
   ]
  },
  {
   "cell_type": "code",
   "execution_count": null,
   "id": "0736b625",
   "metadata": {},
   "outputs": [],
   "source": [
    "# Basic export to Excel with index included\n",
    "movies.to_excel('output.xlsx')"
   ]
  },
  {
   "cell_type": "markdown",
   "id": "2f055039",
   "metadata": {},
   "source": [
    "If you want to exclude the index, use `index=False`:"
   ]
  },
  {
   "cell_type": "code",
   "execution_count": null,
   "id": "4f03d93f",
   "metadata": {},
   "outputs": [],
   "source": [
    "# Export to Excel without including the index\n",
    "movies.to_excel('output.xlsx', index=False)"
   ]
  },
  {
   "cell_type": "markdown",
   "id": "673efd21",
   "metadata": {},
   "source": [
    "Customizing the Output File\n",
    "To make the output file visually appealing, you can apply custom formatting using the ExcelWriter class with the XlsxWriter engine. This allows you to adjust cell formatting, like setting bold headers.\n",
    "\n",
    "Here’s an example:"
   ]
  },
  {
   "cell_type": "code",
   "execution_count": null,
   "id": "c2e32b92",
   "metadata": {},
   "outputs": [],
   "source": [
    "# Setting up the ExcelWriter object and specifying the engine\n",
    "writer = pd.ExcelWriter('output.xlsx', engine='xlsxwriter')\n",
    "\n",
    "# Writing the DataFrame to the writer object\n",
    "movies.to_excel(writer, index=False, sheet_name='report')\n",
    "\n",
    "# Accessing the workbook and worksheet for formatting\n",
    "workbook = writer.book\n",
    "worksheet = writer.sheets['report']\n",
    "\n",
    "# Adding bold formatting to the header row\n",
    "header_fmt = workbook.add_format({'bold': True})\n",
    "worksheet.set_row(0, None, header_fmt)\n",
    "\n",
    "# Saving the file\n",
    "writer.save()"
   ]
  },
  {
   "cell_type": "markdown",
   "id": "82924b66",
   "metadata": {},
   "source": [
    "### Code explanation\n",
    "- `to_excel('output.xlsx', index=False`: Exports the DataFrame to an Excel file without the index.\n",
    "- `ExcelWriter('output.xlsx', engine='xlsxwriter'`: Creates an ExcelWriter object with XlsxWriter as the engine, enabling advanced formatting.\n",
    "- `add_format({'bold': True}`: Applies bold formatting to the column headers.\n",
    "- `writer.save(`: Saves the Excel file after custom formatting is applied.\n",
    "\n",
    "In this example, we save the data with bold column headers, making the file easier to read and share with colleagues."
   ]
  },
  {
   "cell_type": "markdown",
   "id": "ee0b4f8e",
   "metadata": {},
   "source": [
    "### Quiz #17\n",
    "**What does index=False do when exporting a DataFrame to Excel?**\n",
    "\n",
    "1. Removes the first column from the DataFrame\n",
    "2. Excludes the DataFrame’s index from the Excel file\n",
    "3. Adds an index to the Excel file\n",
    "4. Saves the DataFrame as a csv file instead"
   ]
  },
  {
   "cell_type": "markdown",
   "id": "50dd42fd",
   "metadata": {},
   "source": [
    "<details>\n",
    "<summary>Click here to see the answer</summary>\n",
    "\n",
    "**The correct answer is:** 2. Excludes the DataFrame’s index from the Excel file\n",
    "\n",
    "</details>"
   ]
  },
  {
   "cell_type": "markdown",
   "id": "fb316f84",
   "metadata": {},
   "source": [
    "### Quiz #18\n",
    "**What does ExcelWriter with XlsxWriter allow you to do?**\n",
    "\n",
    "1. Change the DataFrame’s structure before export\n",
    "2. Import Excel files with specific formatting\n",
    "3. Apply custom formatting to the Excel file\n",
    "4. Edit Excel files directly within pandas"
   ]
  },
  {
   "cell_type": "markdown",
   "id": "b4b50550",
   "metadata": {},
   "source": [
    "<details>\n",
    "<summary>Click here to see the answer</summary>\n",
    "\n",
    "**The correct answer is:** 3. Apply custom formatting to the Excel file\n",
    "\n",
    "</details>"
   ]
  },
  {
   "cell_type": "markdown",
   "id": "97348661",
   "metadata": {},
   "source": [
    "### Quiz #19\n",
    "**Which method should you call to save the file after applying custom formatting?**\n",
    "\n",
    "1. `to_excel(`\n",
    "2. `save()`\n",
    "3. `finish(`\n",
    "4. `export(`\n"
   ]
  },
  {
   "cell_type": "markdown",
   "id": "4d28b5e1",
   "metadata": {},
   "source": [
    "<details>\n",
    "<summary>Click here to see the answer</summary>\n",
    "\n",
    "**The correct answer is:** 2. `save()\n",
    "\n",
    "</details>"
   ]
  },
  {
   "cell_type": "markdown",
   "id": "a43b4584",
   "metadata": {},
   "source": [
    "### Activity\n",
    "Modify the code to save the movies DataFrame to an Excel file named \"styled_output.xlsx\" with the following changes:\n",
    "- Exclude the index.\n",
    "- Add a second sheet named summary that only includes columns \"Year\" and \"Gross Earnings\", formatted with bold headers."
   ]
  },
  {
   "cell_type": "code",
   "execution_count": null,
   "id": "67c28cde",
   "metadata": {},
   "outputs": [],
   "source": []
  },
  {
   "cell_type": "markdown",
   "id": "68a3c450",
   "metadata": {},
   "source": [
    "### Conclusion\n",
    "Pandas is not intended to replace Excel; on the contrary, the two tools complement each other well in a data analysis workflow. While Excel is widely used and very accessible, Pandas provides powerful tools for performing complex data manipulation and analysis that is often beyond the capabilities of Excel alone. One of the main advantages of using Python with Pandas is the ability to automate data processing, integrating it seamlessly into your data flow by writing reusable scripts. Pandas also makes it easy to read and export data to Excel files, allowing you to share results in a format familiar to colleagues who prefer Excel.\n",
    "\n",
    "Excel's popularity and accessibility make it an essential tool not to be overlooked. Acquiring expertise in both Pandas and Excel allows you to capitalise on the strengths of each tool, giving you a set of multipurpose skills that can make you a valuable asset to your organisation.\n"
   ]
  },
  {
   "cell_type": "code",
   "execution_count": null,
   "id": "2cd6a72f",
   "metadata": {},
   "outputs": [],
   "source": []
  }
 ],
 "metadata": {
  "kernelspec": {
   "display_name": "Python 3 (ipykernel)",
   "language": "python",
   "name": "python3"
  },
  "language_info": {
   "codemirror_mode": {
    "name": "ipython",
    "version": 3
   },
   "file_extension": ".py",
   "mimetype": "text/x-python",
   "name": "python",
   "nbconvert_exporter": "python",
   "pygments_lexer": "ipython3",
   "version": "3.11.4"
  }
 },
 "nbformat": 4,
 "nbformat_minor": 5
}
