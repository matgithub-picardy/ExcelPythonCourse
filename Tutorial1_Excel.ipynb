{
 "cells": [
  {
   "cell_type": "markdown",
   "id": "7a4404d1-c048-401a-b801-3efef8622b39",
   "metadata": {
    "slideshow": {
     "slide_type": ""
    },
    "tags": []
   },
   "source": [
    "# Tutorial 1: The Basics of Excel for Economists</font> <a id='home'></a>\n",
    "Excel is a powerful tool for economists, businesses, and policymakers. It allows users to manage and analyze large datasets, perform complex calculations, and visualize trends. For economists, Excel is an essential tool for tasks such as forecasting, budget analysis, econometric modeling, and financial planning. It is widely used in firms for financial reporting, data analysis, and decision-making. From analyzing market trends to tracking expenses, Excel provides versatile functionality that supports efficient decision-making in economic contexts.\n",
    "\n",
    "**Key applications of Excel in economics include:**\n",
    "\n",
    "- **Data analysis:** Cleaning, organizing, and analyzing data from surveys, government reports, and financial records.\n",
    "- **Modeling:** Building economic models, such as demand-supply models, optimization problems, or cost-revenue analysis.\n",
    "- **Forecasting:** Creating projections for economic variables such as inflation, GDP growth, or unemployment.\n",
    "- **Visualization:** Creating charts and graphs to illustrate economic trends or compare financial scenarios.\n",
    "\n",
    "With Excel, you can work with datasets and use built-in tools for functions, statistical analysis, and even integrate it with other software for advanced data processing.\n",
    "\n",
    "\n",
    "1. [The basics of Excel](#basics) ([quizzes](#quiz1-3) #1 #2 #3)\n",
    "2. [Getting started with Excel](#started) ([quizzes](#quiz4-6) #4 #5 #6)\n",
    "3. [Create your first file and navigate excel](#create) ([quizzes](#quiz7-8) #7 #8)\n",
    "4. [Data entry and correction](#correction) ([quizzes](#quiz9-11) #9 #10 #11)\n",
    "4. [Creating and copying formulas](#formulas) ([quizzes](#quiz12-17) #12 #13 #14 #15 #16 #17)\n",
    "5. [Activity to test your learning comprehension](#test)\n",
    "\n",
    "This tutorial lets you interact by:\n",
    "- modifying elements directly in the cells, \n",
    "- take quizzes,\n",
    "- and testing examples directly in your own spreadsheet on your computer (Excel, LibreOffice, etc.).\n",
    "\n",
    "## The basics of Excel <a id=\"basics\"></a> ([top](#home))\n",
    "\n",
    "**Best practices**\n",
    "1. **Starting Excel:** Launch Excel\n",
    "2. **Creating a new workbook:** A workbook can contain multiple sheets, ideal for separating data by economic variable or analysis type.\n",
    "3. **Entering data:** Input raw data such as economic indicators, prices, or time-series data into cells to start your analysis.\n",
    "4. **Creating calculation formulas:** Use formulas to perform operations like calculating the average inflation rate, adding up total sales, or performing growth rate calculations. Inputting Values in Formulas: Make sure values are accurate to avoid misleading economic interpretations.\n",
    "5. **Formatting the table:** Format data for better readability—highlight important figures such as GDP growth or unemployment rates with bold or color-coding.\n",
    "6. **Page setup:** Format your file for printing or sharing by adjusting the layout to include relevant titles, notes, and scales.\n",
    "7. **Saving the file:** Regularly save your workbook to avoid losing important economic data and analyses.\n",
    "\n",
    "\n",
    "**Key definitions**\n",
    "- **Spreadsheet:** The foundation of data organization in Excel, with 16,384 columns and 1,048,576 rows. This space allows the storage and analysis of vast amounts of economic data, such as trade balances or population statistics.\n",
    "- **Workbook:** The \"file\" where all your data, sheets, and analyses are stored. Use separate sheets for different parts of your economic analysis—such as macroeconomic data on one sheet and microeconomic trends on another.\n",
    "    - _best practice:_ Group columns when handling wide datasets, like international trade flows or multi-year financial data, to keep your workbook organized.\n",
    "- **Cell:** The basic unit in Excel, representing a single data point, such as GDP for a specific country at a specific time.\n",
    "    - _best practice:_ When working with large datasets, such as historical economic data, freeze rows or columns (e.g., the top row or first column) to keep headers visible during scrolling.\n",
    "- **Formula:** A custom-written expression used to perform calculations, often utilized to derive financial ratios, calculate percentage changes, or conduct elasticity analysis in economics.\n",
    "    - _best practice:_ Always correct formula errors directly in the formula bar to ensure the accuracy of your data. Avoid leaving blank columns or rows within your data to prevent errors in calculations.\n",
    "- **Function:** A built-in tool for quick data analysis, ranging from basic functions like `SUM()` and `AVERAGE()`, which calculates revenues or average household income, to more complex functions like `IF()` for setting conditions in economic models (e.g., conditional scenarios based on thresholds).\n",
    "    - _best practice:_ Use functions to streamline data analysis and ensure consistency in your models, especially for large datasets like national accounts.\n",
    "- **AutoFill:** Excel’s feature that allows you to quickly create logical sequences of data, such as years or months, making it useful for time-series data in economics.\n",
    "    - _best practice:_ Use AutoFill to automatically populate data in time-series analyses, reducing manual errors when handling sequential data points."
   ]
  },
  {
   "cell_type": "markdown",
   "id": "2ad19f90-a33e-4872-b4ee-cc008998d120",
   "metadata": {
    "slideshow": {
     "slide_type": ""
    },
    "tags": [
     "hide"
    ]
   },
   "source": [
    "### Quiz #1<a id=\"quiz1-3\"></a> ([top](#home))\n",
    "What is the basic unit in Excel used to store data?"
   ]
  },
  {
   "cell_type": "markdown",
   "id": "61a367d5-13ed-4523-98db-38370f1b5531",
   "metadata": {},
   "source": [
    "<details>\n",
    "<summary>Click here to see the answer</summary>\n",
    "\n",
    "**The correct answer is:** Cell\n",
    "\n",
    "</details>"
   ]
  },
  {
   "cell_type": "markdown",
   "id": "9f898264-e066-4c35-94c6-0f307824d2e4",
   "metadata": {
    "slideshow": {
     "slide_type": ""
    },
    "tags": [
     "hide"
    ]
   },
   "source": [
    "### Quiz #2\n",
    "Which built-in function would you use to calculate the sum of trade balances?"
   ]
  },
  {
   "cell_type": "markdown",
   "id": "22182bb3-ef66-426a-8d4e-96f7b7828e5a",
   "metadata": {},
   "source": [
    "<details>\n",
    "<summary>Click here to see the answer</summary>\n",
    "\n",
    "**The correct answer is:** SUM()\n",
    "\n",
    "</details>"
   ]
  },
  {
   "cell_type": "markdown",
   "id": "43d810ed-19e6-411c-8082-648367bb7421",
   "metadata": {
    "slideshow": {
     "slide_type": ""
    },
    "tags": [
     "hide"
    ]
   },
   "source": [
    "### Quiz #3\n",
    "What feature helps you keep column or row headers visible when scrolling through long datasets?"
   ]
  },
  {
   "cell_type": "markdown",
   "id": "3e6d49d7-90d6-42ec-9ddb-d52b9cfe7402",
   "metadata": {},
   "source": [
    "<details>\n",
    "<summary>Click here to see the answer</summary>\n",
    "\n",
    "**The correct answer is:**\n",
    "Freeze Panes\n",
    "\n",
    "</details>"
   ]
  },
  {
   "cell_type": "markdown",
   "id": "a34aaa89-e679-4490-bf5e-cfa2baf1fd14",
   "metadata": {
    "slideshow": {
     "slide_type": ""
    },
    "tags": []
   },
   "source": [
    "## Getting started with Excel <a id=\"started\"></a> ([top](#home))\n",
    "\n",
    "\n",
    "To start working with Excel, you first need to launch the application. There are three ways to do this:\n",
    "- Launch Excel from your desktop: Double-click the Excel shortcut icon on your desktop.\n",
    "- Launch Excel from the Start menu: Click the Start button at the bottom-left corner of your screen. Scroll through the installed programs until you reach Excel under \"E\".\n",
    "- Type \"Excel\" in the search bar if you can't find it.\n",
    "\n",
    "### Create a new workbook\n",
    "When Excel opens, you'll see the \"Home\" screen. Here, you can:\n",
    "- Create a new workbook by selecting \"New Workbook\"\n",
    "- Or use a template from the template gallery, and explore the \"New\" section to see a variety of pre-made options.\n",
    "\n",
    "\n",
    "### Saving a workbook\n",
    "Once you’ve created your first workbook, it's important to save it. Here's how:\n",
    "- Click the Save icon (a small disk icon) in the Quick Access Toolbar. The Save As dialog box will appear.\n",
    "- Rename the file (e.g., \"My First Workbook\").\n",
    "- Choose a location to save it (e.g., on your computer or OneDrive).\n",
    "- Click Save.\n",
    "\n",
    "You can also use the shortcut Ctrl + S to save your work quickly.\n",
    "\n",
    "### Practice\n",
    "Try saving a workbook with the name \"My First Workbook\".\n",
    "\n",
    "Tip: Use the keyboard shortcut Ctrl + S to save your workbook.\n",
    "\n",
    "### Closing excel\n",
    "Now that you’ve created and saved a workbook, you can close it:\n",
    "- Go to the File tab and select Close.\n",
    "- Alternatively, click the X button in the upper-right corner of the Excel window. This will close the workbook and exit Excel.\n",
    "\n",
    "### Summary\n",
    "- To open Excel, you can double-click the desktop shortcut or find it in the Start menu.\n",
    "- To save a workbook, click the Save icon or press Ctrl + S.\n",
    "- To close Excel, use the File > Close option or the X button.\n",
    "\n",
    "\n",
    "Congratulations! You've completed the basics of launching, creating, saving, and closing a workbook in Excel. Ready for the next chapter? Let's dive into more features!"
   ]
  },
  {
   "cell_type": "markdown",
   "id": "2189ecb2-ac29-446c-8a2b-931353b29b46",
   "metadata": {
    "slideshow": {
     "slide_type": ""
    },
    "tags": []
   },
   "source": [
    "### Quiz #4<a id=\"quiz4-6\"></a> ([top](#home))\n",
    "\n",
    "**How do you open Excel?**\n",
    "1. By pressing Ctrl+E\n",
    "2.  By double-clicking the Excel shortcut on your desktop\n",
    "3.  By running Python code\n"
   ]
  },
  {
   "cell_type": "markdown",
   "id": "d62edba0-c637-4724-a348-1a9a9b0debd2",
   "metadata": {
    "slideshow": {
     "slide_type": ""
    },
    "tags": []
   },
   "source": [
    "<details>\n",
    "<summary>Click here to see the answer</summary>\n",
    "\n",
    "The correct answer is 2. By double-clicking the Excel shortcut on your desktop.\n",
    "\n",
    "</details>\n"
   ]
  },
  {
   "cell_type": "markdown",
   "id": "25a62784-367e-471e-a50b-2fc68f68a255",
   "metadata": {
    "slideshow": {
     "slide_type": ""
    },
    "tags": []
   },
   "source": [
    "### Quiz #5\n",
    "\n",
    "**How do you save a workbook?**\n",
    "1. By pressing Ctrl + S or clicking the Save icon\n",
    "2. By pressing Ctrl + P for printing"
   ]
  },
  {
   "cell_type": "markdown",
   "id": "51d57338-c7b9-4613-adc3-d3fd96737430",
   "metadata": {
    "slideshow": {
     "slide_type": ""
    },
    "tags": []
   },
   "source": [
    "<details>\n",
    "<summary>Click here to see the answer</summary>\n",
    "\n",
    "The correct answer is 1. By pressing Ctrl + S or clicking the Save icon\n",
    "\n",
    "</details>\n"
   ]
  },
  {
   "cell_type": "markdown",
   "id": "919f7e85-c4b3-4d4f-885f-c6890283756e",
   "metadata": {
    "slideshow": {
     "slide_type": ""
    },
    "tags": []
   },
   "source": [
    "### Quiz #6\n",
    "\n",
    "**Which tab allows you to close a workbook?**\n",
    "1. File\n",
    "2. Home"
   ]
  },
  {
   "cell_type": "markdown",
   "id": "dfd2403f-8876-4831-8421-249f215c3954",
   "metadata": {
    "slideshow": {
     "slide_type": ""
    },
    "tags": []
   },
   "source": [
    "<details>\n",
    "<summary>Click here to see the answer</summary>\n",
    "\n",
    "The correct answer is 1. File\n",
    "\n",
    "</details>\n"
   ]
  },
  {
   "cell_type": "markdown",
   "id": "9d0455a4-a99e-4726-85f1-3cfb17c323ec",
   "metadata": {},
   "source": [
    "## Create your first file and navigate excel <a id=\"create\"></a> ([top](#home))\n",
    "Now that you've launched Excel and created a new workbook, let's explore the key elements of the program window. We'll go step-by-step so that you can easily navigate the interface and master the basics.\n",
    "\n",
    "### The columns and rows\n",
    "An Excel window contains a large grid made up of columns and rows:\n",
    "- Columns are identified by letters: A, B, C...\n",
    "- Rows are identified by numbers: 1, 2, 3...\n",
    "\n",
    "Each cell is located at the intersection of a column and a row. For example, in the image below, the selected cell is A1, at the intersection of column A and row 1.\n",
    "\n",
    "<img src=\"create_excel_1.jpeg\" alt=\"Chart Image\" width=\"400\">\n"
   ]
  },
  {
   "cell_type": "markdown",
   "id": "0e6048ec-3b19-4491-b1b6-adf6e39220ae",
   "metadata": {},
   "source": [
    "### The spreadsheet\n",
    "In fact, a worksheet contains far more columns and rows than what you see on the screen. Excel has:\n",
    "- 16,384 columns (from A to XFD)\n",
    "- 1,048,576 rows\n",
    "\n",
    "These make up a single worksheet.\n",
    "\n",
    "At the intersection of each column and row, you'll find the basic element of a spreadsheet: the cell. To identify a cell, note the intersection of the column and the row where the selected cell is located. The selected cell in the example above is A1.\n",
    "\n",
    "### Select a cell\n",
    "Now that you know how to navigate a spreadsheet, you can select another cell.\n",
    "\n",
    "Try it: Click on cell C3! Cell C3 appears with a thicker border. It is now the active cell, and its reference appears in the formula bar.\n",
    "\n",
    "To select multiple cells (for example, from C3 to F6), click on C3 and, while holding down the left mouse button, drag to F6.\n",
    "\n",
    "<img src=\"create_excel_2.jpeg\" alt=\"Chart Image\" width=\"500\">\n",
    "\n",
    "Alternatively, you can:\n",
    "- Click on C3.\n",
    "- Hold the Shift key.\n",
    "- Click on F6.\n",
    "\n",
    "This selection is called a range of cells.\n",
    "\n",
    "Now, practice selecting the range B4:D9 (remember the notation!).\n",
    "\n",
    "### Select non-adjacent cells\n",
    "To select cells that are not next to each other (e.g., C3, C6, F3, and F6), follow these steps:\n",
    "- Click on C3.\n",
    "- Hold the Ctrl key.\n",
    "- Click on C6, F3, and F6.\n",
    "\n",
    "This is called a multiple selection.\n",
    "\n",
    "**Note:** on the Mac, the key Command is used. The commands suggested in this tutorial are not valid on all environments (Windows, Mac or Linux) or for all software (Excel, LibreOffice, etc.), but you can easily find them by trying out different commands (Shift, Ctrl, or Command) or by searching the Internet, asking ChatGPT, etc.\n",
    "\n",
    "### Select columns and rows\n",
    "To select a whole column, click on the letter header of the column (e.g., click C to select column C). To select multiple columns (e.g., C, D, and E), click on column C and drag across to column E.\n",
    "\n",
    "<img src=\"create_excel_3.jpeg\" alt=\"Chart Image\" width=\"500\">\n",
    "\n",
    "To select rows, click on the number header of the row (e.g., click 3 to select row 3). Drag to select multiple rows (e.g., rows 3 to 5).\n",
    "\n"
   ]
  },
  {
   "cell_type": "markdown",
   "id": "17ee5d93-39f3-496d-92a3-cf4490c4e832",
   "metadata": {},
   "source": [
    "<details>\n",
    "<summary>Click here to see the answer</summary>\n",
    "The correct answer is 1. B4.\n",
    "\n",
    "</details>"
   ]
  },
  {
   "cell_type": "markdown",
   "id": "09121913-1607-4390-9ef4-6ca137266d79",
   "metadata": {
    "slideshow": {
     "slide_type": ""
    },
    "tags": []
   },
   "source": [
    "### Quiz #7<a id=\"quiz7-8\"></a> ([top](#home))\n",
    "\n",
    "**What is the reference of the cell located at the intersection of column B and row 4?**\n",
    "1. B4\n",
    "2. 4B\n",
    "3. 4, B\n",
    "4. Column 4, Row B"
   ]
  },
  {
   "cell_type": "markdown",
   "id": "ae281551-a4a1-4399-919a-104ed2541545",
   "metadata": {},
   "source": [
    "### Quiz #8\n",
    "**To select a non-adjacent range of cells (e.g., B2, D2, F2), which key should you hold while clicking the cells?***\n",
    "1. Shift\n",
    "2. Ctrl\n",
    "3. Alt"
   ]
  },
  {
   "cell_type": "markdown",
   "id": "6e7d4915-95ae-4b38-a0fb-8efc65e3cb11",
   "metadata": {},
   "source": [
    "<details> <summary>Click here to see the answer</summary>\n",
    "Answer: The correct answer is 2. Ctrl.\n",
    "\n",
    "</details>"
   ]
  },
  {
   "cell_type": "markdown",
   "id": "44836033-c979-40e2-bb81-9e430227b815",
   "metadata": {},
   "source": [
    "## Data entry and correction <a id=\"correction\"></a> ([top](#home))\n",
    "You can enter any content you wish in a cell: a number, text, a date, time, or even an alphanumeric entry (combination of text and numbers).\n",
    "    \n",
    "A cell can also contain a formula for calculation. You can create a simple calculation formula to add, subtract, multiply, or divide values in your spreadsheet. A formula is easily recognizable because it always begins with the = symbol. We’ll come back to this later.\n",
    "\n",
    "To enter data in a cell, there’s nothing special you need to do. Simply select the cell where you want the data to appear. In Excel, this is commonly referred to as the destination cell.\n",
    "\n",
    "Let’s enter the word Excel into cell C3.\n",
    "- Select cell C3 by clicking on it — this is your destination cell.\n",
    "- Type the word Excel.\n",
    "\n",
    "<img src=\"create_excel_4.jpeg\" alt=\"Chart Image\" width=\"400\">\n",
    "\n",
    "- Validate with Enter or by clincking on the icon :\n",
    "\n",
    "<img src=\"create_excel_5.jpeg\" alt=\"Chart Image\" width=\"250\">\n",
    "\n",
    "**Entering a number:** Enter the number 2024 into cell C4:\n",
    "- Select cell C4.\n",
    "- Type `2024`.\n",
    "\n",
    "**Entering alphanumeric data:** Enter Excel 2019 into cell C5\n",
    "- Select cell C5.\n",
    "- Type Excel 2024.\n",
    "\n",
    "**Entering a date:** Enter the date 08/11/2024 into cell C6. To enter a date, you need to follow the date format used by Excel and use a slash / to separate the day, month, and year:\n",
    "- Select cell C6.\n",
    "- Type 08/11/2024.\n",
    "\n",
    "**Entering time:** Enter the time 12:00 into cell C7:\n",
    "To enter a time, follow the format used by Excel. Use a colon : to separate hours and minutes:\n",
    "- Select cell C7.\n",
    "- Type 12:00.\n",
    "\n",
    "<img src=\"create_excel_6.jpeg\" alt=\"Chart Image\" width=\"500\">"
   ]
  },
  {
   "cell_type": "markdown",
   "id": "3985c831",
   "metadata": {},
   "source": [
    "### Delete data in Excel\n",
    "In Excel, there are two common ways to delete data from a cell:\n",
    "\n",
    "- **Using the delete key**\n",
    "    - Select the cell with the data you want to delete.\n",
    "    - Press the Delete key on your keyboard.\n",
    "- **Right clicking**\n",
    "    - Select the cell\n",
    "    - Right-click, choose Delete and select the effect on adjàacent cells, columns and rows\n",
    "    <img src=\"create_excel_7.jpeg\" alt=\"Chart Image\" width=\"300\">\n"
   ]
  },
  {
   "cell_type": "markdown",
   "id": "8c73b0ef",
   "metadata": {},
   "source": [
    "### Correct data in Excel\n",
    "If you make a mistake while entering data in Excel, you don’t need to delete everything. You can easily correct it directly in the formula bar.\n",
    "\n",
    "To correct a mistake, follow these steps:\n",
    "\n",
    "1. Select the cell containing the incorrect data.\n",
    "2. Click in the Formula Bar at the top of Excel.\n",
    "3. If the cursor (|) is not in the right place, use the arrow keys on your keyboard to move it.\n",
    "4. Make the necessary corrections.\n",
    "5. Press the Enter key to confirm the changes\n",
    "      <img src=\"create_excel_8.jpeg\" alt=\"Chart Image\" width=\"300\">"
   ]
  },
  {
   "cell_type": "markdown",
   "id": "6ecd89a8",
   "metadata": {},
   "source": [
    "### Copy data in Excel\n",
    "\n",
    "Copying data is a basic but essential function in Excel. You can use the traditional copy-paste method, but Excel offers more efficient ways to copy data, such as **simple copying**, **incremental copying**, **customized incremental copying**, and **automatic copying**.\n",
    "\n",
    "Let's explore these different methods!\n",
    "\n",
    "#### Using the fill handle\n",
    "When you select a cell in Excel, the fill handle appears at the bottom-right corner of the cell. See below:\n",
    "<img src=\"create_excel_9.jpeg\" alt=\"Chart Image\" width=\"300\">\n",
    "\n",
    "You can use the fill handle to copy data into other cells. Here are the steps:\n",
    "- Select a cell with data.\n",
    "- Position your cursor at the bottom-right corner of the cell.\n",
    "- Click and drag the fill handle down or to the right.\n",
    "- The data will be copied to the other cells.\n",
    "\n",
    "Try it in Excel!\n",
    "\n",
    "\n",
    "#### Increment data\n",
    "If you want Excel to increment your data automatically, you can use the Ctrl (Windows) or Cmd (Mac) key while dragging the fill handle:\n",
    "- Enter a value in a cell (e.g., 5).\n",
    "- Select the cell, then position the cursor on the bottom-right corner.\n",
    "- Hold the Ctrl key (Windows) or Cmd key (Mac) while dragging the fill handle down or across.\n",
    "\n",
    "Excel will automatically increment the value by 1 for each cell.\n",
    "\n",
    "If you need to increment data by a specific step (not just by 1), you can define the step yourself by entering two values in adjacent cells:\n",
    "- Enter the first value (e.g., 10) in a cell.\n",
    "- In the adjacent cell (to the right or below), enter the second value with the desired increment (e.g., 20).\n",
    "- Select both cells.\n",
    "- Drag the fill handle across or down. Excel will recognize the increment between the two cells and apply it across all selected cells.\n",
    "\n",
    "In this example, Excel will increment the values by 10.\n",
    "\n",
    "<img src=\"create_excel_10.jpeg\" alt=\"Chart Image\" width=\"700\">"
   ]
  },
  {
   "cell_type": "markdown",
   "id": "4e5c5629",
   "metadata": {},
   "source": [
    "### Quiz #9<a id=\"quiz9-11\"></a> ([top](#home))\n",
    "\n",
    "**Question: What is the easiest way to copy data to other cells without changing the value?**\n",
    "\n",
    "1. Use the fill handle and drag.\n",
    "2. Use the copy-paste method.\n",
    "3. Type the values manually.\n",
    "4. Use the `Ctrl` or `Cmd` key while dragging."
   ]
  },
  {
   "cell_type": "markdown",
   "id": "f752022e",
   "metadata": {},
   "source": [
    "<details> <summary>Click here to see the answer</summary>\n",
    "Answer: The correct answer is 1. Use the fill handle and drag.\n",
    "\n",
    "</details>"
   ]
  },
  {
   "cell_type": "markdown",
   "id": "f706b729",
   "metadata": {},
   "source": [
    "### Quiz #10\n",
    "**Question: What key do you press to make Excel automatically increment data while using the fill handle?**\n",
    "1. Alt\n",
    "2. Shift\n",
    "3. Ctrl (Windows) or Cmd (Mac)\n",
    "4. Esc"
   ]
  },
  {
   "cell_type": "markdown",
   "id": "b811a023",
   "metadata": {},
   "source": [
    "<details> <summary>Click here to see the answer</summary>\n",
    "Answer: The correct answer is 3. Ctrl (Windows) or Cmd (Mac)\n",
    "\n",
    "</details>"
   ]
  },
  {
   "cell_type": "markdown",
   "id": "09c786c2",
   "metadata": {},
   "source": [
    "### Quiz #11\n",
    "**Question: How do you increment by a custom value (e.g., by 10) in Excel?**\n",
    "1. Enter the same value in two adjacent cells and drag the fill handle.\n",
    "2. Enter two values with a difference, select both, and drag the fill handle.\n",
    "3. Use the Alt key while dragging the fill handle.\n",
    "4. Manually type the next value in each cell."
   ]
  },
  {
   "cell_type": "markdown",
   "id": "1279cd97",
   "metadata": {},
   "source": [
    "<details> <summary>Click here to see the answer</summary>\n",
    "Answer: The correct answer is 2. Enter two values with a difference, select both, and drag the fill handle.\n",
    "\n",
    "</details>"
   ]
  },
  {
   "cell_type": "markdown",
   "id": "528779e7",
   "metadata": {},
   "source": [
    "## Creating and copying formulas <a id=\"formulas\"></a> ([top](#home))\n",
    "\n",
    "Copying cells may now seem simple, but be careful when the cells you’re copying contain **formulas**! \n",
    "\n",
    "Let’s go through an example to help you understand how to create and copy formulas efficiently. We’ll use a scenario where you're managing a team analyzing digital product sales. You’ll calculate revenue (revenue = quantity sold × price) for different digital products using Excel.\n",
    "\n",
    "---\n",
    "\n",
    "### Example: calculate and copy a simple formula\n",
    "Below is an example of a platform revenue table, where you're calculating the monthly revenue for a digital platform. The platform hosts several vendors selling digital products through a subscription model. For each vendor, you have the number of subscribers and the monthly subscription fee, so you can calculate the monthly revenue for each vendor using the formula:\n",
    "\n",
    "$$\\text{Revenue} = \\text{Subscribers} \\times \\text{Subscription Fee}\n",
    "$$\n",
    "\n",
    "The table below shows real figures:\n",
    "\n",
    "| Vendor  | Number of <br> subscribers | Monthly subscription <br> fee (USD) | Monthly revenue<br> (USD) |\n",
    "|---------|-----------------------|-------------------------------|-----------------------|\n",
    "| Vendor A| 1,200                 | 15                            | 18,000                |\n",
    "| Vendor B| 980                   | 10                            | 9,800                 |\n",
    "| Vendor C| 1,500                 | 12                            | 18,000                |\n",
    "| Vendor D| 750                   | 25                            | 18,750                |\n",
    "| Vendor E| 1,800                 | 8                             | 14,400                |\n",
    "| Vendor F| 1,100                 | 20                            | 22,000  \n",
    "\n",
    "You can copy and paste this table directly in Excel. The price per unit for each product is in **column E** (cells E4 to E9):\n",
    "<img src=\"create_excel_12.jpeg\" alt=\"Chart Image\" width=\"550\">\n",
    "\n",
    "Now, you want to calculate the total **revenue (column F)** by yourself to verify the previous numbers. Let's walk through creating and copying this formula:\n",
    "1. **Select the destination cell** where you want the result to appear. Here: **cell E4**.\n",
    "\n",
    "2. Type `=`. Remember, every formula in Excel begins with the equals sign.\n",
    "\n",
    "3. **Click on cell C4** to retrieve the content of cell C4 where the quantity sold is located\n",
    "\n",
    "4. Type `*` for multiplication\n",
    "\n",
    "5. **Click on cell D4** to retrieve the content of cell D4 where the price per digital product is located\n",
    "\n",
    "6. **Enter** to validate the formula.\n",
    "\n",
    "Great! You've just created your first formula!\n",
    "\n",
    "---\n",
    "\n",
    "### Verifying your first formula\n",
    "\n",
    "The result will appear in **cell E4** and the formula `=C4*D4` is visible in the formula bar.\n",
    "\n",
    "Now, instead of repeating these steps for each vendor, you can **copy** the formula from E4 to the cells below (E5 to E9). Let’s see how:\n",
    "\n",
    "1. **Select cell E4**, where you’ve just created the formula.\n",
    "2. Hover oover the bottom-right corner of the cell until you see the fill handle (a small square).\n",
    "3. **Click and drag** the fill handle down to **cell E9**.\n",
    "\n",
    "Excel will automatically calculate the revenue for each vendor by adjusting the formula for each row, using **relative references**. This is a huge time-saver, especially when working with large datasets!\n",
    "\n",
    "<img src=\"create_excel_13.jpeg\" alt=\"Chart Image\" width=\"550\">\n",
    "\n",
    "---\n",
    "\n",
    "### Why does this work?\n",
    "When you drag the fill handle to copy the formula, Excel automatically adjusts the cell references for each new row. This is because you’re using **relative references**, which means the references shift based on the new cell’s position.\n",
    "\n",
    "For example:\n",
    "- In **cell E4**, the formula is `=C4*D4`.\n",
    "- When copied to **cell E5**, the formula becomes `=C5*D5`.\n",
    "- Similarly, in **cell E9**, the formula becomes `=C9*D9`.\n",
    "\n",
    "**Relative references** are useful when you want to apply the same operation (such as calculating revenue) across multiple rows of data.\n",
    "\n",
    "\n",
    "### Absolute vs. Relative references\n",
    "While relative references are great for many scenarios, there are times when you might want to prevent Excel from adjusting certain references when copying formulas. This is where **absolute references** (using `$`) or mixed references come into play:\n",
    "- Absolute reference: `$C$4` keeps the reference fixed when copying.\n",
    "- Mixed reference: `$C4` or `C$4` fixes either the row or the column.\n",
    "\n",
    "Let's illustrate this with an example, focusing on a platform's revenue.\n",
    "\n",
    "**Example:** Imagine you are tracking the revenue of a digital service platform that offers a subscription model. You want to calculate the revenue generated by each type of vendor based on the number of subscribers and the monthly subscription fee.\n",
    "\n",
    "| Vendor  | Number of <br> subscribers | Subscription <br> fee (USD)| Monthly revenue <br> (USD)| \n",
    "|---------|----------------------------|----------------------------|---------------------------|\n",
    "| Vendor A| 1,200\t                   | 15\t                        | = C2 * D8                 |\n",
    "| Vendor B| 980\t                       | 10\t                        | = C3 * D8                 |\n",
    "| Vendor C| 1,500                      | 12\t                        | = C4 * D8                 |\n",
    "\n",
    "**Warning:** If you copy and paste this table directly, check that the formulas point to the cells in which you copied and pasted.\n",
    "\n",
    "In this case, we would like to apply the same fee (stored in cell, let's say, `B8`) across multiple vendors. The formula for Vendor A in the \"Monthly Revenue\" column might be written as `= C2 * D8` (multiplying the number of subscribers by the subscription fee). However, if you copy this formula down without adjusting the cell reference for the fee (`D8`), you will run into errors as the reference to `D8` shifts.\n",
    "\n",
    "If you copy the formula without making `D1` absolute, Excel will automatically update the references. To ensure that the reference to D1 remains constant, use` $D$1` in your formula. This way, when you copy the formula for other vendors, the reference to D1 stays the same, while the reference to the number of subscribers (e.g., C2, C3, etc.) updates correctly.\n",
    "\n",
    "**Activity:** Follow these steps to set up your spreadsheet and calculate the platform's monthly revenue:\n",
    "- Enter the number of subscribers for each vendor in column C.\n",
    "- In cell `D1`, enter the subscription fee, for example, `$15`.\n",
    "- In cell `E2`, enter the formula:`= C2 * $D$1`.\n",
    "Copy the formula from E2 down to calculate the monthly revenue for all vendors.\n",
    "\n"
   ]
  },
  {
   "cell_type": "markdown",
   "id": "2fbb0b18",
   "metadata": {},
   "source": [
    "### Quiz #12<a id=\"quiz12-17\"></a> ([top](#home))\n",
    "\n",
    "**Question: You are tracking the sales of digital subscriptions. If you have the quantity of subscriptions sold in column C and the price per subscription in column D, how would you calculate total revenue for each vendor?**\n",
    "\n",
    "1. Enter `=C4+D4` and copy it.\n",
    "2. Enter `=C4*D4` and copy it.\n",
    "3. Enter `=C4/D4` and manually type the formula for each row.\n",
    "4. Use the `SUM` function to calculate revenue."
   ]
  },
  {
   "cell_type": "markdown",
   "id": "7c607219",
   "metadata": {},
   "source": [
    "<details> <summary>Click here to see the answer</summary>\n",
    "Answer: The correct answer is 2. Enter `=C4*D4` and copy it.\n",
    "\n",
    "</details>"
   ]
  },
  {
   "cell_type": "markdown",
   "id": "e2e31662",
   "metadata": {},
   "source": [
    "### Quiz #13\n",
    "**Question: What is the key difference between relative and absolute cell references?**\n",
    "1. Relative references never change when copied.\n",
    "2. Absolute references never change when copied.\n",
    "3. Both references change when copied."
   ]
  },
  {
   "cell_type": "markdown",
   "id": "fe09ce56",
   "metadata": {},
   "source": [
    "<details> <summary>Click here to see the answer</summary>\n",
    "Answer: The correct answer is 2. Absolute references never change when copied.\n",
    "\n",
    "</details>"
   ]
  },
  {
   "cell_type": "markdown",
   "id": "deecc833",
   "metadata": {},
   "source": [
    "### Quiz #14\n",
    "What would happen if you didn’t make an absolute reference to a cell in the formula?\n",
    "1. The formula would correctly calculate revenue for each vendor.\n",
    "2. The formula would reference the wrong cells when copied down.\n",
    "3. Excel would show an error."
   ]
  },
  {
   "cell_type": "markdown",
   "id": "d18a249f",
   "metadata": {},
   "source": [
    "<details> <summary>Click here to see the answer</summary>\n",
    "Answer: The correct answer is 2. The formula would reference the wrong cells when copied down.\n",
    "\n",
    "</details>"
   ]
  },
  {
   "cell_type": "markdown",
   "id": "d9e47a5c",
   "metadata": {},
   "source": [
    "### Quiz #15\n",
    "Why would Excel generate a #VALUE! error when copying a formula that references a subscription fee in cell `D1` down multiple rows?\n",
    "1. The formula uses a relative reference, causing Excel to reference empty or text-filled cells.\n",
    "2. The number of subscribers is too high.\n",
    "3. The formula was typed incorrectly."
   ]
  },
  {
   "cell_type": "markdown",
   "id": "b9e8c5f5",
   "metadata": {},
   "source": [
    "<details> <summary>Click here to see the answer</summary>\n",
    "Answer: The correct answer is 1. The formula uses a relative reference, causing Excel to reference empty or text-filled cells.\n",
    "\n",
    "</details>"
   ]
  },
  {
   "cell_type": "markdown",
   "id": "b5f2db38",
   "metadata": {},
   "source": [
    "### Quiz #16\n",
    "You have entered a formula `=C2 * $D$1` in cell `E2` to calculate the monthly revenue. What will the formula look like if you copy it to cell `E6`?\n",
    "1. `=C6 * $D$1`\n",
    "2. `=C6 * D6`\n",
    "3. `=C2 * D2`"
   ]
  },
  {
   "cell_type": "markdown",
   "id": "6f4e7de8",
   "metadata": {},
   "source": [
    "<details> <summary>Click here to see the answer</summary>\n",
    "Answer: The correct answer is 1. =C6 * $D$1.\n",
    "\n",
    "</details>\n"
   ]
  },
  {
   "cell_type": "markdown",
   "id": "86b06294",
   "metadata": {},
   "source": [
    "### Quiz #17\n",
    "Why is it important to ensure that subscription fee references remain constant when calculating revenue across multiple vendors?\n",
    "1. To avoid recalculating the fee for each vendor.\n",
    "2. To prevent errors that arise from using different fees for different vendors.\n",
    "3. To keep the calculation consistent across all vendors with a fixed pricing model."
   ]
  },
  {
   "cell_type": "markdown",
   "id": "624e1ede",
   "metadata": {},
   "source": [
    "<details> <summary>Click here to see the answer</summary>\n",
    "Answer: The correct answer is 3. To keep the calculation consistent across all vendors with a fixed pricing model.\n",
    "\n",
    "</details>\n"
   ]
  },
  {
   "cell_type": "markdown",
   "id": "5e31c008",
   "metadata": {},
   "source": [
    "## Activity to test your learning comprehension <a id=\"test\"></a> ([top](#home))\n",
    "We focus in this activity on revenue generation for a digital platform (e.g., a subscription-based service or online marketplace) over several months. Instead of physical product sales, we’ll use the number of subscribers (or users) and their subscription fees to calculate the total revenue, VAT, and total amount with taxes included.\n",
    "\n",
    "| Month    | Number of <br> subscribers | Subscription fee <br> (excl. VAT) | Total revenue <br> (excl. VAT) | VAT (20%) | Total revenue <br> (incl. VAT) |\n",
    "|----------|-----------------------|------------------------------|----------------------------|-----------|---------------------------|\n",
    "| January  | 100                   | 5                            | 500                        | 100       | 600                       |\n",
    "| February | 110                   | 10                           | 1,100                      | 220       | 1,320                     |\n",
    "| March    | 120                   | 15                           | 1,800                      | 360       | 2,160                     |\n",
    "| April    | 130                   | 20                           | 2,600                      | 520       | 3,120                     |\n",
    "| May      | 140                   | 25                           | 3,500                      | 700       | 4,200                     |\n",
    "| June     | 150                   | 30                           | 4,500                      | 900       | 5,400                     |\n",
    "|      |                    |                            |                       |        |                      |\n",
    "|      |                    |                            |                       |        |                      |\n",
    "|Date      |10/04/2021\t\t       |Taux TVA                      |\t20 %\t                  |           | | | \n",
    "\n",
    "**Open an Excel spreadsheet page, copy and paste the table above and answer the following questions:**\n",
    "1. Calculate the Total Revenue (Excl. VAT) by multiplying the number of subscribers by the subscription fee.\n",
    "2. Calculate the VAT (20%) by multiplying the total revenue (Excl. VAT) by 0.20.\n",
    "3. Calculate the Total Revenue (Incl. VAT) by adding the VAT to the total revenue (Excl. VAT).\n"
   ]
  },
  {
   "attachments": {},
   "cell_type": "markdown",
   "id": "15f1a127",
   "metadata": {},
   "source": [
    "Congratulations! 🎉 You've reached the end of this tutorial. By now, you’ve learned:\n",
    "- how to handle formulas,\n",
    "- manage both relative and absolute references,\n",
    "- and apply these skills to real-world examples like calculating platform revenues.\n",
    "\n",
    "Now, you can now move on to the second tutorial to learn how to manipulate rows and columns, format an Excel sheet, and use filters. 🚀"
   ]
  },
  {
   "cell_type": "code",
   "execution_count": null,
   "id": "751980ce",
   "metadata": {},
   "outputs": [],
   "source": []
  }
 ],
 "metadata": {
  "celltoolbar": "Tags",
  "kernelspec": {
   "display_name": "Python 3 (ipykernel)",
   "language": "python",
   "name": "python3"
  },
  "language_info": {
   "codemirror_mode": {
    "name": "ipython",
    "version": 3
   },
   "file_extension": ".py",
   "mimetype": "text/x-python",
   "name": "python",
   "nbconvert_exporter": "python",
   "pygments_lexer": "ipython3",
   "version": "3.11.4"
  },
  "toc-showtags": false
 },
 "nbformat": 4,
 "nbformat_minor": 5
}
