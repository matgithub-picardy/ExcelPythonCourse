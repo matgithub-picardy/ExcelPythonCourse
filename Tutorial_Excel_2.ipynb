{
 "cells": [
  {
   "cell_type": "markdown",
   "id": "7a4404d1-c048-401a-b801-3efef8622b39",
   "metadata": {
    "slideshow": {
     "slide_type": ""
    },
    "tags": []
   },
   "source": [
    "# Tutorial 2: Organizing data</font> <a id='home'></a>\n",
    "\n",
    "Welcome to this tutorial, where you will learn how to master essential Excel skills for managing data.\n",
    "\n",
    "The ability to effectively manipulate data is crucial whether you're analyzing trends in the media industry, tracking revenue for a music streaming service, or studying patterns in digital advertising. This notebook will guide you through practical examples, ensuring you gain hands-on experience with Excel's core functionalities. \n",
    "\n",
    "1. [Manage rows and columns](#managerowcolumns) ([quizzes](#quiz1-4) #1 #2 #3 #4)\n",
    "2. [Tab manipulation](#tabmanip) ([quizzes](#quiz5-7) #5 #6 #7)\n",
    "3. [Format your file](#format) ([quizzes](#quiz8-10) #8 #9 #10)\n",
    "4. [Use conditional formatting](#conditional) ([quizzes](#quiz11-13) #11 #12 #13)\n",
    "4. [Use filter and sort functions](#filter) ([quizzes](#quiz14-16) #14 #15 #16)\n",
    "5. [Practice formatting an Excel file](#test)\n",
    "\n",
    "\n",
    "This tutorial lets you interact by:\n",
    "- modifying elements directly in the cells, \n",
    "- take quizzes,\n",
    "- and testing examples directly in your own spreadsheet on your computer (Excel, LibreOffice, etc.).\n",
    "\n",
    "## Manage rows and columns <a id=\"managerowcolumns\"></a> ([top](#home))\n",
    "\n",
    "Here, we aim at understanding better Excel functionalities. Keep your Excel document open to follow along with each step as you explore how to manipulate rows and columns effectively. Now that you're familiar with working with individual cells, let's see how to work with rows and columns directly.\n",
    "\n",
    "### Inserting and deleting rows and columns\n",
    "To create or delete rows and columns, follow these steps:\n",
    "1. Select the row or column header where you want to insert the new row/column.\n",
    "2. Right-click to open the context menu.\n",
    "3. Choose \"Insert\" to add the new row/column.\n",
    "\n",
    "Let's take a more practical example. You are managing digital advertising data for a streaming platform and want to add a \"Second Campaign\" column between \"Campaign Name\" (column C) and \"Clicks\" (column D).\n",
    "- Select column D (the one you want to shift to make space), and right-click to open the context menu.\n",
    "- Select \"Insert,\" and a new column will be created to the left of column D.\n",
    "\n",
    "Try this out with the data below by downloading the following Excel file by clicking on this link: [Tutorial2xls1-subscriptions.xlsx](https://github.com/matgithub-picardy/ExcelPythonCourse/raw/refs/heads/main/Tutorial_Excel_2/Tutorial2xls1-subscriptions.xlsx). You can also copy and paste the data in your own Excel document.\n",
    "\n",
    "| ID    | First name | Last name | Birthdate   | Account type   | Sign-up date  | Monthly <br> revenue ($) | Subscription tier | Active |\n",
    "|-------|------------|-----------|-------------|----------------|---------------|---------------------|-------------------|--------|\n",
    "| 1001  | Alice      | Johnson   | 1985-07-12  | Free           | 2021-01-15    | 0                   | Basic             | Yes    |\n",
    "| 1002  | Bob        | Smith     | 1990-04-23  | Premium        | 2020-11-03    | 45                  | Premium           | Yes    |\n",
    "| 1003  | Carol      | Williams  | 1978-02-19  | Premium        | 2019-05-22    | 30                  | Premium           | No     |\n",
    "| 1004  | David      | Brown     | 2001-08-05  | Free           | 2023-06-12    | 0                   | Basic             | Yes    |\n",
    "| 1005  | Eve        | Davis     | 1992-10-29  | Premium        | 2020-09-14    | 25                  | Premium           | Yes    |\n",
    "| 1006  | Frank      | White     | 1988-11-11  | Free           | 2022-04-01    | 0                   | Basic             | No     |\n",
    "| 1007  | Grace      | Green     | 1995-06-30  | Premium        | 2018-12-05    | 60                  | Premium Plus      | Yes    |\n",
    "| 1008  | Harry      | Thompson  | 1983-03-21  | Free           | 2021-08-19    | 0                   | Basic             | Yes    |\n",
    "| 1009  | Irene      | Miller    | 1999-12-15  | Premium        | 2019-10-17    | 50                  | Premium Plus      | Yes    |\n",
    "| 1010  | Jack       | Wilson    | 1986-01-03  | Free           | 2023-02-10    | 0                   | Basic             | No     |\n",
    "| 1011  | Karen      | Harris    | 1975-05-14  | Premium        | 2020-03-25    | 35                  | Premium           | No     |\n",
    "| 1012  | Liam       | Clark     | 1991-09-27  | Premium        | 2021-07-30    | 40                  | Premium Plus      | Yes    |\n",
    "| 1013  | Megan      | Lewis     | 1989-07-04  | Free           | 2022-11-11    | 0                   | Basic             | Yes    |\n",
    "| 1014  | Noah       | Walker    | 1994-05-19  | Premium        | 2020-06-28    | 55                  | Premium Plus      | Yes    |\n",
    "| 1015  | Olivia     | Martinez  | 1987-03-16  | Free           | 2023-05-01    | 0                   | Basic             | Yes    |\n",
    "| 1016  | Patrick    | Young     | 1996-11-22  | Premium        | 2021-09-14    | 25                  | Premium           | No     |\n",
    "| 1017  | Quincy     | Adams     | 1998-02-09  | Premium        | 2019-04-06    | 50                  | Premium           | Yes    |\n",
    "| 1018  | Rachel     | Robinson  | 1980-12-25  | Free           | 2022-07-30    | 0                   | Basic             | No     |\n",
    "| 1019  | Sam        | Parker    | 1984-09-07  | Premium        | 2020-05-23    | 65                  | Premium Plus      | Yes    |\n",
    "| 1020  | Tina       | Hall      | 1993-01-12  | Free           | 2023-08-16    | 0                   | Basic             | No     |\n",
    "| 1021  | Ursula     | King      | 1979-10-10  | Premium        | 2018-02-05    | 70                  | Premium Plus      | Yes    |\n",
    "| 1022  | Victor     | Scott     | 1997-07-20  | Premium        | 2021-05-22    | 45                  | Premium           | No     |\n",
    "| 1023  | Wendy      | Turner    | 1982-04-18  | Free           | 2022-09-29    | 0                   | Basic             | Yes    |\n",
    "| 1024  | Xavier     | Garcia    | 1990-12-11  | Premium        | 2020-03-03    | 55                  | Premium Plus      | Yes    |\n",
    "| 1025  | Yolanda    | Johnson   | 1981-08-22  | Free           | 2023-01-10    | 0                   | Basic             | Yes    |\n",
    "\n",
    "Let's say you want to insert a column called \"Middle Name\" between the \"First Name\" and \"Last Name\" columns. As a first step, you can adjust the width of your table's columns if the cell contents are not legible, as in the screenshot below for the “Date of birth” column: \n",
    "- right click on one or more column headers\n",
    "- select \"Column Width\" or \"Optimal Width\" from the context menu, as you prefer.\n",
    "- choose the width you want and click \"Ok\".\n",
    "\n",
    "Columns will be automatically resized to the ideal width based on the longest entry in each column, making your table easier to read and navigate.\n",
    "\n",
    "<img src=\"Tutorial_Excel_2/adjust_excel_1.jpeg\" alt=\"Chart Image\" width=\"900\">\n",
    "\n",
    "\n",
    "To insert a new column in Excel, we proceed in the same way: we select column C header (“Last name”), right click, and Choose \"Insert Column Before\".\n",
    "\n",
    "<img src=\"Tutorial_Excel_2/adjust_excel_2.jpeg\" alt=\"Chart Image\" width=\"500\">\n",
    "\n",
    "We simulate this process using the Python code below (click on the cell and press “Ctrl+Enter” (Windows) / “Shift+Enter” (Mac). Try changing the names in the Python code to match the three first names above (you'll have to invent the Middle names!):"
   ]
  },
  {
   "cell_type": "code",
   "execution_count": null,
   "id": "6f94389a",
   "metadata": {},
   "outputs": [],
   "source": [
    "import pandas as pd\n",
    "from IPython.display import display\n",
    "\n",
    "# Example dataset\n",
    "data = {\n",
    "    'First Name': ['John', 'Alice', 'Bob'],\n",
    "    'Last Name': ['Doe', 'Smith', 'Brown']\n",
    "}\n",
    "\n",
    "# Creating a DataFrame\n",
    "df = pd.DataFrame(data)\n",
    "\n",
    "# Display the original DataFrame\n",
    "print(\"Before adding 'Middle Name' column:\")\n",
    "display(df)\n",
    "\n",
    "# Insert a new column 'Middle Name'\n",
    "df.insert(1, 'Middle Name', ['Edward', 'Marie', 'Lee'])  # Insert at index 1\n",
    "\n",
    "# Display the updated DataFrame\n",
    "print(\"After adding 'Middle Name' column:\")\n",
    "display(df)"
   ]
  },
  {
   "cell_type": "markdown",
   "id": "cc896846",
   "metadata": {},
   "source": [
    "### Hiding rows and columns\n",
    "\n",
    "Sometimes you might want to hide certain columns to simplify your view. For example, you may want to hide the “Monthly revenue (\\$)” column, whose contents are sensitive and should not be accessible to anyone, while preserving the data.\n",
    "\n",
    "In Excel, to hide a column or a row:\n",
    "1. Place your mouse cursor over the column /row header.\n",
    "2. Right-click and select “Hide”.\n",
    "\n",
    "To “unmask” or show the column / row again :\n",
    "1. Select the two column / row headers that surround the hidden column / row (here the “Sign-up date” and “Subscription tier” columns).\n",
    "2. Right-click and select “Show Columns”.\n",
    "\n",
    "You will of course have noticed that the principle is the same as above when we have adjusted column or row widths and added columns or rows. You can now hide the column in the Excel file: \n",
    "\n",
    "<img src=\"Tutorial_Excel_2/adjust_excel_3.jpeg\" alt=\"Chart Image\" width=\"800\">\n",
    "\n",
    "\n",
    "You can continue to explore Excel by yourself by looking for the functionalities we've just seen by searching for them in the drop-down menus. For example, can you find the \"Hide column\" functionality?\n",
    "\n",
    "\n",
    "### Grouping rows and columns\n",
    "Grouping allows you to organize multiple rows or columns into a collapsible group, making large datasets more manageable.\n",
    "\n",
    "To group columns / rows:\n",
    "1. Select the columns / rows.\n",
    "2. Go to the \"Data\" tab and click \"Group.\"\n",
    "\n",
    "You can collapse or expand the group as needed. Let’s simulate this by selecting multiple columns and displaying only a subset.\n",
    "\n",
    "\n",
    "Example:\n",
    "In the Excel spreadsheet, you may want to group all \"identity\" columns: \"ID\", First name\", \"Middle name\", \"Last name\", and \"Birthdate\". Select the columns, then click Data > Group. What happens? Can you ungroup these columns? \n",
    "\n",
    "### Summary\n",
    "- **Adjusting column / row width:** Select the column / row header and click \"Column Width\" in the context menu, or double-click the separator between column / row headers to auto-resize.\n",
    "- **Inserting a column / row :** Select the column / row header and click \"Insert\" in the context menu.\n",
    "- **Hiding a column / row:** Select the column / row header and click \"Hide\" in the context menu.\n",
    "- **Grouping columns / rows:** Select the column / row headers, and click on the Data tab > Group."
   ]
  },
  {
   "cell_type": "markdown",
   "id": "2ad19f90-a33e-4872-b4ee-cc008998d120",
   "metadata": {
    "slideshow": {
     "slide_type": ""
    },
    "tags": [
     "hide"
    ]
   },
   "source": [
    "### Quiz #1<a id=\"quiz1-4\"></a> ([top](#home))\n",
    "**What is the correct way to insert a new column in Excel?**\n",
    "- Select the desired column and click \"Delete\".\n",
    "- Select the desired column, right-click, and choose \"Insert\".\n",
    "- Select the desired column, click \"Cut\", and paste it elsewhere.\n",
    "- Hiding Rows and Columns"
   ]
  },
  {
   "cell_type": "markdown",
   "id": "61a367d5-13ed-4523-98db-38370f1b5531",
   "metadata": {},
   "source": [
    "<details>\n",
    "<summary>Click here to see the answer</summary>\n",
    "\n",
    "**The correct answer is:** Select the desired column, right-click, and choose \"Insert\".\n",
    "\n",
    "</details>"
   ]
  },
  {
   "cell_type": "markdown",
   "id": "9f898264-e066-4c35-94c6-0f307824d2e4",
   "metadata": {
    "slideshow": {
     "slide_type": ""
    },
    "tags": [
     "hide"
    ]
   },
   "source": [
    "### Quiz #2\n",
    "**How would you hide multiple columns in Excel?**\n",
    "\n",
    "1. Select the columns, right-click, and choose \"Delete\".\n",
    "2. Select the columns, right-click, and choose \"Hide\".\n",
    "3. Select the columns, right-click, and choose \"Copy\".\n"
   ]
  },
  {
   "cell_type": "markdown",
   "id": "22182bb3-ef66-426a-8d4e-96f7b7828e5a",
   "metadata": {},
   "source": [
    "<details>\n",
    "<summary>Click here to see the answer</summary>\n",
    "\n",
    "**The correct answer is:** 2. Select the columns, right-click, and choose \"Hide\".\n",
    "\n",
    "</details>"
   ]
  },
  {
   "cell_type": "markdown",
   "id": "43d810ed-19e6-411c-8082-648367bb7421",
   "metadata": {
    "slideshow": {
     "slide_type": ""
    },
    "tags": [
     "hide"
    ]
   },
   "source": [
    "### Quiz #3\n",
    "**What is the purpose of grouping rows or columns in Excel?**\n",
    "\n",
    "1. To delete rows or columns\n",
    "2. To collapse and expand sections of your worksheet for better visibility\n",
    "3. To apply filters on the data\n",
    "4. To merge cells"
   ]
  },
  {
   "cell_type": "markdown",
   "id": "3e6d49d7-90d6-42ec-9ddb-d52b9cfe7402",
   "metadata": {},
   "source": [
    "<details>\n",
    "<summary>Click here to see the answer</summary>\n",
    "\n",
    "**The correct answer is:** 2. To collapse and expand sections of your worksheet for better visibility\n",
    "\n",
    "</details>"
   ]
  },
  {
   "cell_type": "markdown",
   "id": "ac9d212e",
   "metadata": {
    "slideshow": {
     "slide_type": ""
    },
    "tags": [
     "hide"
    ]
   },
   "source": [
    "### Quiz #4\n",
    "**Which menu option allows you to group rows or columns in Excel?**\n",
    "\n",
    "1. \"Home\" tab > Group\n",
    "2. \"Data\" tab > Group\n",
    "3. \"Insert\" tab > Group\n",
    "4. \"Review\" tab > Group"
   ]
  },
  {
   "cell_type": "markdown",
   "id": "69bde6d7",
   "metadata": {},
   "source": [
    "<details>\n",
    "<summary>Click here to see the answer</summary>\n",
    "\n",
    "**The correct answer is:** 2. \"Data\" tab > Group\n",
    "\n",
    "</details>"
   ]
  },
  {
   "cell_type": "markdown",
   "id": "a34aaa89-e679-4490-bf5e-cfa2baf1fd14",
   "metadata": {
    "slideshow": {
     "slide_type": ""
    },
    "tags": []
   },
   "source": [
    "## Tab manipulation<a id=\"tabmanip\"></a> ([top](#home))\n",
    "Here, we will manipulate Excel tabs or \"sheets\".<a name=\"cite_ref-1\"></a>[<sup>[1]</sup>](#hehe) You will explore how to create, delete, rename, move, color, hide, and duplicate Excel tabs. These operations are essential when working with multiple datasets.\n",
    "\n",
    "\n",
    "\n",
    "\n",
    "**What is a Tab?**\n",
    "\n",
    "In Excel, \"tabs\" or \"sheets\" (\"feuilles de calcul\" in French) refer to the individual pages within a workbook. Each tab in Excel is like a separate sheet in a physical file. Excel workbooks can have multiple tabs, each representing different sections of your data. For a manager, tabs can help organize different datasets or variables, such as customer data, market trends, or pricing structures.\n",
    "\n",
    "<a name=\"cite_note-1\"></a>[1](#cite_ref-1) A sheet is translated “feuille” in French."
   ]
  },
  {
   "cell_type": "markdown",
   "id": "f4a65986",
   "metadata": {},
   "source": [
    "### Creating / deleting tabs\n",
    "- To create a tab: Click on the \"+\" icon next to the last tab in the workbook.\n",
    "- To delete a tab: Right-click on the tab and choose Delete from the context menu. Remember that this action is permanent!\n",
    "\n",
    "<img src=\"Tutorial_Excel_2/adjust_excel_5.jpeg\" alt=\"Chart Image\" width=\"500\">\n",
    "\n",
    "How would creating additional tabs help you organize different datasets in your digital economics research? Think about separating different variables like price trends, consumer behavior, etc.\n",
    "\n",
    "**Example:** Imagine a workbook with two tabs: \"Sheet1\" and \"Sheet2\".\n",
    "- Sheet1 contains data on online sales.\n",
    "- Sheet2 holds information on customer demographics.\n",
    "\n",
    "### Renaming tabs\n",
    "Excel assigns generic names like Sheet1, Sheet2, etc. It's a good practice to rename tabs with meaningful names to make navigation easier. Please note that Excel does not allow worksheet names longer than 31 characters.\n",
    "\n",
    "To rename a tab:\n",
    "- Double-click the tab name, or\n",
    "- Right-click and select \"Rename\" from the context menu.\n",
    "\n",
    "Choose concise names that indicate the content of the sheet (e.g., \"Online Sales Q1\").\n",
    "\n",
    "\n",
    "### Moving and organizing tabs\n",
    "When dealing with many datasets, it’s important to keep your tabs organized:\n",
    "- To move a tab: Click and hold the tab name, then drag it to your preferred position.\n",
    "- Logical order: Start with data input, followed by analysis, and conclude with results.\n",
    "\n",
    "**Question:** How would you organize tabs for the following datasets?\n",
    "- Raw data on online sales\n",
    "- Marketing campaign results\n",
    "- Sales summary report\n",
    "\n",
    "### Coloring tabs\n",
    "To differentiate important tabs, color-coding can be very helpful:\n",
    "- To color a tab: Right-click on the tab name, then choose \"Tab Color\".\n",
    "- For example yellow for summary reports and green for important datasets\n",
    "\n",
    "<img src=\"Tutorial_Excel_2/adjust_excel_6.jpeg\" alt=\"Chart Image\" width=\"600\">\n",
    "\n",
    "\n",
    "### Hiding tabs\n",
    "Sometimes you might want to hide specific data while keeping it accessible:\n",
    "- To hide a tab: Right-click the tab and select Hide Sheet.\n",
    "- To unhide a tab: Right-click any tab and choose Unhide, then select the tab to reveal.\n",
    "\n",
    "\n",
    "### Duplicating tabs\n",
    "Duplicating tabs is useful when you need a template or want to experiment with data without altering the original.\n",
    "\n",
    "To copy a tab:\n",
    "- Right-click the tab name, then choose \"Move or Copy\".\n",
    "- Select Create a copy and specify where to place the duplicate.\n",
    "\n",
    "<img src=\"Tutorial_Excel_2/adjust_excel_7.jpeg\" alt=\"Chart Image\" width=\"500\">"
   ]
  },
  {
   "cell_type": "markdown",
   "id": "b841a939",
   "metadata": {
    "slideshow": {
     "slide_type": ""
    },
    "tags": [
     "hide"
    ]
   },
   "source": [
    "### Quiz #5<a id=\"quiz5-7\"></a> ([top](#home))\n",
    "**You can organize multiple tabs in Excel by dragging them in the correct order.**\n",
    "\n",
    "1. True\n",
    "2. False"
   ]
  },
  {
   "cell_type": "markdown",
   "id": "544fa690",
   "metadata": {},
   "source": [
    "<details>\n",
    "<summary>Click here to see the answer</summary>\n",
    "\n",
    "**The correct answer is:** 1. True\n",
    "</details>"
   ]
  },
  {
   "cell_type": "markdown",
   "id": "924f4d21",
   "metadata": {
    "slideshow": {
     "slide_type": ""
    },
    "tags": [
     "hide"
    ]
   },
   "source": [
    "### Quiz #6\n",
    "**What is the limit for the number of characters allowed in a tab name in Excel?**\n",
    "\n",
    "1. 255\n",
    "2. 31\n",
    "3. 64\n",
    "4. Unlimited"
   ]
  },
  {
   "cell_type": "markdown",
   "id": "1815e4ba",
   "metadata": {},
   "source": [
    "<details>\n",
    "<summary>Click here to see the answer</summary>\n",
    "\n",
    "**The correct answer is:** 2. 31\n",
    "\n",
    "</details>"
   ]
  },
  {
   "cell_type": "markdown",
   "id": "2f8a794f",
   "metadata": {
    "slideshow": {
     "slide_type": ""
    },
    "tags": [
     "hide"
    ]
   },
   "source": [
    "### Quiz #7\n",
    "\n",
    "**Once a tab is deleted in Excel, it can be recovered using the undo button.**\n",
    "\n",
    "1. True\n",
    "2. False"
   ]
  },
  {
   "cell_type": "markdown",
   "id": "7b60b034",
   "metadata": {},
   "source": [
    "<details>\n",
    "<summary>Click here to see the answer</summary>\n",
    "\n",
    "**The correct answer is:** 2. False\n",
    "\n",
    "</details>"
   ]
  },
  {
   "cell_type": "markdown",
   "id": "95e7139a",
   "metadata": {},
   "source": [
    "\n",
    "## Format your file<a id=\"format\"></a> ([top](#home))\n",
    "Here, you will learn how to manage Excel layout options and configure print settings to enhance readability and presentation.\n",
    "\n",
    "In this section, you will analyze data from an online marketplace where independent sellers list products for sale. Each seller has reported their sales for a given period, which includes the quantity sold, the price per unit, and the resulting revenue. The goal is to understand how each seller performs in terms of sales volume and revenue generation. We will use Excel formatting tools to adjust borders, hide gridlines, and apply consistent formatting if needed to make the data more readable:\n",
    "\n",
    "Seller name         | Quantity sold | Price (USD) | Revenue (USD)\n",
    "--------------------|---------------|-------------|---------------\n",
    "BlueTech Goods      | 10            | 25          | 250\n",
    "EcoTrend            | 20            | 30          | 600\n",
    "GadgetPro           | 15            | 22          | 330\n",
    "HomeEssentials      | 25            | 27          | 675\n",
    "\n",
    "To access the data, download the Excel file using this link: [Tutorial2xls1-platform_sales.xlsx](https://github.com/matgithub-picardy/ExcelPythonCourse/raw/refs/heads/main/Tutorial_Excel_2/Tutorial2xls2-platformsales.xlsx).\n",
    "\n",
    "\n",
    "\n",
    "### Hiding gridlines\n",
    "Gridlines provide cell structure visibility but don’t appear in print. You can toggle them on and off for easier on-screen viewing:\n",
    "- Go to the **View** tab.\n",
    "- In the **Show** group, uncheck **Gridlines** (Windows) / **View Grid Lines** (Mac) to hide them. To make them appear again, check **Gridlines** / **View Grid Lines** again.\n",
    "<img src=\"Tutorial_Excel_2/adjust_excel_8.jpeg\" alt=\"Chart Image\" width=\"400\">\n",
    "\n",
    "\n",
    "### Adding borders\n",
    "Borders help delineate data tables clearly. This is especially helpful for economic data tables with multiple columns and rows.\n",
    "\n",
    "**Activity:**\n",
    "1. Select cells B3 to E7.\n",
    "2. Right-click on the selection and choose \"Format Cells\".\n",
    "3. In the Borders tab, select the Outline preset or any border style you prefer to apply borders to your table. \n",
    "<div style=\"display: flex; justify-content: space-around;\">\n",
    "    <img src=\"Tutorial_Excel_2/adjust_excel_9.jpeg\" alt=\"Chart Image\" width=\"450\">\n",
    "    <img src=\"Tutorial_Excel_2/adjust_excel_10.jpeg\" alt=\"Chart Image\" width=\"450\">\n",
    "</div>\n",
    "\n",
    "### Freezing panes\n",
    "Freezing panes keeps headers visible while scrolling through long datasets:\n",
    "- Go to the **View** tab.\n",
    "- Select **Freeze Panes** (Windows) or **Freeze Cells** (Mac) and choose **Freeze First Column.\n",
    "\n",
    "<img src=\"Tutorial_Excel_2/adjust_excel_11.jpeg\" alt=\"Chart Image\" width=\"450\">\n",
    "\n",
    "Now, even when you scroll down, the column header remains visible, enhancing navigation for data analysis. But you should have noticed that the 1st row and column of our file are empty, and that the headers are on line 3 and column B. No problem there! We just have to freeze the first 3 rows and the first 2 columns:\n",
    "- first make sure that no rows or column rows are still frozen\n",
    "- select cell C4\n",
    "- select the View menu\n",
    "- select \"Freeze Rows and Columns\"\n",
    "\n",
    "Now the columns and rows at the “top and left” of cell C4 are frozen! You can now scroll the table. For the rest of the tutorial, you can unfreeze the columns and rows.\n",
    "\n",
    "### Printing\n",
    "\n",
    "When managing large datasets, you may want to print headers on each page, limit the print area, or add page numbers for easier navigation. Here’s how to do this in Excel and LibreOffice Calc.\n",
    "\n",
    "#### Printing headers on each page\n",
    "To repeat headers on each page:\n",
    "- Excel:\n",
    "    - Go to the Page Layout tab.\n",
    "    - Select Print Titles in the Page Setup group.\n",
    "    - In the \"Rows to repeat at top\" field, enter the row(s) containing your headers.\n",
    "- LibreOffice:\n",
    "    - Go to Format > Print Ranges > Edit.\n",
    "In the Rows to repeat section, specify the row(s) with headers that you want to appear on each page.\n",
    "\n",
    "This video shows how to print column headers on all pages in Excel (source: YouTube channel \"Ready Steady Excel\"):\n",
    "<video controls src=\"Tutorial_Excel_2/Print_headers_on_all_pages_in_Excel.mp4\" width=\"400\" height=\"250\" />\n",
    "<!-- https://www.youtube.com/watch?v=hOHpBh_y54E&ab_channel=ReadySteadyExcel -->\n",
    "\n",
    "\n",
    "#### Defining a print area\n",
    "To print only a specific range of cells:\n",
    "- Excel: Select the range of data you want to print, go to Page Layout > Print Area > Set Print Area.\n",
    "- LibreOffice Calc: Select your data range, then go to Format > Print Ranges > Define.\n",
    "\n",
    "This video shows how to set the print area in Excel (source: YouTube channel \"Excel Tutorials by EasyClick Academy\"):\n",
    "<video controls src=\"Tutorial_Excel_2/Set_the_print_area_in_Excel.mp4\" width=\"500\" height=\"300\" />\n",
    "<!-- https://www.youtube.com/watch?v=Mrt4v0ysA8w -->\n",
    "\n",
    "\n",
    "**Task:** Practice setting a print area by selecting cell B1 and defining it as your print area.\n",
    "\n",
    "\n",
    "\n",
    "#### Adding page numbers to printed pages\n",
    "To add page numbers:\n",
    "- Excel:\n",
    "    - Go to Page Layout > Page Setup.\n",
    "    - Choose the Header/Footer tab and, in the Footer section, select an option with page numbers (e.g., “Page 1”).\n",
    "- LibreOffice:\n",
    "    - Go to Format > Page > Header/Footer tab.\n",
    "    - Enable Footer and select Edit. In the footer, add the page number by inserting Page from the footer options.\n",
    "With these settings, page numbers will appear on printed pages, helping organize multi-page datasets.\n",
    "\n",
    "\n",
    "### Conclusion\n",
    "Mastering Excel layout and print settings is essential for presenting and sharing data effectively. These skills allow for cleaner, more readable tables and data overviews, important in the field of digital economics."
   ]
  },
  {
   "cell_type": "markdown",
   "id": "7987c35b",
   "metadata": {
    "slideshow": {
     "slide_type": ""
    },
    "tags": [
     "hide"
    ]
   },
   "source": [
    "### Quiz #8<a id=\"quiz8-10\"></a> ([top](#home))\n",
    "**Why might hiding gridlines be useful when preparing an Excel file for presentation?**\n",
    "\n",
    "1. It enhances readability by reducing visual clutter.\n",
    "2. It prevents changes to data.\n",
    "3. It speeds up Excel calculations."
   ]
  },
  {
   "cell_type": "markdown",
   "id": "ca93a43f",
   "metadata": {},
   "source": [
    "<details>\n",
    "<summary>Click here to see the answer</summary>\n",
    "\n",
    "**The correct answer is:** 1. It enhances readability by reducing visual clutter.\n",
    "\n",
    "</details>"
   ]
  },
  {
   "cell_type": "markdown",
   "id": "e5e84da5",
   "metadata": {
    "slideshow": {
     "slide_type": ""
    },
    "tags": [
     "hide"
    ]
   },
   "source": [
    "### Quiz #9\n",
    "**How does freezing panes improve usability in data analysis?**\n",
    "\n",
    "1. It speeds up the application.\n",
    "2. It filters data automatically.\n",
    "3. It keeps header information visible."
   ]
  },
  {
   "cell_type": "markdown",
   "id": "95813563",
   "metadata": {},
   "source": [
    "<details>\n",
    "<summary>Click here to see the answer</summary>\n",
    "\n",
    "**The correct answer is:** 3. It keeps header information visible.\n",
    "\n",
    "</details>"
   ]
  },
  {
   "cell_type": "markdown",
   "id": "248798d2",
   "metadata": {
    "slideshow": {
     "slide_type": ""
    },
    "tags": [
     "hide"
    ]
   },
   "source": [
    "### Quiz #10\n",
    "**Where in Excel can you add page numbers for print layout?**\n",
    "\n",
    "1. View Tab\n",
    "2. Page Layout > Page Setup\n",
    "3. Data Tab"
   ]
  },
  {
   "cell_type": "markdown",
   "id": "2e3436b2",
   "metadata": {},
   "source": [
    "<details>\n",
    "<summary>Click here to see the answer</summary>\n",
    "\n",
    "**The correct answer is:** 2. Page Layout > Page Setup\n",
    "\n",
    "</details>"
   ]
  },
  {
   "cell_type": "markdown",
   "id": "c004ce92",
   "metadata": {},
   "source": [
    "## Use conditional formatting<a id=\"conditional\"></a> ([top](#home))"
   ]
  },
  {
   "cell_type": "markdown",
   "id": "75c9a155",
   "metadata": {
    "slideshow": {
     "slide_type": ""
    },
    "tags": [
     "hide"
    ]
   },
   "source": [
    "### Quiz #11<a id=\"quiz11-13\"></a> ([top](#home))\n",
    "** **\n",
    "\n",
    "1. "
   ]
  },
  {
   "cell_type": "markdown",
   "id": "5a3f3748",
   "metadata": {},
   "source": [
    "<details>\n",
    "<summary>Click here to see the answer</summary>\n",
    "\n",
    "**The correct answer is:** 2. Page Layout > Page Setup\n",
    "\n",
    "</details>"
   ]
  },
  {
   "cell_type": "markdown",
   "id": "fa4fb2b8",
   "metadata": {
    "slideshow": {
     "slide_type": ""
    },
    "tags": [
     "hide"
    ]
   },
   "source": [
    "### Quiz #12\n",
    "****\n",
    "\n",
    "1. "
   ]
  },
  {
   "cell_type": "markdown",
   "id": "d2c1239e",
   "metadata": {},
   "source": [
    "<details>\n",
    "<summary>Click here to see the answer</summary>\n",
    "\n",
    "**The correct answer is:**\n",
    "\n",
    "</details>"
   ]
  },
  {
   "cell_type": "markdown",
   "id": "590855a0",
   "metadata": {
    "slideshow": {
     "slide_type": ""
    },
    "tags": [
     "hide"
    ]
   },
   "source": [
    "### Quiz #13\n",
    "****\n",
    "\n",
    "1. "
   ]
  },
  {
   "cell_type": "markdown",
   "id": "5d006e0b",
   "metadata": {},
   "source": [
    "<details>\n",
    "<summary>Click here to see the answer</summary>\n",
    "\n",
    "**The correct answer is:** \n",
    "\n",
    "</details>"
   ]
  },
  {
   "cell_type": "markdown",
   "id": "f82e30d0",
   "metadata": {},
   "source": [
    "## Use filter and sort functions<a id=\"filter\"></a> ([top](#home))"
   ]
  },
  {
   "cell_type": "markdown",
   "id": "5f7bcddc",
   "metadata": {
    "slideshow": {
     "slide_type": ""
    },
    "tags": [
     "hide"
    ]
   },
   "source": [
    "### Quiz #14<a id=\"quiz14-16\"></a> ([top](#home))\n",
    "****\n",
    "\n",
    "1. "
   ]
  },
  {
   "cell_type": "markdown",
   "id": "cfd1cdd7",
   "metadata": {},
   "source": [
    "<details>\n",
    "<summary>Click here to see the answer</summary>\n",
    "\n",
    "**The correct answer is:**\n",
    "\n",
    "</details>"
   ]
  },
  {
   "cell_type": "markdown",
   "id": "3c567726",
   "metadata": {
    "slideshow": {
     "slide_type": ""
    },
    "tags": [
     "hide"
    ]
   },
   "source": [
    "### Quiz #15\n",
    "****\n",
    "\n",
    "1. "
   ]
  },
  {
   "cell_type": "markdown",
   "id": "1143c258",
   "metadata": {},
   "source": [
    "<details>\n",
    "<summary>Click here to see the answer</summary>\n",
    "\n",
    "**The correct answer is:**\n",
    "\n",
    "</details>"
   ]
  },
  {
   "cell_type": "markdown",
   "id": "90fbcb38",
   "metadata": {
    "slideshow": {
     "slide_type": ""
    },
    "tags": [
     "hide"
    ]
   },
   "source": [
    "### Quiz #16\n",
    "****\n",
    "\n",
    "1. "
   ]
  },
  {
   "cell_type": "markdown",
   "id": "21026416",
   "metadata": {},
   "source": [
    "<details>\n",
    "<summary>Click here to see the answer</summary>\n",
    "\n",
    "**The correct answer is:** \n",
    "\n",
    "</details>"
   ]
  },
  {
   "cell_type": "markdown",
   "id": "ee8d60ab",
   "metadata": {},
   "source": [
    "## Practice formatting an Excel file<a id=\"test\"></a> ([top](#home))"
   ]
  },
  {
   "cell_type": "markdown",
   "id": "d3223995",
   "metadata": {
    "slideshow": {
     "slide_type": ""
    },
    "tags": [
     "hide"
    ]
   },
   "source": [
    "### Quiz #17<a id=\"quiz17-19\"></a> ([top](#home))\n",
    "****\n",
    "\n",
    "1. "
   ]
  },
  {
   "cell_type": "markdown",
   "id": "28202a50",
   "metadata": {},
   "source": [
    "<details>\n",
    "<summary>Click here to see the answer</summary>\n",
    "\n",
    "**The correct answer is:**\n",
    "\n",
    "</details>"
   ]
  },
  {
   "cell_type": "markdown",
   "id": "f44872e9",
   "metadata": {
    "slideshow": {
     "slide_type": ""
    },
    "tags": [
     "hide"
    ]
   },
   "source": [
    "### Quiz #18\n",
    "****\n",
    "\n",
    "1. "
   ]
  },
  {
   "cell_type": "markdown",
   "id": "32d6c936",
   "metadata": {},
   "source": [
    "<details>\n",
    "<summary>Click here to see the answer</summary>\n",
    "\n",
    "**The correct answer is:**\n",
    "\n",
    "</details>"
   ]
  },
  {
   "cell_type": "markdown",
   "id": "9ecae2aa",
   "metadata": {
    "slideshow": {
     "slide_type": ""
    },
    "tags": [
     "hide"
    ]
   },
   "source": [
    "### Quiz #19\n",
    "****\n",
    "\n",
    "1. "
   ]
  },
  {
   "cell_type": "markdown",
   "id": "7b9ffd47",
   "metadata": {},
   "source": [
    "<details>\n",
    "<summary>Click here to see the answer</summary>\n",
    "\n",
    "**The correct answer is:** \n",
    "\n",
    "</details>"
   ]
  },
  {
   "cell_type": "code",
   "execution_count": null,
   "id": "37314070",
   "metadata": {},
   "outputs": [],
   "source": []
  },
  {
   "cell_type": "code",
   "execution_count": null,
   "id": "5c736167",
   "metadata": {},
   "outputs": [],
   "source": []
  },
  {
   "cell_type": "code",
   "execution_count": null,
   "id": "f1f177e8",
   "metadata": {},
   "outputs": [],
   "source": []
  },
  {
   "cell_type": "code",
   "execution_count": null,
   "id": "423ed89e",
   "metadata": {},
   "outputs": [],
   "source": []
  }
 ],
 "metadata": {
  "celltoolbar": "Tags",
  "kernelspec": {
   "display_name": "Python 3 (ipykernel)",
   "language": "python",
   "name": "python3"
  },
  "language_info": {
   "codemirror_mode": {
    "name": "ipython",
    "version": 3
   },
   "file_extension": ".py",
   "mimetype": "text/x-python",
   "name": "python",
   "nbconvert_exporter": "python",
   "pygments_lexer": "ipython3",
   "version": "3.11.4"
  },
  "toc-showtags": false
 },
 "nbformat": 4,
 "nbformat_minor": 5
}
