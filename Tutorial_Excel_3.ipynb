{
 "cells": [
  {
   "cell_type": "markdown",
   "id": "7a5f8738",
   "metadata": {
    "slideshow": {
     "slide_type": ""
    },
    "tags": []
   },
   "source": [
    "# Tutorial 3: Analyzing and Visualizing Data</font> <a id='home'></a>\n",
    "\n",
    "Welcome to this tutorial, where you'll learn to analyse and visualize your Excel data.\n",
    "\n",
    "Excel isn’t just a tool for basic data entry—it’s a powerful platform for calculations, data restriction, pivot tables, and visual analytics. Whether you’re optimizing budgets for ad campaigns, examining audience engagement metrics, or preparing sales reports, this notebook will guide you through hands-on examples. You’ll build essential skills to efficiently analyze and present your data.\n",
    "\n",
    "1. [Calculate using functions](#calculate) ([quizzes](#quiz1-3) #1 #2 #3)\n",
    "2. [Restrict data entry](#restrict) ([quizzes](#quiz4-6) #4 #5 #6)\n",
    "3. [Create pivot tables](#pivot) ([quizzes](#quiz7-9) #7 #8 #9)\n",
    "4. [Generate charts](#charts) ([quizzes](#quiz10-12) #10 #11 #12)\n",
    "4. [Practice data processing](#practice) ([quizzes](#quiz13-15) #13 #14 #15)\n",
    "5. [Evaluate yourself!](#evaluate) ([quizzes](#quiz16-18) #16 #17 #18)\n",
    "\n",
    "\n",
    "This tutorial allows you interact by:\n",
    "- making changes in cells for calculations and restrictions,\n",
    "- taking quizzes to test your understanding, and\n",
    "- applying examples directly in your own spreadsheet.\n",
    "\n",
    "\n",
    "\n",
    "## Calculate using functions <a id=\"calculate\"></a> ([top](#home))\n",
    "\n",
    "In the first section of this tutorial, we'll learn to use functions for essential calculations, such as sum totals, averages, and complex conditional calculations. The data is the same as that used at the end of the previous tutorial, describing online advertising campaigns for a music streaming platform. The file contains data on 74 online advertising campaigns with the following variables:\n",
    "- **Campaign_ID:** Unique identifier for each campaign\n",
    "- **Campaign_Name:** Name of each campaign\n",
    "- **Genre:** Genre targeted by the campaign\n",
    "- **Target_Audience:** Primary audience\n",
    "- **Platform:** Platform where the ad was run\n",
    "- **Month:** Month the ad was run\n",
    "- **Impressions:** Number of times the ad was shown\n",
    "- **Clicks:** Number of clicks the ad received\n",
    "- **Click_Through_Rate (%):** Percentage of clicks relative to impressions, calculated as: $$\\frac{\\text{Clicks}}{\\text{Impressions}} \\times 100$$\n",
    "- **Ad_Spend (USD):** Amount spent on each campaign\n",
    "- **Conversion_Rate (%):** Estimated percentage of clicks that led to subscriptions\n",
    "- **Engagement_Score:** Custom score for engagement level based on impressions, clicks, and conversions (e.g., a weighted score calculated based on clicks and conversion rate).\n",
    "\n",
    "Download the data file: [Tutorial2xls4-adcampaigns.xlsx](https://github.com/matgithub-picardy/ExcelPythonCourse/raw/refs/heads/main/Tutorial_Excel_3/Tutorial2xls4-adcampaigns_v2.xlsx).\n",
    "\n",
    "We'll exploit the campaign data by calculating meaningful indicators to identify the best-performing campaigns. Let's get started!\n",
    " \n",
    " \n",
    " ### Calculating total impressions for the quarter: Function `SUM`\n",
    "\n",
    "To analyze the reach of all campaigns, let’s calculate the total number of *Impressions* generated across campaigns. This will help us understand the potential audience reach.\n",
    "\n",
    "\n",
    "To create a sum in Excel, follow these steps:\n",
    "- Click on the cell where you want the sum to appear (e.g.,``H76`).\n",
    "- Type `=SUM(` to begin the formula.\n",
    "- While holding down the Shift key, click on the starting cell (`H2`), then click on the ending cell (`H75`). This will select the range``H2:H75`.\n",
    "- Press Enter to complete the formula.\n",
    "\n",
    "You should now see the total number of *Impressions* across all campaigns. You must have realized that it's not even necessary to add the right parenthesis! Alternatively, you can hold down the left mouse button to drag and select the cells from H2 to H75 instead of using the Shift key.\n",
    "\n",
    "The video below shows how to use the function `SUM` in Excel (source: YouTube channel \"Microsoft 365\"):\n",
    "\n",
    "<div style=\"margin-left: auto; margin-right: auto; width: 50%\">\n",
    "    <figure style=\"margin: 10px;\">\n",
    "        <video controls src=\"Tutorial_Excel_3/Use_SUM_function_Excel.mp4\" width=\"500\" />\n",
    "        <figcaption style=\"text-align: center;\">Microsoft Excel</figcaption>\n",
    "    </figure>\n",
    "</div>\n",
    "\n",
    "You can also access the `SUM` function via the tabs / menus, but this is less practical and finding a function can sometimes be a bit tedious! In what follows, we'll be learning new functions as and when we need them, and we'll be writing them directly into a cell. Excel will then automatically fill in the function name and indicate the parameters to be entered. This approach is simpler and faster.\n",
    "\n",
    "\n",
    "### Calculating the average Click-Through Rate (CTR): Function `AVERAGE`\n",
    "\n",
    "To understand the engagement level of the campaigns, let’s calculate the average Click-Through Rate (%):\n",
    "1. Select the cell where you want the result (e.g., `I76`).\n",
    "2. Type `=AVERAGE(`\n",
    "3. Select the range of CTR values (`I2:I75`).\n",
    "4. Press Enter.\n",
    "\n",
    "This gives you the average CTR across all campaigns, helping you benchmark individual campaign performance. A good practice may be to indicate the content of the cell in an adjacent cell (\"Impressions sum\" or \"Moy. CTR\").\n",
    "\n",
    "\n",
    "### Calculating bonus payouts for top campaigns: Function `IF`\n",
    "\n",
    "The music streaming service wants to reward high-performing campaigns with a bonus. If a campaign’s Engagement Score is above 70, it receives a &#36;500 bonus; otherwise, it receives no bonus:\n",
    "1. Select the cell for the bonus calculation (e.g., `M2`).\n",
    "2. Type `=IF(`. Note that a help box appears to remind you of the function's syntax.\n",
    "3. Set up the formula as follows (each value must be separated by a comma for Excel or a semicolon for LibreOffice):\n",
    "   - **Logical Test**: `L2 > 70` (K2 being the Engagement Score)\n",
    "   - **Value if True**: `500`\n",
    "   - **Value if False**: `0`\n",
    "4. Drag the formula down to apply it to all campaigns.\n",
    "\n",
    "<div style=\"display: flex; justify-content: center; align-items: center;\">\n",
    "    <figure style=\"margin: 10px;\">\n",
    "        <img src=\"Tutorial_Excel_3/function_excel_1_XL.jpeg\" alt=\"LibreOffice Chart\" width=\"1000\"/>\n",
    "        <figcaption style=\"text-align: center;\">Microsoft Excel</figcaption>\n",
    "    </figure>\n",
    "    <figure style=\"margin: 10px;\">\n",
    "        <img src=\"Tutorial_Excel_3/function_excel_1_LO.jpeg\" alt=\"Excel Chart\" width=\"1000\"/>\n",
    "        <figcaption style=\"text-align: center;\">LibreOffice</figcaption>\n",
    "    </figure>\n",
    "</div>\n",
    "\n",
    "\n",
    "### Campaign metrics summary\n",
    "\n",
    "At this point, you can use various Excel functions to create a summary of key metrics from the ad campaigns data.\n",
    "\n",
    "1. **Total ad spend:** Use the `SUM` function on the Ad Spend (USD) column.\n",
    "2. **Highest conversion rate:** Use the `MAX` function on the Conversion Rate (\\%) column to identify the best-performing campaign.\n",
    "3. **Count of high-engagement campaigns:** Use the `COUNTIF` function to count campaigns with an Engagement Score above 70.\n",
    "\n",
    "Summarize these key metrics in a dedicated section at the bottom of the campaign data, creating a quick-reference dashboard for future analysis.\n",
    "\n",
    "\n",
    "### Check your results with Python\n",
    "We can use Python to check the results obtained in Excel. First, let's load your data from the Excel file. Here's a sample setup to import the data and display the first few rows."
   ]
  },
  {
   "cell_type": "code",
   "execution_count": 39,
   "id": "22ce7b96",
   "metadata": {},
   "outputs": [
    {
     "data": {
      "text/html": [
       "<div>\n",
       "<style scoped>\n",
       "    .dataframe tbody tr th:only-of-type {\n",
       "        vertical-align: middle;\n",
       "    }\n",
       "\n",
       "    .dataframe tbody tr th {\n",
       "        vertical-align: top;\n",
       "    }\n",
       "\n",
       "    .dataframe thead th {\n",
       "        text-align: right;\n",
       "    }\n",
       "</style>\n",
       "<table border=\"1\" class=\"dataframe\">\n",
       "  <thead>\n",
       "    <tr style=\"text-align: right;\">\n",
       "      <th></th>\n",
       "      <th>Campaign_ID</th>\n",
       "      <th>Campaign_Name</th>\n",
       "      <th>Genre</th>\n",
       "      <th>Target_Audience</th>\n",
       "      <th>Platform</th>\n",
       "      <th>Month</th>\n",
       "      <th>Impressions</th>\n",
       "      <th>Clicks</th>\n",
       "      <th>Click_Through_Rate (%)</th>\n",
       "      <th>Ad_Spend (USD)</th>\n",
       "      <th>Conversion_Rate (%)</th>\n",
       "      <th>Engagement_Score</th>\n",
       "    </tr>\n",
       "  </thead>\n",
       "  <tbody>\n",
       "    <tr>\n",
       "      <th>0</th>\n",
       "      <td>AD001</td>\n",
       "      <td>Pop Hits Spring Launch</td>\n",
       "      <td>Pop</td>\n",
       "      <td>Teens</td>\n",
       "      <td>Instagram</td>\n",
       "      <td>January</td>\n",
       "      <td>85000</td>\n",
       "      <td>4250</td>\n",
       "      <td>5</td>\n",
       "      <td>1200</td>\n",
       "      <td>3.5</td>\n",
       "      <td>75</td>\n",
       "    </tr>\n",
       "    <tr>\n",
       "      <th>1</th>\n",
       "      <td>AD002</td>\n",
       "      <td>Jazz Evening Specials</td>\n",
       "      <td>Jazz</td>\n",
       "      <td>Adults</td>\n",
       "      <td>Facebook</td>\n",
       "      <td>January</td>\n",
       "      <td>60000</td>\n",
       "      <td>3000</td>\n",
       "      <td>5</td>\n",
       "      <td>800</td>\n",
       "      <td>2.1</td>\n",
       "      <td>55</td>\n",
       "    </tr>\n",
       "    <tr>\n",
       "      <th>2</th>\n",
       "      <td>AD003</td>\n",
       "      <td>EDM Party Night</td>\n",
       "      <td>EDM</td>\n",
       "      <td>Young Adults</td>\n",
       "      <td>TikTok</td>\n",
       "      <td>February</td>\n",
       "      <td>130000</td>\n",
       "      <td>9100</td>\n",
       "      <td>7</td>\n",
       "      <td>3500</td>\n",
       "      <td>6.0</td>\n",
       "      <td>90</td>\n",
       "    </tr>\n",
       "    <tr>\n",
       "      <th>3</th>\n",
       "      <td>AD004</td>\n",
       "      <td>Rock Classics Promo</td>\n",
       "      <td>Rock</td>\n",
       "      <td>Seniors</td>\n",
       "      <td>YouTube</td>\n",
       "      <td>February</td>\n",
       "      <td>50000</td>\n",
       "      <td>2500</td>\n",
       "      <td>5</td>\n",
       "      <td>900</td>\n",
       "      <td>1.5</td>\n",
       "      <td>45</td>\n",
       "    </tr>\n",
       "    <tr>\n",
       "      <th>4</th>\n",
       "      <td>AD005</td>\n",
       "      <td>Classical Chillout</td>\n",
       "      <td>Classical</td>\n",
       "      <td>Adults</td>\n",
       "      <td>Facebook</td>\n",
       "      <td>March</td>\n",
       "      <td>40000</td>\n",
       "      <td>1200</td>\n",
       "      <td>3</td>\n",
       "      <td>650</td>\n",
       "      <td>0.7</td>\n",
       "      <td>30</td>\n",
       "    </tr>\n",
       "  </tbody>\n",
       "</table>\n",
       "</div>"
      ],
      "text/plain": [
       "  Campaign_ID           Campaign_Name      Genre Target_Audience   Platform  \\\n",
       "0       AD001  Pop Hits Spring Launch        Pop           Teens  Instagram   \n",
       "1       AD002   Jazz Evening Specials       Jazz          Adults   Facebook   \n",
       "2       AD003         EDM Party Night        EDM    Young Adults     TikTok   \n",
       "3       AD004     Rock Classics Promo       Rock         Seniors    YouTube   \n",
       "4       AD005      Classical Chillout  Classical          Adults   Facebook   \n",
       "\n",
       "      Month  Impressions  Clicks  Click_Through_Rate (%)  Ad_Spend (USD)  \\\n",
       "0   January        85000    4250                       5            1200   \n",
       "1   January        60000    3000                       5             800   \n",
       "2  February       130000    9100                       7            3500   \n",
       "3  February        50000    2500                       5             900   \n",
       "4     March        40000    1200                       3             650   \n",
       "\n",
       "   Conversion_Rate (%)  Engagement_Score  \n",
       "0                  3.5                75  \n",
       "1                  2.1                55  \n",
       "2                  6.0                90  \n",
       "3                  1.5                45  \n",
       "4                  0.7                30  "
      ]
     },
     "execution_count": 39,
     "metadata": {},
     "output_type": "execute_result"
    }
   ],
   "source": [
    "import pandas as pd\n",
    "\n",
    "# Load the data from Excel\n",
    "df = pd.read_excel('Tutorial_Excel_3/Tutorial2xls4-adcampaigns_v2.xlsx')\n",
    "\n",
    "# Display the first few rows\n",
    "df.head()"
   ]
  },
  {
   "cell_type": "markdown",
   "id": "e2ac9324",
   "metadata": {},
   "source": [
    "### Python equivalent for `SUM`, `AVERAGE`, and `IF`\n",
    "In the below, we calculate:\n",
    "- the total impressions across all campaigns\n",
    "- the average click-through rate (CTR)\n",
    "\n",
    "We also create a new column that assigns a &#36;500 bonus to campaigns with an Engagement Score above 0, and 0 otherwise."
   ]
  },
  {
   "cell_type": "code",
   "execution_count": 45,
   "id": "68707c3c",
   "metadata": {},
   "outputs": [
    {
     "name": "stdout",
     "output_type": "stream",
     "text": [
      "Total Impressions: 6063000\n",
      "Average Click-Through Rate (%): 5.19\n"
     ]
    },
    {
     "data": {
      "text/html": [
       "<div>\n",
       "<style scoped>\n",
       "    .dataframe tbody tr th:only-of-type {\n",
       "        vertical-align: middle;\n",
       "    }\n",
       "\n",
       "    .dataframe tbody tr th {\n",
       "        vertical-align: top;\n",
       "    }\n",
       "\n",
       "    .dataframe thead th {\n",
       "        text-align: right;\n",
       "    }\n",
       "</style>\n",
       "<table border=\"1\" class=\"dataframe\">\n",
       "  <thead>\n",
       "    <tr style=\"text-align: right;\">\n",
       "      <th></th>\n",
       "      <th>Campaign_Name</th>\n",
       "      <th>Engagement_Score</th>\n",
       "      <th>Bonus</th>\n",
       "    </tr>\n",
       "  </thead>\n",
       "  <tbody>\n",
       "    <tr>\n",
       "      <th>0</th>\n",
       "      <td>Pop Hits Spring Launch</td>\n",
       "      <td>75</td>\n",
       "      <td>500</td>\n",
       "    </tr>\n",
       "    <tr>\n",
       "      <th>1</th>\n",
       "      <td>Jazz Evening Specials</td>\n",
       "      <td>55</td>\n",
       "      <td>0</td>\n",
       "    </tr>\n",
       "    <tr>\n",
       "      <th>2</th>\n",
       "      <td>EDM Party Night</td>\n",
       "      <td>90</td>\n",
       "      <td>500</td>\n",
       "    </tr>\n",
       "    <tr>\n",
       "      <th>3</th>\n",
       "      <td>Rock Classics Promo</td>\n",
       "      <td>45</td>\n",
       "      <td>0</td>\n",
       "    </tr>\n",
       "    <tr>\n",
       "      <th>4</th>\n",
       "      <td>Classical Chillout</td>\n",
       "      <td>30</td>\n",
       "      <td>0</td>\n",
       "    </tr>\n",
       "  </tbody>\n",
       "</table>\n",
       "</div>"
      ],
      "text/plain": [
       "            Campaign_Name  Engagement_Score  Bonus\n",
       "0  Pop Hits Spring Launch                75    500\n",
       "1   Jazz Evening Specials                55      0\n",
       "2         EDM Party Night                90    500\n",
       "3     Rock Classics Promo                45      0\n",
       "4      Classical Chillout                30      0"
      ]
     },
     "execution_count": 45,
     "metadata": {},
     "output_type": "execute_result"
    }
   ],
   "source": [
    "# Calculate the total number of impressions\n",
    "total_impressions = df['Impressions'].sum()\n",
    "print(f\"Total Impressions: {total_impressions}\")\n",
    "\n",
    "# Calculate the average click-through rate\n",
    "average_ctr = df['Click_Through_Rate (%)'].mean()\n",
    "print(f\"Average Click-Through Rate (%): {average_ctr:.2f}\")\n",
    "\n",
    "# Apply the IF logic using a lambda function\n",
    "df['Bonus'] = df['Engagement_Score'].apply(lambda x: 500 if x > 70 else 0)\n",
    "\n",
    "# Display the updated dataframe with the Bonus column\n",
    "df[['Campaign_Name', 'Engagement_Score', 'Bonus']].head()"
   ]
  },
  {
   "cell_type": "markdown",
   "id": "7f35cea3",
   "metadata": {},
   "source": [
    "### Code explanation\n",
    "- `total_impressions = df['Impressions'].sum(`: We calculate the total number of impressions across all campaigns by summing the values in the Impressions column of df.\n",
    "- `average_ctr = df['Click_Through_Rate (%)'].mean(`: We calculate the average click-through rate by taking the mean of the Click_Through_Rate (%) column.\n",
    "- `{average_ctr:.2f}` formats the output to two decimal places to make it look clean and concise.\n",
    "- 'df['Bonus'] = df['Engagement_Score'].apply(lambda x: 500 if x > 70 else 0)': This line uses a lambda function to create a new column, \"Bonus\", based on a condition applied to the \"Engagement_Score\" column. The lambda function checks if each Engagement_Score is above 70. If true, it assigns a value of 500; otherwise, it assigns 0. This conditional assignment is similar to an \"IF\" statement in Excel."
   ]
  },
  {
   "cell_type": "markdown",
   "id": "9781a64a",
   "metadata": {},
   "source": [
    "### Additional example: Filtering top campaigns\n",
    "If you want to filter out high-engagement campaigns (those with an Engagement Score above 70):"
   ]
  },
  {
   "cell_type": "code",
   "execution_count": 43,
   "id": "73ed662f",
   "metadata": {},
   "outputs": [
    {
     "name": "stdout",
     "output_type": "stream",
     "text": [
      "                Campaign_Name  Engagement_Score\n",
      "0      Pop Hits Spring Launch                75\n",
      "2             EDM Party Night                90\n",
      "5         Hip-Hop Summer Bash                92\n",
      "9         Latino Groove Party                85\n",
      "11      Electro Chill Session                88\n",
      "13            Pop Dance Party                93\n",
      "16   Rock Legends All-Nighter                80\n",
      "18          Latin Dance Blast                86\n",
      "20  Hip-Hop Legends Spotlight                95\n",
      "22             Pop Party Hits                78\n",
      "25     Hip-Hop Beats Marathon                94\n",
      "28        EDM Festival Nights                88\n",
      "29         Latin Fiesta Promo                82\n",
      "32       Pop Summer Dance Off                97\n",
      "35           EDM Club Weekend                91\n",
      "37    Hip-Hop Icon Highlights                88\n",
      "40    Rock Legends Tour Promo                96\n",
      "42    Pop Singles Dance Night                83\n",
      "43               EDM Roadtrip                98\n",
      "45          Latin Beach Party                87\n",
      "47          Pop Rewind Friday                95\n",
      "49         Rock Guitar Greats                80\n",
      "50             EDM Club Night                92\n",
      "52     Hip-Hop Remix Showcase                89\n",
      "55             EDM Neon Party                90\n",
      "57     Indie Weekend Festival                87\n",
      "58      Pop Hits Summer Blast                99\n",
      "60          Hip-Hop All Stars                94\n",
      "62            EDM House Vibes                91\n",
      "64           Latin Pop Fusion                84\n",
      "66              Pop Nightlife                85\n",
      "70           EDM Sunset Party                96\n",
      "72     Hip-Hop Festival Promo                90\n",
      "73         Pop Vibes Mega Mix                82\n"
     ]
    }
   ],
   "source": [
    "# Filter high-engagement campaigns\n",
    "high_engagement_campaigns = df[df['Engagement_Score'] > 70]\n",
    "print(high_engagement_campaigns[['Campaign_Name', 'Engagement_Score']])"
   ]
  },
  {
   "cell_type": "markdown",
   "id": "61137c86",
   "metadata": {},
   "source": [
    "This snippet will output a list of campaigns with an Engagement Score over 70, helping to identify top performers.\n",
    "\n",
    "### Final Python code\n",
    "Here's a comprehensive example that calculates key metrics from your ad campaign dataset, similar to the final activity proposed."
   ]
  },
  {
   "cell_type": "code",
   "execution_count": 46,
   "id": "4f334d79",
   "metadata": {},
   "outputs": [
    {
     "name": "stdout",
     "output_type": "stream",
     "text": [
      "Total ad spend (USD): 133540\n",
      "Average CTR (%): 5.1891891891891895\n",
      "Highest conversion rate (%): 6.8\n",
      "High engagement campaigns count: 34\n"
     ]
    }
   ],
   "source": [
    "# Calculate summary metrics\n",
    "summary_metrics = {\n",
    "    \"Total ad spend (USD)\": df['Ad_Spend (USD)'].sum(),\n",
    "    \"Average CTR (%)\": df['Click_Through_Rate (%)'].mean(),\n",
    "    \"Highest conversion rate (%)\": df['Conversion_Rate (%)'].max(),\n",
    "    \"High engagement campaigns count\": df[df['Engagement_Score'] > 70].shape[0]\n",
    "}\n",
    "\n",
    "# Display the summary metrics\n",
    "for metric, value in summary_metrics.items():\n",
    "    print(f\"{metric}: {value}\")\n"
   ]
  },
  {
   "cell_type": "markdown",
   "id": "3ec06563",
   "metadata": {},
   "source": [
    "This code generates key summary metrics for your ad campaigns, similar to the dashboard you would create in Excel. Adjust it based on the specific metrics you want to track, and the ones we've already seen."
   ]
  },
  {
   "cell_type": "markdown",
   "id": "9f898264-e066-4c35-94c6-0f307824d2e4",
   "metadata": {
    "slideshow": {
     "slide_type": ""
    }
   },
   "source": [
    "### Quiz #1 <a id=\"quiz1-3\"></a> ([top](#home))\n",
    "**You want to calculate the total ad spend across all campaigns. Which function would you use?**\n",
    "\n",
    "1. SUM\n",
    "2. AVERAGE\n",
    "3. MIN\n",
    "4. COUNT\n"
   ]
  },
  {
   "cell_type": "markdown",
   "id": "22182bb3-ef66-426a-8d4e-96f7b7828e5a",
   "metadata": {},
   "source": [
    "<details>\n",
    "<summary>Click here to see the answer</summary>\n",
    "\n",
    "**The correct answer is:** 1. SUM\n",
    "\n",
    "</details>"
   ]
  },
  {
   "cell_type": "markdown",
   "id": "a7b2d45a",
   "metadata": {
    "slideshow": {
     "slide_type": ""
    }
   },
   "source": [
    "### Quiz #2\n",
    "**To understand campaign effectiveness, you want to find the average Conversion Rate (%) across all campaigns. Which function should you use?**\n",
    "\n",
    "1. MAX\n",
    "2. AVERAGE\n",
    "3. COUNTIF\n",
    "4. MIN"
   ]
  },
  {
   "cell_type": "markdown",
   "id": "71425069",
   "metadata": {},
   "source": [
    "<details>\n",
    "<summary>Click here to see the answer</summary>\n",
    "\n",
    "**The correct answer is:** 2. AVERAGE\n",
    "\n",
    "</details>"
   ]
  },
  {
   "cell_type": "markdown",
   "id": "43d810ed-19e6-411c-8082-648367bb7421",
   "metadata": {
    "slideshow": {
     "slide_type": ""
    }
   },
   "source": [
    "### Quiz #3\n",
    "**You want to mark campaigns as \"High Engagement\" if the Clicks are above 5,000, otherwise \"Low Engagement.\" Which formula would work?**\n",
    "\n",
    "1. `IF(H2 = 5000, \"High Engagement\", \"Low Engagement\")`\n",
    "2. `IF(H2 < 5000, \"Low Engagement\", \"High Engagement\")`\n",
    "3. `IF(H2 = \"High Engagement\", 5000, \"Low Engagement\")`\n",
    "4. `IF(H2 > 5000, \"High Engagement\", \"Low Engagement\")`"
   ]
  },
  {
   "cell_type": "markdown",
   "id": "3e6d49d7-90d6-42ec-9ddb-d52b9cfe7402",
   "metadata": {},
   "source": [
    "<details>\n",
    "<summary>Click here to see the answer</summary>\n",
    "\n",
    "**The correct answer is:** 4. `IF(H2 > 5000, \"High Engagement\", \"Low Engagement\")`\n",
    "\n",
    "</details>"
   ]
  },
  {
   "attachments": {},
   "cell_type": "markdown",
   "id": "a34aaa89-e679-4490-bf5e-cfa2baf1fd14",
   "metadata": {
    "slideshow": {
     "slide_type": ""
    },
    "tags": []
   },
   "source": [
    "## Restrict data entry<a id=\"restrict\"></a> ([top](#home))\n",
    "Here we'll look at how to control the data that can be entered, to avoid errors and ensure data consistency. Data validation allows you to specify the types of data that can be entered into the cells of a spreadsheet, in order to guarantee the consistency and accuracy of the data entered. This function is particularly useful for datasets whose consistency is crucial to meaningful analysis.\n",
    "\n",
    "For example, we want the entries of the column “Platform” to be restricted to \"Facebook\", “Instagram”, “TikTok”, or \"YouTube\". If a user enter “Tik Tok” or “Youtube”, our dataset could show inconsistencies, complicating filtering or analysis by category. To ensure consistent data entry, we can configure data validation to allow only authorized entries.\n",
    "\n",
    "### Setting up data validation\n",
    "In Excel, data validation can be applied to a column by selecting the cells, clicking on the \"Data\" tab, and choosing \"Data Validation\" in \"Data Tools\" group (Excel) / \"Validity...\" (LibreOffice). You can then specify validation criteria in the dialog box that appears.\n",
    "\n",
    "For example, if we want to limit input to the values \"Facebook\", “Instagram”, “TikTok”, or \"YouTube\":\n",
    "1. Select the cells in the User Category column.\n",
    "2. Go to \"Data\" and \"Data Validation\" / \"Validity\"\n",
    " - Excel provides its own breakdowns. If these don't correspond to what you're looking for, you can create your own.\n",
    " - For both programs, you can choose whether to create the pivot table in the same sheet as the data, or in a new sheet.\n",
    "<div style=\"display: flex; justify-content: center; align-items: center;\">\n",
    "    <figure style=\"margin: 10px;\">\n",
    "        <img src=\"Tutorial_Excel_3/function_excel_2_XL.jpeg\" alt=\"LibreOffice Chart\" width=\"1000\"/>\n",
    "        <figcaption style=\"text-align: center;\">Microsoft Excel</figcaption>\n",
    "    </figure>\n",
    "    <figure style=\"margin: 10px;\">\n",
    "        <img src=\"Tutorial_Excel_3/function_excel_2_LO.jpeg\" alt=\"Excel Chart\" width=\"1000\"/>\n",
    "        <figcaption style=\"text-align: center;\">LibreOffice</figcaption>\n",
    "    </figure>\n",
    "</div>\n",
    "\n",
    "3. Choose “List” from the drop-down options, and add the desired entries.\n",
    "\n",
    "<div style=\"display: flex; justify-content: center; align-items: center;\">\n",
    "    <figure style=\"margin: 10px;\">\n",
    "        <img src=\"Tutorial_Excel_3/function_excel_3_XL.jpeg\" alt=\"LibreOffice Chart\" width=\"1000\"/>\n",
    "        <figcaption style=\"text-align: center;\">Microsoft Excel</figcaption>\n",
    "    </figure>\n",
    "    <figure style=\"margin: 10px;\">\n",
    "        <img src=\"Tutorial_Excel_3/function_excel_3_LO.jpeg\" alt=\"Excel Chart\" width=\"1000\"/>\n",
    "        <figcaption style=\"text-align: center;\">LibreOffice</figcaption>\n",
    "    </figure>\n",
    "</div>\n",
    "\n",
    "Now test one of the cells with a restriction: only \"Facebook\", “Instagram”, “TikTok”, or \"YouTube\" will now be accepted in this column.\n",
    "\n",
    "Data validation can also display messages for users when they select a cell, guiding them on the type of data to enter. This feature is helpful when data entry rules are complex. For instance, a message might prompt users to select allowed entries for a specific streaming platform. Another feature, the Error Alert, displays an error if an invalid value is entered.\n",
    "\n",
    "<div style=\"margin-left: auto; margin-right: auto; width: 50%\">\n",
    "    <figure style=\"margin: 10px;\">\n",
    "        <video controls src=\"Tutorial_Excel_3/Data_validation_Excel.mp4\" width=\"500\" />\n",
    "        <figcaption style=\"text-align: center;\">Microsoft Excel</figcaption>\n",
    "    </figure>\n",
    "</div>"
   ]
  },
  {
   "cell_type": "markdown",
   "id": "a790f38e",
   "metadata": {
    "slideshow": {
     "slide_type": ""
    }
   },
   "source": [
    "### Quiz #4<a id=\"quiz4-6\"></a> ([top](#home))\n",
    "**Which of the following is a primary benefit of using data validation in a digital media dataset?**\n",
    "\n",
    "1. To allow more flexibility in user data entry\n",
    "2. To ensure consistent data entries for analysis\n",
    "3. To increase the size of the dataset\n",
    "4. To make data entry faster"
   ]
  },
  {
   "cell_type": "markdown",
   "id": "aa656d92",
   "metadata": {},
   "source": [
    "<details>\n",
    "<summary>Click here to see the answer</summary>\n",
    "\n",
    "**The correct answer is:** 2. To ensure consistent data entries for analysis\n",
    "</details>"
   ]
  },
  {
   "cell_type": "markdown",
   "id": "88859b7a",
   "metadata": {
    "slideshow": {
     "slide_type": ""
    }
   },
   "source": [
    "### Quiz #5\n",
    "**What does an error alert do in data validation?**\n",
    "\n",
    "1. It changes the value of invalid entries\n",
    "2. It allows only numbers to be entered\n",
    "3. It displays a message when an invalid entry is made\n",
    "4. It prevents users from entering any data"
   ]
  },
  {
   "cell_type": "markdown",
   "id": "87df9ce2",
   "metadata": {},
   "source": [
    "<details>\n",
    "<summary>Click here to see the answer</summary>\n",
    "\n",
    "**The correct answer is:** 3. It displays a message when an invalid entry is made\n",
    "\n",
    "</details>"
   ]
  },
  {
   "cell_type": "markdown",
   "id": "e57928c8",
   "metadata": {
    "slideshow": {
     "slide_type": ""
    }
   },
   "source": [
    "### Quiz #6\n",
    "\n",
    "**If you’re creating a column in a dataset for \"User Status\" that should only contain the values \"Active\" or \"Inactive,\" which data validation setting would be best?**\n",
    "\n",
    "1. Date\n",
    "2. List\n",
    "3. Decimal\n",
    "4. Any Value"
   ]
  },
  {
   "cell_type": "markdown",
   "id": "c5641019",
   "metadata": {},
   "source": [
    "<details>\n",
    "<summary>Click here to see the answer</summary>\n",
    "\n",
    "**The correct answer is:** 2. List\n",
    "\n",
    "</details>"
   ]
  },
  {
   "cell_type": "markdown",
   "id": "054d32c5",
   "metadata": {
    "slideshow": {
     "slide_type": ""
    },
    "tags": []
   },
   "source": [
    "## Create pivot tables<a id=\"pivot\"></a> ([top](#home))\n",
    "Discover the potential of pivot tables to easily summarize and analyze large data sets.\n",
    "\n",
    "Pivot tables (referred to as TCD for \"Tableau Croisé Dynamique\" in French) are a highly useful feature in Excel, commonly used across industries for data analysis. A pivot table allows you to summarize large datasets and perform calculations based on specified criteria.\n",
    "\n",
    "Let's explain what a pivot table is, based literally on the words of its French translation:\n",
    " - **Table:** In Excel, a table is a set of data organized in rows and columns, as in a database. Each column represents a different variable (month, salesperson, product family, etc.), and each row a record (an entry in the dataset), for example, sales in a specific month for a specific salesperson.\n",
    " - **Crossed:** Variables are said to be crossed because the data is analyzed by combining categories. You may want to see sales data broken down both by month and by salesperson, for example, total sales for each salesperson for each month. This “crossover” view allows you to see interactions between two or more variables in the same table. So, instead of looking at sales data only by month or by salesperson, we cross-reference them for a more detailed analysis.\n",
    " - **Dynamic:** The table can be adjusted automatically as data changes. If you update the original data, you can quickly update the table.\n",
    "\n",
    "Pivot tables can help analyze metrics such as monthly revenue, content type, and creator contributions. This section will walk through creating a pivot table using sales data and explore ways to use it for insights.\n",
    "\n",
    "\n",
    "### Monthly revenue analysis in a media company\n",
    "\n",
    "Imagine a media company tracking monthly revenue for different content categories. The dataset records:\n",
    "\n",
    "- **Month**: January to December\n",
    "- **Content Creator**: Various creators (e.g., A, B, C, D)\n",
    "- **Content Type**: Types like Video, Audio, Article, Image\n",
    "- **Revenue**: Monthly revenue generated\n",
    "\n",
    "\n",
    "| Month\t  | Content Creator | Content Type\t| Revenue |\n",
    "|---------|-----------------|---------------|---------|\n",
    "| January | Creator A    \t| Video    \t    | 1200    |\n",
    "| January | Creator B   \t| Audio  \t    | 1500    |\n",
    "| February| Creator A       | Video         | 1700    |\n",
    "| February| Creator B       | Article       | 1300    |\n",
    "| March   | Creator C\t    | Audio    \t    | 1600    |\n",
    "| March\t  | Creator D   \t| Image  \t    | 1400    |\n",
    "| April\t  | Creator C   \t| Video \t    | 1500    |\n",
    "| April\t  | Creator D   \t| Article       | 1800    |\n",
    "\n",
    "The pivot table will allow us to calculate total revenue by month, creator, or content type, and apply filters to understand revenue for specific periods or content categories.\n",
    "\n",
    "The python code below creates a DataFrame with the data:"
   ]
  },
  {
   "cell_type": "code",
   "execution_count": 51,
   "id": "8e617504",
   "metadata": {},
   "outputs": [
    {
     "data": {
      "text/html": [
       "<div>\n",
       "<style scoped>\n",
       "    .dataframe tbody tr th:only-of-type {\n",
       "        vertical-align: middle;\n",
       "    }\n",
       "\n",
       "    .dataframe tbody tr th {\n",
       "        vertical-align: top;\n",
       "    }\n",
       "\n",
       "    .dataframe thead th {\n",
       "        text-align: right;\n",
       "    }\n",
       "</style>\n",
       "<table border=\"1\" class=\"dataframe\">\n",
       "  <thead>\n",
       "    <tr style=\"text-align: right;\">\n",
       "      <th></th>\n",
       "      <th>Month</th>\n",
       "      <th>Content Creator</th>\n",
       "      <th>Content Type</th>\n",
       "      <th>Revenue</th>\n",
       "    </tr>\n",
       "  </thead>\n",
       "  <tbody>\n",
       "    <tr>\n",
       "      <th>0</th>\n",
       "      <td>January</td>\n",
       "      <td>Creator A</td>\n",
       "      <td>Video</td>\n",
       "      <td>1200</td>\n",
       "    </tr>\n",
       "    <tr>\n",
       "      <th>1</th>\n",
       "      <td>January</td>\n",
       "      <td>Creator B</td>\n",
       "      <td>Audio</td>\n",
       "      <td>1500</td>\n",
       "    </tr>\n",
       "    <tr>\n",
       "      <th>2</th>\n",
       "      <td>February</td>\n",
       "      <td>Creator A</td>\n",
       "      <td>Video</td>\n",
       "      <td>1700</td>\n",
       "    </tr>\n",
       "    <tr>\n",
       "      <th>3</th>\n",
       "      <td>February</td>\n",
       "      <td>Creator B</td>\n",
       "      <td>Article</td>\n",
       "      <td>1300</td>\n",
       "    </tr>\n",
       "    <tr>\n",
       "      <th>4</th>\n",
       "      <td>March</td>\n",
       "      <td>Creator C</td>\n",
       "      <td>Audio</td>\n",
       "      <td>1600</td>\n",
       "    </tr>\n",
       "    <tr>\n",
       "      <th>5</th>\n",
       "      <td>March</td>\n",
       "      <td>Creator D</td>\n",
       "      <td>Image</td>\n",
       "      <td>1400</td>\n",
       "    </tr>\n",
       "    <tr>\n",
       "      <th>6</th>\n",
       "      <td>April</td>\n",
       "      <td>Creator C</td>\n",
       "      <td>Video</td>\n",
       "      <td>1500</td>\n",
       "    </tr>\n",
       "    <tr>\n",
       "      <th>7</th>\n",
       "      <td>April</td>\n",
       "      <td>Creator D</td>\n",
       "      <td>Article</td>\n",
       "      <td>1800</td>\n",
       "    </tr>\n",
       "  </tbody>\n",
       "</table>\n",
       "</div>"
      ],
      "text/plain": [
       "      Month Content Creator Content Type  Revenue\n",
       "0   January       Creator A        Video     1200\n",
       "1   January       Creator B        Audio     1500\n",
       "2  February       Creator A        Video     1700\n",
       "3  February       Creator B      Article     1300\n",
       "4     March       Creator C        Audio     1600\n",
       "5     March       Creator D        Image     1400\n",
       "6     April       Creator C        Video     1500\n",
       "7     April       Creator D      Article     1800"
      ]
     },
     "execution_count": 51,
     "metadata": {},
     "output_type": "execute_result"
    }
   ],
   "source": [
    "# Importing necessary library\n",
    "import pandas as pd\n",
    "\n",
    "# Creating sample data to use in the pivot table\n",
    "data = {\n",
    "    'Month': ['January', 'January', 'February', 'February', 'March', 'March', 'April', 'April'],\n",
    "    'Content Creator': ['Creator A', 'Creator B', 'Creator A', 'Creator B', 'Creator C', 'Creator D', 'Creator C', 'Creator D'],\n",
    "    'Content Type': ['Video', 'Audio', 'Video', 'Article', 'Audio', 'Image', 'Video', 'Article'],\n",
    "    'Revenue': [1200, 1500, 1700, 1300, 1600, 1400, 1500, 1800]}\n",
    "\n",
    "# Convert to DataFrame\n",
    "df = pd.DataFrame(data)\n",
    "\n",
    "# Display the dataset\n",
    "df"
   ]
  },
  {
   "cell_type": "markdown",
   "id": "41a619a7",
   "metadata": {},
   "source": [
    "### Steps to create a pivot table\n",
    "\n",
    "Let’s create a pivot table to calculate total revenue by month and by content type. To create a pivot table in Excel, follow these steps:\n",
    "\n",
    "1. Copy and paste the data above in an Excel sheet \n",
    "2. Ensure your data is clean, with no empty rows or columns, and each column has a title.\n",
    "3. Go to the **Insert** tab in Excel and click **Pivot Table**.\n",
    "4. Select the range of your data.\n",
    "5. Choose where to place the pivot table (usually in a new worksheet).\n",
    "6. Use the **Fields Pane** to build your table by dragging columns (fields) into Rows, Columns, Values, or Filters.\n",
    "\n",
    "When building a pivot table, you can specify fields as:\n",
    "\n",
    "- **Rows**: Categories like months or creators (used for sorting data).\n",
    "- **Columns**: Fields you want separated in columns, such as content type.\n",
    "- **Values**: The numerical data you want to analyze, e.g., total revenue.\n",
    "- **Filters**: Optional filters that let you refine data display, such as filtering by a specific content type or creator.\n",
    "\n",
    "To get total revenue by month, drag **Month** to Rows, **Content Type** to Columns, and **Revenue** to Values."
   ]
  },
  {
   "cell_type": "code",
   "execution_count": 59,
   "id": "447ea8c4",
   "metadata": {},
   "outputs": [
    {
     "data": {
      "text/html": [
       "<div>\n",
       "<style scoped>\n",
       "    .dataframe tbody tr th:only-of-type {\n",
       "        vertical-align: middle;\n",
       "    }\n",
       "\n",
       "    .dataframe tbody tr th {\n",
       "        vertical-align: top;\n",
       "    }\n",
       "\n",
       "    .dataframe thead th {\n",
       "        text-align: right;\n",
       "    }\n",
       "</style>\n",
       "<table border=\"1\" class=\"dataframe\">\n",
       "  <thead>\n",
       "    <tr style=\"text-align: right;\">\n",
       "      <th>Content Type</th>\n",
       "      <th>Article</th>\n",
       "      <th>Audio</th>\n",
       "      <th>Image</th>\n",
       "      <th>Video</th>\n",
       "    </tr>\n",
       "    <tr>\n",
       "      <th>Month</th>\n",
       "      <th></th>\n",
       "      <th></th>\n",
       "      <th></th>\n",
       "      <th></th>\n",
       "    </tr>\n",
       "  </thead>\n",
       "  <tbody>\n",
       "    <tr>\n",
       "      <th>April</th>\n",
       "      <td>1800.0</td>\n",
       "      <td>NaN</td>\n",
       "      <td>NaN</td>\n",
       "      <td>1500.0</td>\n",
       "    </tr>\n",
       "    <tr>\n",
       "      <th>February</th>\n",
       "      <td>1300.0</td>\n",
       "      <td>NaN</td>\n",
       "      <td>NaN</td>\n",
       "      <td>1700.0</td>\n",
       "    </tr>\n",
       "    <tr>\n",
       "      <th>January</th>\n",
       "      <td>NaN</td>\n",
       "      <td>1500.0</td>\n",
       "      <td>NaN</td>\n",
       "      <td>1200.0</td>\n",
       "    </tr>\n",
       "    <tr>\n",
       "      <th>March</th>\n",
       "      <td>NaN</td>\n",
       "      <td>1600.0</td>\n",
       "      <td>1400.0</td>\n",
       "      <td>NaN</td>\n",
       "    </tr>\n",
       "  </tbody>\n",
       "</table>\n",
       "</div>"
      ],
      "text/plain": [
       "Content Type  Article   Audio   Image   Video\n",
       "Month                                        \n",
       "April          1800.0     NaN     NaN  1500.0\n",
       "February       1300.0     NaN     NaN  1700.0\n",
       "January           NaN  1500.0     NaN  1200.0\n",
       "March             NaN  1600.0  1400.0     NaN"
      ]
     },
     "execution_count": 59,
     "metadata": {},
     "output_type": "execute_result"
    }
   ],
   "source": [
    "# Using pandas to create a pivot table similar to Excel\n",
    "pivot_table = df.pivot_table(values='Revenue', index='Month', columns='Content Type', aggfunc='sum')\n",
    "pivot_table"
   ]
  },
  {
   "cell_type": "markdown",
   "id": "16f67d73",
   "metadata": {},
   "source": [
    "### Code explanation\n",
    "\n",
    "- `pivot_table = df.pivot_table(...)`: Creates a pivot table from DataFrame `df`.\n",
    "- `values='Revenue'`: Specifies the data column (\"Revenue\") that we want to aggregate. This will be the metric we’re analyzing.\n",
    "- `index='Month'`: Defines the rows of our pivot table. Each unique value in the \"Month\" column of `df` will become a row in the pivot table.\n",
    "- `columns='Content Type'`: Defines the columns of the pivot table. Each unique value in the \"Content Type\" column of `df` will become a column in the pivot table.\n",
    "- `aggfunc='sum'`: Specifies the aggregation function we want to apply. Here, we’re summing up the Revenue values for each combination of \"Month\" and \"Content Type\".\n",
    "\n",
    "\n",
    "### Updating a pivot table\n",
    "\n",
    "In Excel, changes to the original data do not automatically update the pivot table. To refresh:\n",
    "1. Click inside the pivot table.\n",
    "2. Go to the **Pivot Table Analyze** tab.\n",
    "3. Click **Refresh** in the Data group.\n",
    "\n",
    "This will sync your pivot table with the latest changes in your data.\n",
    "\n",
    "\n",
    "### Theoretical issues of pivot tables:\n",
    "\n",
    "Pivot tables are very useful in economics because they allow analysts to **break down and summarise data** across several dimensions. This **reveals patterns** and information that are often hidden in the raw data, particularly when dealing with large datasets with many variables.\n",
    "\n",
    "1. **Simplifying complex relationships:** in economic analysis, it is often necessary to understand how different factors interact with each other and influence results. Pivot tables allow us to quickly summarise data in order to observe these interactions. This quick summary helps economists discover patterns without complex coding or in-depth statistical analysis.\n",
    "\n",
    "For example:\n",
    "- Monthly sales by region and product type: An analysis of sales data by month, region and product type can help identify seasonal trends and regional preferences.\n",
    "- Employment by sector and year: By breaking down employment data by sector and year, we can identify trends in employment growth or decline in certain sectors over time.\n",
    "\n",
    "2. **Proposing a preliminary approach prior to econometric analysis**\n",
    "Econometrics focuses on quantifying relationships between variables and testing hypotheses. Pivot tables are useful in this respect because they allow us to :\n",
    "- Find raw trends and correlations: Before moving on to advanced econometric models, pivot tables allow us to see raw associations. For example, trends in income levels as a function of education levels).\n",
    "- Identify interaction effects: Grouping data into categories allows us to analyse possible interaction effects, such as how two variables combined (for example, age and education) influence a third variable (income). This makes it possible to determine which variables should be included in further econometric modelling.\n",
    "\n",
    "3. **A real example: Examining the impact of a policy**\n",
    "Economists frequently use pivot tables to examine the impact of policies. For example, after an increase in the minimum wage, a pivot table showing employment levels by sector and by region could provide a quick indication of whether the number of jobs has changed significantly in sectors that rely heavily on minimum wage labour. This type of breakdown makes it easy to analyse whether the effects vary according to region or industry before implementing a more complex model."
   ]
  },
  {
   "cell_type": "markdown",
   "id": "4daf6464",
   "metadata": {
    "slideshow": {
     "slide_type": ""
    }
   },
   "source": [
    "### Quiz #7<a id=\"quiz7-9\"></a> ([top](#home))\n",
    "**Which of the following best describes a pivot table?**\n",
    "\n",
    "1. A table that only displays raw data in Excel.\n",
    "2. A summary table that allows calculations based on selected criteria.\n",
    "3. A method of creating graphs from raw data.\n",
    "4. A tool only used for data cleaning."
   ]
  },
  {
   "cell_type": "markdown",
   "id": "ba7a1830",
   "metadata": {},
   "source": [
    "<details>\n",
    "<summary>Click here to see the answer</summary>\n",
    "\n",
    "**The correct answer is:** 2. A summary table that allows calculations based on selected criteria.\n",
    "</details>"
   ]
  },
  {
   "cell_type": "markdown",
   "id": "a8b649b4",
   "metadata": {
    "slideshow": {
     "slide_type": ""
    }
   },
   "source": [
    "### Quiz #8\n",
    "\n",
    "**If you want to display total revenue for each content type per month, where should you place \"Content Type\" in a pivot table?**\n",
    "\n",
    "1. Rows\n",
    "2. Values\n",
    "3. Filters\n",
    "4. Columns"
   ]
  },
  {
   "cell_type": "markdown",
   "id": "ad247e20",
   "metadata": {},
   "source": [
    "<details>\n",
    "<summary>Click here to see the answer</summary>\n",
    "\n",
    "**The correct answer is:** 4. Columns\n",
    "\n",
    "</details>"
   ]
  },
  {
   "cell_type": "markdown",
   "id": "fa5d2045",
   "metadata": {
    "slideshow": {
     "slide_type": ""
    }
   },
   "source": [
    "### Quiz #9\n",
    "**After modifying the original dataset, what must you do to update the pivot table in Excel?**\n",
    "\n",
    "1. Recreate the pivot table from scratch.\n",
    "2. Click on the pivot table and hit the \"Enter\" key.\n",
    "3. Click inside the pivot table and select \"Refresh.\"\n",
    "4. None of the above."
   ]
  },
  {
   "cell_type": "markdown",
   "id": "ece59cae",
   "metadata": {},
   "source": [
    "<details>\n",
    "<summary>Click here to see the answer</summary>\n",
    "\n",
    "**The correct answer is:** 3. Click inside the pivot table and select \"Refresh.\"\n",
    "\n",
    "</details>"
   ]
  },
  {
   "cell_type": "markdown",
   "id": "b2db7512",
   "metadata": {},
   "source": [
    "### Activity: Analyzing digital revenue data\n",
    "\n",
    "### Activity\n",
    "\n",
    "1. Try replacing `index='Month'` in the above code with `index=['Content Creator', 'Month']`, then with `index=['Month', 'Content Creator']`. What data did you get? Describe them.\n",
    "\n",
    "2. Using the sample data below, create a pivot table in Excel to answer the following questions (you can copy it to Excel or recreate it if needed):\n",
    "\n",
    "| Month     | Content Creator | Content Type | Revenue |\n",
    "|-----------|------------------|--------------|---------|\n",
    "| January   | Creator A       | Video        | 1200    |\n",
    "| January   | Creator B       | Audio        | 1500    |\n",
    "| February  | Creator A       | Video        | 1700    |\n",
    "| February  | Creator B       | Article      | 1300    |\n",
    "| March     | Creator C       | Audio        | 1600    |\n",
    "| March     | Creator D       | Image        | 1400    |\n",
    "| April     | Creator C       | Video        | 1500    |\n",
    "| April     | Creator D       | Article      | 1800    |\n",
    "\n",
    "Once your pivot table is set up, try experimenting with different arrangements of rows, columns, and filters to gain insights from the data.\n",
    "\n",
    "- What is the total revenue for each content type (Video, Audio, etc.)?\n",
    "- Which content creator generated the most revenue?\n",
    "- What is the total monthly revenue for each month?\n",
    "\n",
    "3. Think about which variables in the campaign dataset *Tutorial2xls4-adcampaigns.xlsx* might influence or impact key outcomes. For example:\n",
    "- What factors might influence \"Clicks\"? \n",
    "- Do certain \"Platforms\" drive more engagement?\n",
    "- How does \"Target Audience\" affect \"Conversion Rate\"?\n",
    "\n",
    "Try creating a pivot table to examine some of these relationships.\n"
   ]
  },
  {
   "cell_type": "markdown",
   "id": "f00346d3",
   "metadata": {
    "slideshow": {
     "slide_type": ""
    },
    "tags": []
   },
   "source": [
    "## Generate charts<a id=\"charts\"></a> ([top](#home))\n",
    "Data visualizations help us interpret data more effectively by presenting it in a clear, graphical format. Excel makes this straightforward, offering charts such as histograms, line graphs, scatter plots, and pie charts, which update automatically when data changes. Python, with libraries like `pandas` and `matplotlib`, allows similar visualizations that are flexible and customizable.\n",
    "\n",
    "In this section, we'll use the dataset from the advertising campaigns we've already analysed to create some key graphs (*Tutorial2xls4-adcampaigns.xlsx*). We'll learn how to select the data to plot, choose the appropriate chart type and customise the appearance of the charts.\n",
    "\n",
    "Your file is open in Excel and you also open it in Python with the code below:"
   ]
  },
  {
   "cell_type": "code",
   "execution_count": 62,
   "id": "6e9f046b",
   "metadata": {},
   "outputs": [
    {
     "data": {
      "text/html": [
       "<div>\n",
       "<style scoped>\n",
       "    .dataframe tbody tr th:only-of-type {\n",
       "        vertical-align: middle;\n",
       "    }\n",
       "\n",
       "    .dataframe tbody tr th {\n",
       "        vertical-align: top;\n",
       "    }\n",
       "\n",
       "    .dataframe thead th {\n",
       "        text-align: right;\n",
       "    }\n",
       "</style>\n",
       "<table border=\"1\" class=\"dataframe\">\n",
       "  <thead>\n",
       "    <tr style=\"text-align: right;\">\n",
       "      <th></th>\n",
       "      <th>Campaign_ID</th>\n",
       "      <th>Campaign_Name</th>\n",
       "      <th>Genre</th>\n",
       "      <th>Target_Audience</th>\n",
       "      <th>Platform</th>\n",
       "      <th>Month</th>\n",
       "      <th>Impressions</th>\n",
       "      <th>Clicks</th>\n",
       "      <th>Click_Through_Rate (%)</th>\n",
       "      <th>Ad_Spend (USD)</th>\n",
       "      <th>Conversion_Rate (%)</th>\n",
       "      <th>Engagement_Score</th>\n",
       "    </tr>\n",
       "  </thead>\n",
       "  <tbody>\n",
       "    <tr>\n",
       "      <th>0</th>\n",
       "      <td>AD001</td>\n",
       "      <td>Pop Hits Spring Launch</td>\n",
       "      <td>Pop</td>\n",
       "      <td>Teens</td>\n",
       "      <td>Instagram</td>\n",
       "      <td>January</td>\n",
       "      <td>85000</td>\n",
       "      <td>4250</td>\n",
       "      <td>5</td>\n",
       "      <td>1200</td>\n",
       "      <td>3.5</td>\n",
       "      <td>75</td>\n",
       "    </tr>\n",
       "    <tr>\n",
       "      <th>1</th>\n",
       "      <td>AD002</td>\n",
       "      <td>Jazz Evening Specials</td>\n",
       "      <td>Jazz</td>\n",
       "      <td>Adults</td>\n",
       "      <td>Facebook</td>\n",
       "      <td>January</td>\n",
       "      <td>60000</td>\n",
       "      <td>3000</td>\n",
       "      <td>5</td>\n",
       "      <td>800</td>\n",
       "      <td>2.1</td>\n",
       "      <td>55</td>\n",
       "    </tr>\n",
       "    <tr>\n",
       "      <th>2</th>\n",
       "      <td>AD003</td>\n",
       "      <td>EDM Party Night</td>\n",
       "      <td>EDM</td>\n",
       "      <td>Young Adults</td>\n",
       "      <td>TikTok</td>\n",
       "      <td>February</td>\n",
       "      <td>130000</td>\n",
       "      <td>9100</td>\n",
       "      <td>7</td>\n",
       "      <td>3500</td>\n",
       "      <td>6.0</td>\n",
       "      <td>90</td>\n",
       "    </tr>\n",
       "    <tr>\n",
       "      <th>3</th>\n",
       "      <td>AD004</td>\n",
       "      <td>Rock Classics Promo</td>\n",
       "      <td>Rock</td>\n",
       "      <td>Seniors</td>\n",
       "      <td>YouTube</td>\n",
       "      <td>February</td>\n",
       "      <td>50000</td>\n",
       "      <td>2500</td>\n",
       "      <td>5</td>\n",
       "      <td>900</td>\n",
       "      <td>1.5</td>\n",
       "      <td>45</td>\n",
       "    </tr>\n",
       "    <tr>\n",
       "      <th>4</th>\n",
       "      <td>AD005</td>\n",
       "      <td>Classical Chillout</td>\n",
       "      <td>Classical</td>\n",
       "      <td>Adults</td>\n",
       "      <td>Facebook</td>\n",
       "      <td>March</td>\n",
       "      <td>40000</td>\n",
       "      <td>1200</td>\n",
       "      <td>3</td>\n",
       "      <td>650</td>\n",
       "      <td>0.7</td>\n",
       "      <td>30</td>\n",
       "    </tr>\n",
       "  </tbody>\n",
       "</table>\n",
       "</div>"
      ],
      "text/plain": [
       "  Campaign_ID           Campaign_Name      Genre Target_Audience   Platform  \\\n",
       "0       AD001  Pop Hits Spring Launch        Pop           Teens  Instagram   \n",
       "1       AD002   Jazz Evening Specials       Jazz          Adults   Facebook   \n",
       "2       AD003         EDM Party Night        EDM    Young Adults     TikTok   \n",
       "3       AD004     Rock Classics Promo       Rock         Seniors    YouTube   \n",
       "4       AD005      Classical Chillout  Classical          Adults   Facebook   \n",
       "\n",
       "      Month  Impressions  Clicks  Click_Through_Rate (%)  Ad_Spend (USD)  \\\n",
       "0   January        85000    4250                       5            1200   \n",
       "1   January        60000    3000                       5             800   \n",
       "2  February       130000    9100                       7            3500   \n",
       "3  February        50000    2500                       5             900   \n",
       "4     March        40000    1200                       3             650   \n",
       "\n",
       "   Conversion_Rate (%)  Engagement_Score  \n",
       "0                  3.5                75  \n",
       "1                  2.1                55  \n",
       "2                  6.0                90  \n",
       "3                  1.5                45  \n",
       "4                  0.7                30  "
      ]
     },
     "execution_count": 62,
     "metadata": {},
     "output_type": "execute_result"
    }
   ],
   "source": [
    "# Import necessary libraries\n",
    "import pandas as pd\n",
    "import matplotlib.pyplot as plt\n",
    "\n",
    "# Load the dataset\n",
    "# Assuming 'campaign_data.csv' contains the dataset with the columns specified\n",
    "df = pd.read_excel('Tutorial_Excel_3/Tutorial2xls4-adcampaigns_v2.xlsx')\n",
    "df.head()"
   ]
  },
  {
   "cell_type": "markdown",
   "id": "c5e34683",
   "metadata": {},
   "source": [
    "### Selecting data\n",
    "\n",
    "In Excel, you can use your mouse to select the cells you want to view directly. In our example, let's say we want to create a chart to show total advertising spend by month and by platform. This will enable us to see which months and which platforms have seen the highest levels of advertising investment.\n",
    "\n",
    "In Python, we need to filter the dataset to include only the data we want to visualize."
   ]
  },
  {
   "cell_type": "code",
   "execution_count": 63,
   "id": "c2f9d3a3",
   "metadata": {},
   "outputs": [
    {
     "data": {
      "image/png": "[encoded data removed]",
      "text/plain": [
       "<Figure size 640x480 with 1 Axes>"
      ]
     },
     "metadata": {},
     "output_type": "display_data"
    }
   ],
   "source": [
    "# Aggregate data by month and platform to calculate total ad spend\n",
    "ad_spend_data = df.pivot_table(values='Ad_Spend (USD)', index='Month', columns='Platform', aggfunc='sum')\n",
    "ad_spend_data.plot(kind='bar', stacked=True)\n",
    "plt.title('Ad Spend by Month and Platform')\n",
    "plt.xlabel('Month')\n",
    "plt.ylabel('Ad Spend (USD)')\n",
    "plt.legend(title='Platform')\n",
    "plt.show()"
   ]
  },
  {
   "cell_type": "markdown",
   "id": "6eeae6f6",
   "metadata": {},
   "source": [
    "### Choosing chart type\n",
    "\n",
    "Choosing the right chart is essential for effective data visualization:\n",
    "- **Bar Charts** are useful for comparing data across categories.\n",
    "- **Line Charts** are ideal for showing trends over time.\n",
    "- **Pie Charts** display proportions within a single category.\n",
    "\n",
    "In Excel / LibreOffice, charts are created by selecting `Insert > Chart`. In Python, we use the `plot()` function from `matplotlib` or `pandas` for a similar effect."
   ]
  },
  {
   "cell_type": "code",
   "execution_count": 64,
   "id": "343a6ac4",
   "metadata": {},
   "outputs": [
    {
     "data": {
      "image/png": "[encoded data removed]",
      "text/plain": [
       "<Figure size 640x480 with 1 Axes>"
      ]
     },
     "metadata": {},
     "output_type": "display_data"
    }
   ],
   "source": [
    "# Calculate total clicks per month\n",
    "clicks_data = df.groupby('Month')['Clicks'].sum()\n",
    "\n",
    "# Plot a line chart\n",
    "clicks_data.plot(kind='line', marker='o')\n",
    "plt.title('Monthly Clicks')\n",
    "plt.xlabel('Month')\n",
    "plt.ylabel('Clicks')\n",
    "plt.show()"
   ]
  },
  {
   "cell_type": "markdown",
   "id": "ff5cf535",
   "metadata": {},
   "source": [
    "## Customizing the chart\n",
    "\n",
    "Charts are more informative when titles, labels, and legends are clearly specified:\n",
    "- **Title**: A concise description of what the chart shows\n",
    "- **Axis labels**: Describe what each axis represents\n",
    "- **Legend**: Indicates categories in the chart\n",
    "\n",
    "In Python, `matplotlib` allows customization of these elements. Let’s add labels and a legend to our chart."
   ]
  },
  {
   "cell_type": "code",
   "execution_count": 65,
   "id": "998ed912",
   "metadata": {},
   "outputs": [
    {
     "data": {
      "image/png": "[encoded data removed]",
      "text/plain": [
       "<Figure size 640x480 with 1 Axes>"
      ]
     },
     "metadata": {},
     "output_type": "display_data"
    }
   ],
   "source": [
    "# Calculate average conversion rate per genre\n",
    "conversion_data = df.groupby('Genre')['Conversion_Rate (%)'].mean()\n",
    "\n",
    "# Plot a pie chart\n",
    "conversion_data.plot(kind='pie', autopct='%1.1f%%', startangle=90)\n",
    "plt.title('Average Conversion Rate by Genre')\n",
    "plt.ylabel('')  # Hide y-axis label for pie chart clarity\n",
    "plt.show()"
   ]
  },
  {
   "cell_type": "markdown",
   "id": "82b66af0",
   "metadata": {},
   "source": [
    "## Activity: Analyze Engagement Score by Target Audience and Month\n",
    "\n",
    "For this activity, create a pivot table that shows the average engagement score by target audience and month. Then, use this table to create a heatmap to visualize how engagement varies across months and audiences. This can give insights into which audiences are most engaged at different times.\n",
    "\n",
    "### Instructions:\n",
    "1. Aggregate the data to calculate the average engagement score by `Target_Audience` and `Month`.\n",
    "2. Use a heatmap to visualize this aggregated data, where darker colors represent higher engagement scores.\n",
    "\n",
    "Here's some starter code to help:\n"
   ]
  },
  {
   "cell_type": "code",
   "execution_count": 66,
   "id": "8bc31c75",
   "metadata": {},
   "outputs": [
    {
     "data": {
      "image/png": "[encoded data removed]",
      "text/plain": [
       "<Figure size 1000x600 with 2 Axes>"
      ]
     },
     "metadata": {},
     "output_type": "display_data"
    }
   ],
   "source": [
    "import seaborn as sns\n",
    "\n",
    "# Aggregate engagement score by target audience and month\n",
    "engagement_data = df.pivot_table(values='Engagement_Score', index='Month', columns='Target_Audience', aggfunc='mean')\n",
    "\n",
    "# Plot a heatmap\n",
    "plt.figure(figsize=(10, 6))\n",
    "sns.heatmap(engagement_data, annot=True, cmap=\"YlGnBu\", fmt=\".1f\")\n",
    "plt.title('Engagement Score by Target Audience and Month')\n",
    "plt.xlabel('Target Audience')\n",
    "plt.ylabel('Month')\n",
    "plt.show()"
   ]
  },
  {
   "cell_type": "markdown",
   "id": "0681994a",
   "metadata": {},
   "source": []
  },
  {
   "cell_type": "markdown",
   "id": "ee15d626",
   "metadata": {
    "slideshow": {
     "slide_type": ""
    }
   },
   "source": [
    "### Quiz #10<a id=\"quiz10-12\"></a> ([top](#home))\n",
    "**When selecting data for a chart, which of the following should you consider?\n",
    "\n",
    "1. Including both the labels (e.g., months) and values for clarity\n",
    "2. Only numerical values, ignoring labels\n",
    "3. Using only the smallest possible data sample\n",
    "4. Ignoring categorical values like platforms"
   ]
  },
  {
   "cell_type": "markdown",
   "id": "29162dbe",
   "metadata": {},
   "source": [
    "<details>\n",
    "<summary>Click here to see the answer</summary>\n",
    "\n",
    "**The correct answer is:** 1. Including both the labels (e.g., months) and values for clarity\n",
    "</details>"
   ]
  },
  {
   "cell_type": "markdown",
   "id": "413c2bdd",
   "metadata": {
    "slideshow": {
     "slide_type": ""
    }
   },
   "source": [
    "### Quiz #11\n",
    "**Which chart type is best for showing data that changes over time?\n",
    "\n",
    "1. Bar chart\n",
    "2. Pie chart\n",
    "3. Scatter plot\n",
    "4. Line chart"
   ]
  },
  {
   "cell_type": "markdown",
   "id": "11776f50",
   "metadata": {},
   "source": [
    "<details>\n",
    "<summary>Click here to see the answer</summary>\n",
    "\n",
    "**The correct answer is:** 4. Line chart\n",
    "\n",
    "</details>"
   ]
  },
  {
   "cell_type": "markdown",
   "id": "03287ec2",
   "metadata": {
    "slideshow": {
     "slide_type": ""
    }
   },
   "source": [
    "### Quiz #12\n",
    "\n",
    "**When customizing a chart, what should be included to improve clarity?**\n",
    "\n",
    "1. Only a title\n",
    "2. Title, axis labels, and legend\n",
    "3. Just the data points\n",
    "4. Axis labels and nothing else\n",
    "\n",
    "Answer: 2"
   ]
  },
  {
   "cell_type": "markdown",
   "id": "a6f9205f",
   "metadata": {},
   "source": [
    "<details>\n",
    "<summary>Click here to see the answer</summary>\n",
    "\n",
    "**The correct answer is:** 2. Title, axis labels, and legend\n",
    "\n",
    "</details>"
   ]
  },
  {
   "cell_type": "markdown",
   "id": "5c154153",
   "metadata": {
    "slideshow": {
     "slide_type": ""
    },
    "tags": []
   },
   "source": [
    "## Practice data processing<a id=\"practice\"></a> ([top](#home))\n",
    "Get hands-on experience with a variety of data processing techniques to improve your analytical workflow."
   ]
  },
  {
   "cell_type": "markdown",
   "id": "1494593c",
   "metadata": {
    "slideshow": {
     "slide_type": ""
    }
   },
   "source": [
    "### Quiz #13<a id=\"quiz13-15\"></a> ([top](#home))\n",
    "**"
   ]
  },
  {
   "cell_type": "markdown",
   "id": "275f5636",
   "metadata": {},
   "source": [
    "<details>\n",
    "<summary>Click here to see the answer</summary>\n",
    "\n",
    "**The correct answer is:** \n",
    "</details>"
   ]
  },
  {
   "cell_type": "markdown",
   "id": "06839d4f",
   "metadata": {
    "slideshow": {
     "slide_type": ""
    }
   },
   "source": [
    "### Quiz #14\n",
    "**"
   ]
  },
  {
   "cell_type": "markdown",
   "id": "4bbe082c",
   "metadata": {},
   "source": [
    "<details>\n",
    "<summary>Click here to see the answer</summary>\n",
    "\n",
    "**The correct answer is:** \n",
    "\n",
    "</details>"
   ]
  },
  {
   "cell_type": "markdown",
   "id": "3d225c7e",
   "metadata": {
    "slideshow": {
     "slide_type": ""
    }
   },
   "source": [
    "### Quiz #15\n",
    "\n",
    "**"
   ]
  },
  {
   "cell_type": "markdown",
   "id": "a2c6ac92",
   "metadata": {},
   "source": [
    "<details>\n",
    "<summary>Click here to see the answer</summary>\n",
    "\n",
    "**The correct answer is:** \n",
    "\n",
    "</details>"
   ]
  },
  {
   "cell_type": "markdown",
   "id": "94c342e8",
   "metadata": {
    "slideshow": {
     "slide_type": ""
    },
    "tags": []
   },
   "source": [
    "## Evaluate yourself!<a id=\"evaluate\"></a> ([top](#home))\n",
    "Test your knowledge by applying all of the skills learned in this tutorial to a comprehensive data set."
   ]
  },
  {
   "cell_type": "markdown",
   "id": "14854a4d",
   "metadata": {
    "slideshow": {
     "slide_type": ""
    }
   },
   "source": [
    "### Quiz #16<a id=\"quiz16-18\"></a> ([top](#home))\n",
    "**"
   ]
  },
  {
   "cell_type": "markdown",
   "id": "a41a4336",
   "metadata": {},
   "source": [
    "<details>\n",
    "<summary>Click here to see the answer</summary>\n",
    "\n",
    "**The correct answer is:** \n",
    "</details>"
   ]
  },
  {
   "cell_type": "markdown",
   "id": "e617b51c",
   "metadata": {
    "slideshow": {
     "slide_type": ""
    }
   },
   "source": [
    "### Quiz #17\n",
    "**"
   ]
  },
  {
   "cell_type": "markdown",
   "id": "19a4f385",
   "metadata": {},
   "source": [
    "<details>\n",
    "<summary>Click here to see the answer</summary>\n",
    "\n",
    "**The correct answer is:** \n",
    "\n",
    "</details>"
   ]
  },
  {
   "cell_type": "markdown",
   "id": "eb5328f3",
   "metadata": {
    "slideshow": {
     "slide_type": ""
    }
   },
   "source": [
    "### Quiz #18\n",
    "\n",
    "**"
   ]
  },
  {
   "cell_type": "markdown",
   "id": "1aacff91",
   "metadata": {},
   "source": [
    "<details>\n",
    "<summary>Click here to see the answer</summary>\n",
    "\n",
    "**The correct answer is:** \n",
    "\n",
    "</details>"
   ]
  }
 ],
 "metadata": {
  "celltoolbar": "Tags",
  "kernelspec": {
   "display_name": "Python 3 (ipykernel)",
   "language": "python",
   "name": "python3"
  },
  "language_info": {
   "codemirror_mode": {
    "name": "ipython",
    "version": 3
   },
   "file_extension": ".py",
   "mimetype": "text/x-python",
   "name": "python",
   "nbconvert_exporter": "python",
   "pygments_lexer": "ipython3",
   "version": "3.11.4"
  },
  "toc-showtags": false
 },
 "nbformat": 4,
 "nbformat_minor": 5
}
