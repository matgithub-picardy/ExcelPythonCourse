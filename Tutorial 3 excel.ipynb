{
 "cells": [
  {
   "cell_type": "markdown",
   "id": "7a4404d1-c048-401a-b801-3efef8622b39",
   "metadata": {
    "slideshow": {
     "slide_type": ""
    },
    "tags": []
   },
   "source": [
    "# Tutorial 3: Formatting your data</font> <a id='home'></a>\n",
    "\n",
    "Welcome to this tutorial, where you will learn how to master essential Excel skills for managing data.\n",
    "\n",
    "The ability to effectively manipulate data is crucial whether you're analyzing trends in the media industry, tracking revenue for a music streaming service, or studying patterns in digital advertising. This notebook will guide you through practical examples, ensuring you gain hands-on experience with Excel's core functionalities. \n",
    "\n",
    "1. [Manage rows and columns](#managerowcolumns) ([quizzes](#quiz1-4) #1 #2 #3 #4)\n",
    "2. [Tab manipulation](#tabmanip) ([quizzes](#quiz5-7) #5 #6 #7)\n",
    "3. [Format your file](#format) ([quizzes](#quiz8-10) #8 #9 #10)\n",
    "4. [Use conditional formatting](#conditional) ([quizzes](#quiz11-13) #11 #12 #13)\n",
    "4. [Use filter and sort functions](#filter) ([quizzes](#quiz14-16) #14 #15 #16)\n",
    "5. [Practice formatting an Excel file](#practice) ([quizzes](#quiz17-19) #17 #18 #19)\n",
    "\n",
    "\n",
    "This tutorial lets you interact by:\n",
    "- modifying elements directly in the cells, \n",
    "- take quizzes,\n",
    "- and testing examples directly in your own spreadsheet on your computer (Excel, LibreOffice, etc.).\n",
    "\n",
    "## Manage rows and columns <a id=\"managerowcolumns\"></a> ([top](#home))\n",
    "\n",
    "Here, we aim at understanding better Excel functionalities. Keep your Excel document open to follow along with each step as you explore how to manipulate rows and columns effectively. Now that you're familiar with working with individual cells, let's see how to work with rows and columns directly.\n",
    "\n",
    "### Inserting and deleting rows and columns\n",
    "Let’s go through a practical example. Imagine you're managing digital advertising data for a streaming platform:\n",
    "\n",
    "| ID    | First name | Last name | Birthdate   | Account type   | Sign-up date  | Monthly <br> revenue ($) | Subscription tier | Active |\n",
    "|-------|------------|-----------|-------------|----------------|---------------|---------------------|-------------------|--------|\n",
    "| 1001  | Alice      | Johnson   | 1985-07-12  | Free           | 2021-01-15    | 0                   | Basic             | Yes    |\n",
    "| 1002  | Bob        | Smith     | 1990-04-23  | Premium        | 2020-11-03    | 45                  | Premium           | Yes    |\n",
    "| 1003  | Carol      | Williams  | 1978-02-19  | Premium        | 2019-05-22    | 30                  | Premium           | No     |\n",
    "| 1004  | David      | Brown     | 2001-08-05  | Free           | 2023-06-12    | 0                   | Basic             | Yes    |\n",
    "| 1005  | Eve        | Davis     | 1992-10-29  | Premium        | 2020-09-14    | 25                  | Premium           | Yes    |\n",
    "| 1006  | Frank      | White     | 1988-11-11  | Free           | 2022-04-01    | 0                   | Basic             | No     |\n",
    "| 1007  | Grace      | Green     | 1995-06-30  | Premium        | 2018-12-05    | 60                  | Premium Plus      | Yes    |\n",
    "| 1008  | Harry      | Thompson  | 1983-03-21  | Free           | 2021-08-19    | 0                   | Basic             | Yes    |\n",
    "| 1009  | Irene      | Miller    | 1999-12-15  | Premium        | 2019-10-17    | 50                  | Premium Plus      | Yes    |\n",
    "| 1010  | Jack       | Wilson    | 1986-01-03  | Free           | 2023-02-10    | 0                   | Basic             | No     |\n",
    "| 1011  | Karen      | Harris    | 1975-05-14  | Premium        | 2020-03-25    | 35                  | Premium           | No     |\n",
    "| 1012  | Liam       | Clark     | 1991-09-27  | Premium        | 2021-07-30    | 40                  | Premium Plus      | Yes    |\n",
    "| 1013  | Megan      | Lewis     | 1989-07-04  | Free           | 2022-11-11    | 0                   | Basic             | Yes    |\n",
    "| 1014  | Noah       | Walker    | 1994-05-19  | Premium        | 2020-06-28    | 55                  | Premium Plus      | Yes    |\n",
    "| 1015  | Olivia     | Martinez  | 1987-03-16  | Free           | 2023-05-01    | 0                   | Basic             | Yes    |\n",
    "| 1016  | Patrick    | Young     | 1996-11-22  | Premium        | 2021-09-14    | 25                  | Premium           | No     |\n",
    "| 1017  | Quincy     | Adams     | 1998-02-09  | Premium        | 2019-04-06    | 50                  | Premium           | Yes    |\n",
    "| 1018  | Rachel     | Robinson  | 1980-12-25  | Free           | 2022-07-30    | 0                   | Basic             | No     |\n",
    "| 1019  | Sam        | Parker    | 1984-09-07  | Premium        | 2020-05-23    | 65                  | Premium Plus      | Yes    |\n",
    "| 1020  | Tina       | Hall      | 1993-01-12  | Free           | 2023-08-16    | 0                   | Basic             | No     |\n",
    "| 1021  | Ursula     | King      | 1979-10-10  | Premium        | 2018-02-05    | 70                  | Premium Plus      | Yes    |\n",
    "| 1022  | Victor     | Scott     | 1997-07-20  | Premium        | 2021-05-22    | 45                  | Premium           | No     |\n",
    "| 1023  | Wendy      | Turner    | 1982-04-18  | Free           | 2022-09-29    | 0                   | Basic             | Yes    |\n",
    "| 1024  | Xavier     | Garcia    | 1990-12-11  | Premium        | 2020-03-03    | 55                  | Premium Plus      | Yes    |\n",
    "| 1025  | Yolanda    | Johnson   | 1981-08-22  | Free           | 2023-01-10    | 0                   | Basic             | Yes    |\n",
    "\n",
    "To retrive the data, you have three options:\n",
    "- you can download the Excel file by clicking on this link: [Tutorial2xls1-subscriptions.xlsx](https://github.com/matgithub-picardy/ExcelPythonCourse/raw/refs/heads/main/Tutorial_Excel_2/Tutorial2xls1-subscriptions.xlsx),\n",
    "- if you accessed this tutorial via a Binder link, download the Excel file from the left-hand panel,\n",
    "- or copy and paste the data above to your own Excel document.\n",
    "\n",
    "Let's say you want to insert a column called \"Middle Name\" between the \"First Name\" and \"Last Name\" columns. As a first step, you can adjust the width of your table's columns if the cell contents are not readable, as in the screenshot below for the “Date of birth” column: \n",
    "- Right click on one or more column headers\n",
    "- Select  \"Column Width\" > \"Autofit\" (Excel) / \"Optimal Width\" (LibreOffice) from the context menu.\n",
    "\n",
    "Columns will be automatically resized to the ideal width based on the longest entry in each column, making your table easier to read and navigate.\n",
    "\n",
    "<img src=\"Tutorial_Excel_2/adjust_excel_1.jpeg\" alt=\"Chart Image\" width=\"900\">\n",
    "\n",
    "Then, to insert a new column, we follow these steps:\n",
    "1. Select the column C header (“Last name”), \n",
    "2. Right-click to open the context menu.\n",
    "3. Choose \"Insert 1 Column (Left/Right)\" (Excel) / \"Insert Columns (Before/After)\" (LibreOffice) to add the new column.\n",
    "\n",
    "Adding or deleting a row follows the same process, by selecting the row header.\n",
    "\n",
    "<img src=\"Tutorial_Excel_2/adjust_excel_2.jpeg\" alt=\"Chart Image\" width=\"500\">\n",
    "\n",
    "We simulate this process using the Python code below (click on the cell and press “Ctrl+Enter” (Windows) / “Shift+Enter” (Mac). Try changing the names in the Python code to match the three first names above (you'll have to invent the Middle names!):"
   ]
  },
  {
   "cell_type": "code",
   "execution_count": null,
   "id": "4ccc7b82",
   "metadata": {},
   "outputs": [],
   "source": [
    "import pandas as pd\n",
    "from IPython.display import display\n",
    "\n",
    "# Example dataset\n",
    "data = {\n",
    "    'First Name': ['John', 'Alice', 'Bob'],\n",
    "    'Last Name': ['Doe', 'Smith', 'Brown']\n",
    "}\n",
    "\n",
    "# Creating a DataFrame\n",
    "df = pd.DataFrame(data)\n",
    "\n",
    "# Display the original DataFrame\n",
    "print(\"Before adding 'Middle Name' column:\")\n",
    "display(df)\n",
    "\n",
    "# Insert a new column 'Middle Name'\n",
    "df.insert(1, 'Middle Name', ['Edward', 'Marie', 'Lee'])  # Insert at index 1\n",
    "\n",
    "# Display the updated DataFrame\n",
    "print(\"After adding 'Middle Name' column:\")\n",
    "display(df)"
   ]
  },
  {
   "cell_type": "markdown",
   "id": "79226316",
   "metadata": {},
   "source": [
    "### Hiding rows and columns\n",
    "\n",
    "Sometimes you might want to hide certain columns to simplify your view. For example, you may want to hide the “Monthly revenue (\\$)” column, whose contents are sensitive and should not be accessible to anyone, while preserving the data.\n",
    "\n",
    "In Excel, to hide a column or a row:\n",
    "1. Place your mouse cursor over the column /row header.\n",
    "2. Right-click and select “Hide”.\n",
    "\n",
    "To “unmask” or show the column / row again :\n",
    "1. Select the two column / row headers that surround the hidden column / row (here the “Sign-up date” and “Subscription tier” columns).\n",
    "2. Right-click and select “Show Columns”.\n",
    "\n",
    "You will of course have noticed that the principle is the same as above when we have adjusted column or row widths and added columns or rows. You can now hide the column in the Excel file: \n",
    "\n",
    "<img src=\"Tutorial_Excel_2/adjust_excel_3.jpeg\" alt=\"Chart Image\" width=\"800\">\n",
    "\n",
    "\n",
    "You can continue to explore Excel by yourself by looking for the functionalities we've just seen by searching for them in the drop-down menus. For example, can you find the \"Hide column\" functionality?\n",
    "\n",
    "\n",
    "### Grouping rows and columns\n",
    "Grouping allows you to organize multiple rows or columns into a collapsible group, making large datasets more manageable.\n",
    "\n",
    "To group columns / rows:\n",
    "1. Select the columns / rows.\n",
    "2. Go to the \"Data\" tab and click \"Group.\"\n",
    "\n",
    "You can collapse or expand the group as needed. Let’s simulate this by selecting multiple columns and displaying only a subset.\n",
    "\n",
    "\n",
    "Example:\n",
    "In the Excel spreadsheet, you may want to group all \"identity\" columns: \"ID\", First name\", \"Middle name\", \"Last name\", and \"Birthdate\". Select the columns, then click Data > Group. What happens? Can you ungroup these columns? \n",
    "\n",
    "### Summary\n",
    "- **Adjusting column / row width:** Select the column / row header and click \"Column Width\" in the context menu, or double-click the separator between column / row headers to auto-resize.\n",
    "- **Inserting a column / row :** Select the column / row header and click \"Insert\" in the context menu.\n",
    "- **Hiding a column / row:** Select the column / row header and click \"Hide\" in the context menu.\n",
    "- **Grouping columns / rows:** Select the column / row headers, and click on the Data tab > Group."
   ]
  },
  {
   "cell_type": "markdown",
   "id": "2ad19f90-a33e-4872-b4ee-cc008998d120",
   "metadata": {
    "slideshow": {
     "slide_type": ""
    }
   },
   "source": [
    "### Quiz #1<a id=\"quiz1-4\"></a> ([top](#home))\n",
    "**What is the correct way to insert a new column in Excel?**\n",
    "- Select the desired column and click \"Delete\".\n",
    "- Select the desired column, right-click, and choose \"Insert\".\n",
    "- Select the desired column, click \"Cut\", and paste it elsewhere.\n",
    "- Hiding Rows and Columns"
   ]
  },
  {
   "cell_type": "markdown",
   "id": "61a367d5-13ed-4523-98db-38370f1b5531",
   "metadata": {},
   "source": [
    "<details>\n",
    "<summary>Click here to see the answer</summary>\n",
    "\n",
    "**The correct answer is:** Select the desired column, right-click, and choose \"Insert\".\n",
    "\n",
    "</details>"
   ]
  },
  {
   "cell_type": "markdown",
   "id": "9f898264-e066-4c35-94c6-0f307824d2e4",
   "metadata": {
    "slideshow": {
     "slide_type": ""
    }
   },
   "source": [
    "### Quiz #2\n",
    "**How would you hide multiple columns in Excel?**\n",
    "\n",
    "1. Select the columns, right-click, and choose \"Delete\".\n",
    "2. Select the columns, right-click, and choose \"Hide\".\n",
    "3. Select the columns, right-click, and choose \"Copy\".\n"
   ]
  },
  {
   "cell_type": "markdown",
   "id": "22182bb3-ef66-426a-8d4e-96f7b7828e5a",
   "metadata": {},
   "source": [
    "<details>\n",
    "<summary>Click here to see the answer</summary>\n",
    "\n",
    "**The correct answer is:** 2. Select the columns, right-click, and choose \"Hide\".\n",
    "\n",
    "</details>"
   ]
  },
  {
   "cell_type": "markdown",
   "id": "43d810ed-19e6-411c-8082-648367bb7421",
   "metadata": {
    "slideshow": {
     "slide_type": ""
    }
   },
   "source": [
    "### Quiz #3\n",
    "**What is the purpose of grouping rows or columns in Excel?**\n",
    "\n",
    "1. To delete rows or columns\n",
    "2. To collapse and expand sections of your worksheet for better visibility\n",
    "3. To apply filters on the data\n",
    "4. To merge cells"
   ]
  },
  {
   "cell_type": "markdown",
   "id": "3e6d49d7-90d6-42ec-9ddb-d52b9cfe7402",
   "metadata": {},
   "source": [
    "<details>\n",
    "<summary>Click here to see the answer</summary>\n",
    "\n",
    "**The correct answer is:** 2. To collapse and expand sections of your worksheet for better visibility\n",
    "\n",
    "</details>"
   ]
  },
  {
   "cell_type": "markdown",
   "id": "b2540d96",
   "metadata": {
    "slideshow": {
     "slide_type": ""
    }
   },
   "source": [
    "### Quiz #4\n",
    "**Which menu option allows you to group rows or columns in Excel?**\n",
    "\n",
    "1. \"Home\" tab > Group\n",
    "2. \"Data\" tab > Group\n",
    "3. \"Insert\" tab > Group\n",
    "4. \"Review\" tab > Group"
   ]
  },
  {
   "cell_type": "markdown",
   "id": "7481ff7f",
   "metadata": {},
   "source": [
    "<details>\n",
    "<summary>Click here to see the answer</summary>\n",
    "\n",
    "**The correct answer is:** 2. \"Data\" tab > Group\n",
    "\n",
    "</details>"
   ]
  },
  {
   "cell_type": "markdown",
   "id": "a34aaa89-e679-4490-bf5e-cfa2baf1fd14",
   "metadata": {
    "slideshow": {
     "slide_type": ""
    },
    "tags": []
   },
   "source": [
    "## Tab manipulation<a id=\"tabmanip\"></a> ([top](#home))\n",
    "Here, we will manipulate Excel tabs or \"sheets\".<a name=\"cite_ref-1\"></a>[<sup>[1]</sup>](#cite_ref-1) You will explore how to create, delete, rename, move, color, hide, and duplicate Excel tabs. These operations are essential when working with multiple datasets.\n",
    "\n",
    "**What is a Tab?**\n",
    "\n",
    "In Excel, \"tabs\" or \"sheets\" (\"feuilles de calcul\" in French) refer to the individual pages within a workbook. Each tab in Excel is like a separate sheet in a physical file. Excel workbooks can have multiple tabs, each representing different sections of your data. For a manager, tabs can help organize different datasets or variables, such as customer data, market trends, or pricing structures.\n",
    "\n",
    "<a name=\"cite_note-1\"></a>[1](#cite_ref-1) A sheet is translated “feuille” in French."
   ]
  },
  {
   "cell_type": "markdown",
   "id": "e8483587",
   "metadata": {},
   "source": [
    "### Creating / deleting tabs\n",
    "- To create a tab: Click on the \"+\" icon next to the last tab in the workbook.\n",
    "- To delete a tab: Right-click on the tab and choose Delete from the context menu. Remember that this action is permanent!\n",
    "\n",
    "<div style=\"display: flex; justify-content: center; align-items: center;\">\n",
    "    <figure style=\"margin: 10px;\">\n",
    "        <img src=\"Tutorial_Excel_2/adjust_excel_5_XL.jpeg\" alt=\"LibreOffice Chart\" width=\"500\"/>\n",
    "        <figcaption style=\"text-align: center;\">Microsoft Excel</figcaption>\n",
    "    </figure>\n",
    "    <figure style=\"margin: 10px;\">\n",
    "        <img src=\"Tutorial_Excel_2/adjust_excel_5_LO.jpeg\" alt=\"Excel Chart\" width=\"500\"/>\n",
    "        <figcaption style=\"text-align: center;\">LibreOffice</figcaption>\n",
    "    </figure>\n",
    "</div>\n",
    "\n",
    "How would creating additional tabs help you organize different datasets in your digital economics research? Think about separating different variables like price trends, consumer behavior, etc.\n",
    "\n",
    "**Example:** Imagine a workbook with two tabs: \"Sheet1\" and \"Sheet2\".\n",
    "- Sheet1 contains data on online sales.\n",
    "- Sheet2 holds information on customer demographics.\n",
    "\n",
    "### Renaming tabs\n",
    "Excel assigns generic names like Sheet1, Sheet2, etc. It's a good practice to rename tabs with meaningful names to make navigation easier. Please note that Excel does not allow worksheet names longer than 31 characters.\n",
    "\n",
    "To rename a tab:\n",
    "- Double-click the tab name, or\n",
    "- Right-click and select \"Rename\" from the context menu.\n",
    "\n",
    "Choose concise names that indicate the content of the sheet (e.g., \"Online Sales Q1\").\n",
    "\n",
    "\n",
    "### Moving and organizing tabs\n",
    "When dealing with many datasets, it’s important to keep your tabs organized:\n",
    "- To move a tab: Click and hold the tab name, then drag it to your preferred position.\n",
    "- Logical order: Start with data input, followed by analysis, and conclude with results.\n",
    "\n",
    "**Question:** How would you organize tabs for the following datasets?\n",
    "- Raw data on online sales\n",
    "- Marketing campaign results\n",
    "- Sales summary report\n",
    "\n",
    "### Coloring tabs\n",
    "To differentiate important tabs, color-coding can be very helpful:\n",
    "- To color a tab: Right-click on the tab name, then choose \"Tab Color\".\n",
    "- For example yellow for summary reports and green for important datasets\n",
    "\n",
    "<img src=\"Tutorial_Excel_2/adjust_excel_6.jpeg\" alt=\"Chart Image\" width=\"600\">\n",
    "\n",
    "\n",
    "### Hiding tabs\n",
    "Sometimes you might want to hide specific data while keeping it accessible:\n",
    "- To hide a tab: Right-click the tab and select Hide Sheet.\n",
    "- To unhide a tab: Right-click any tab and choose Unhide, then select the tab to reveal.\n",
    "\n",
    "\n",
    "### Duplicating tabs\n",
    "Duplicating tabs is useful when you need a template or want to experiment with data without altering the original.\n",
    "\n",
    "To copy a tab:\n",
    "- Right-click the tab name, then choose \"Move or Copy\".\n",
    "- Select Create a copy and specify where to place the duplicate.\n",
    "\n",
    "<img src=\"Tutorial_Excel_2/adjust_excel_7.jpeg\" alt=\"Chart Image\" width=\"500\">"
   ]
  },
  {
   "cell_type": "markdown",
   "id": "3b5712c3",
   "metadata": {
    "slideshow": {
     "slide_type": ""
    }
   },
   "source": [
    "### Quiz #5<a id=\"quiz5-7\"></a> ([top](#home))\n",
    "**You can organize multiple tabs in Excel by dragging them in the correct order.**\n",
    "\n",
    "1. True\n",
    "2. False"
   ]
  },
  {
   "cell_type": "markdown",
   "id": "72b5f0c5",
   "metadata": {},
   "source": [
    "<details>\n",
    "<summary>Click here to see the answer</summary>\n",
    "\n",
    "**The correct answer is:** 1. True\n",
    "</details>"
   ]
  },
  {
   "cell_type": "markdown",
   "id": "89079085",
   "metadata": {
    "slideshow": {
     "slide_type": ""
    }
   },
   "source": [
    "### Quiz #6\n",
    "**What is the limit for the number of characters allowed in a tab name in Excel?**\n",
    "\n",
    "1. 255\n",
    "2. 31\n",
    "3. 64\n",
    "4. Unlimited"
   ]
  },
  {
   "cell_type": "markdown",
   "id": "8d34479b",
   "metadata": {},
   "source": [
    "<details>\n",
    "<summary>Click here to see the answer</summary>\n",
    "\n",
    "**The correct answer is:** 2. 31\n",
    "\n",
    "</details>"
   ]
  },
  {
   "cell_type": "markdown",
   "id": "665c69b3",
   "metadata": {
    "slideshow": {
     "slide_type": ""
    }
   },
   "source": [
    "### Quiz #7\n",
    "\n",
    "**Once a tab is deleted in Excel, it can be recovered using the undo button.**\n",
    "\n",
    "1. True\n",
    "2. False"
   ]
  },
  {
   "cell_type": "markdown",
   "id": "993f9d77",
   "metadata": {},
   "source": [
    "<details>\n",
    "<summary>Click here to see the answer</summary>\n",
    "\n",
    "**The correct answer is:** 2. False\n",
    "\n",
    "</details>"
   ]
  },
  {
   "cell_type": "markdown",
   "id": "30c9990c",
   "metadata": {},
   "source": [
    "\n",
    "## Format your file<a id=\"format\"></a> ([top](#home))\n",
    "Here, you will learn how to manage Excel layout options and configure print settings to enhance readability and presentation.\n",
    "\n",
    "In this section, you will analyze data from an online marketplace where independent sellers list products for sale. Each seller has reported their sales for a given period, which includes the quantity sold, the price per unit, and the resulting revenue. The goal is to understand how each seller performs in terms of sales volume and revenue generation. We will use Excel formatting tools to adjust borders, hide gridlines, and apply consistent formatting if needed to make the data more readable:\n",
    "\n",
    "Seller name         | Quantity sold | Price (USD) | Revenue (USD)\n",
    "--------------------|---------------|-------------|---------------\n",
    "BlueTech Goods      | 10            | 25          | 250\n",
    "EcoTrend            | 20            | 30          | 600\n",
    "GadgetPro           | 15            | 22          | 330\n",
    "HomeEssentials      | 25            | 27          | 675\n",
    "\n",
    "To access the data, download the Excel file using this link: [Tutorial2xls2-platformsales.xlsx](https://github.com/matgithub-picardy/ExcelPythonCourse/raw/refs/heads/main/Tutorial_Excel_2/Tutorial2xls2-platformsales.xlsx).\n",
    "\n",
    "\n",
    "\n",
    "### Hiding gridlines\n",
    "Gridlines provide cell structure visibility but don’t appear in print. You can toggle them on and off for easier on-screen viewing:\n",
    "- Go to the **View** tab.\n",
    "- In the **Show** group, uncheck **Gridlines** (Windows) / **View Grid Lines** (Mac) to hide them. To make them appear again, check **Gridlines** / **View Grid Lines** again.\n",
    "<img src=\"Tutorial_Excel_2/adjust_excel_8.jpeg\" alt=\"Chart Image\" width=\"400\">\n",
    "\n",
    "\n",
    "### Adding borders\n",
    "Borders help delineate data tables clearly. This is especially helpful for economic data tables with multiple columns and rows.\n",
    "\n",
    "**Activity:**\n",
    "1. Select cells B3 to E7.\n",
    "2. Right-click on the selection and choose \"Format Cells\".\n",
    "3. In the Borders tab, select the Outline preset or any border style you prefer to apply borders to your table. \n",
    "<div style=\"display: flex; justify-content: space-around;\">\n",
    "    <img src=\"Tutorial_Excel_2/adjust_excel_9.jpeg\" alt=\"Chart Image\" width=\"450\">\n",
    "    <img src=\"Tutorial_Excel_2/adjust_excel_10.jpeg\" alt=\"Chart Image\" width=\"450\">\n",
    "</div>\n",
    "\n",
    "### Freezing panes\n",
    "Freezing panes keeps headers visible while scrolling through long datasets:\n",
    "- Go to the **View** tab.\n",
    "- Select:\n",
    "    - **Excel:** \"Freeze Panes\" group > \"Top Row\"\n",
    "    - **LibreOffice:** \"Freeze Cells\" > \"Freeze First Row\"\n",
    "\n",
    "<img src=\"Tutorial_Excel_2/adjust_excel_11bis.jpeg\" alt=\"Chart Image\" width=\"450\">\n",
    "\n",
    "Now, even when you scroll down, the column header remains visible, enhancing navigation for data analysis. But you should have noticed that the 1st row and column of our file are empty, and that the headers are on line 3 and column B. No problem there! We just have to freeze the first 3 rows and the first 2 columns:\n",
    "- first make sure that no rows or column rows are still frozen\n",
    "- select cell C4\n",
    "- select the View menu\n",
    "- select \"Freeze Rows and Columns\"\n",
    "\n",
    "Now the columns and rows at the “top and left” of cell C4 are frozen! You can now scroll the table. For the rest of the tutorial, you can unfreeze the columns and rows.\n",
    "\n",
    "### Printing\n",
    "\n",
    "When managing large datasets, you may want to print headers on each page, limit the print area, or add page numbers for easier navigation. Here’s how to do this in Excel and LibreOffice Calc.\n",
    "\n",
    "#### Printing headers on each page\n",
    "To repeat headers on each page:\n",
    "- Excel:\n",
    "    - Go to the Page Layout tab.\n",
    "    - Select Print Titles in the Page Setup group.\n",
    "    - In the \"Rows to repeat at top\" field, enter the row(s) containing your headers.\n",
    "- LibreOffice:\n",
    "    - Go to Format > Print Ranges > Edit.\n",
    "In the Rows to repeat section, specify the row(s) with headers that you want to appear on each page.\n",
    "\n",
    "This video shows how to print column headers on all pages in Excel (source: YouTube channel \"Ready Steady Excel\"):\n",
    "\n",
    "<div style=\"margin-left: auto; margin-right: auto; width: 50%\">\n",
    "    <figure style=\"margin: 10px;\">\n",
    "        <video controls src=\"Tutorial_Excel_2/Print_headers_on_all_pages_in_Excel.mp4\" width=\"500\" />\n",
    "        <figcaption style=\"text-align: center;\">Microsoft Excel</figcaption>\n",
    "    </figure>\n",
    "</div>\n",
    "\n",
    "<!-- https://www.youtube.com/watch?v=hOHpBh_y54E&ab_channel=ReadySteadyExcel -->\n",
    "\n",
    "#### Defining a print area\n",
    "To print only a specific range of cells:\n",
    "- Excel: Select the range of data you want to print, go to Page Layout > Print Area > Set Print Area.\n",
    "- LibreOffice Calc: Select your data range, then go to Format > Print Ranges > Define.\n",
    "\n",
    "This video below shows how to set the print area in Excel (source: YouTube channel \"Excel Tutorials by EasyClick Academy\"):\n",
    "\n",
    "<div style=\"margin-left: auto; margin-right: auto; width: 50%\">\n",
    "    <figure style=\"margin: 10px;\">\n",
    "        <video controls src=\"Tutorial_Excel_2/Set_the_print_area_in_Excel.mp4\" width=\"500\" />\n",
    "        <figcaption style=\"text-align: center;\">Microsoft Excel</figcaption>\n",
    "    </figure>\n",
    "</div>\n",
    "\n",
    "<!-- https://www.youtube.com/watch?v=Mrt4v0ysA8w -->\n",
    "\n",
    "\n",
    "**Task:** Practice setting a print area by selecting cell B1 and defining it as your print area.\n",
    "\n",
    "\n",
    "\n",
    "#### Adding page numbers to printed pages\n",
    "To add page numbers:\n",
    "- Excel:\n",
    "    - Go to Page Layout > Page Setup.\n",
    "    - Choose the Header/Footer tab and, in the Footer section, select an option with page numbers (e.g., “Page 1”).\n",
    "- LibreOffice:\n",
    "    - Go to Format > Page > Header/Footer tab.\n",
    "    - Enable Footer and select Edit. In the footer, add the page number by inserting Page from the footer options.\n",
    "With these settings, page numbers will appear on printed pages, helping organize multi-page datasets.\n",
    "\n",
    "\n",
    "### Conclusion\n",
    "Mastering Excel layout and print settings is essential for presenting and sharing data effectively. These skills allow for cleaner, more readable tables and data overviews, important in the field of digital economics."
   ]
  },
  {
   "cell_type": "markdown",
   "id": "1048155d",
   "metadata": {
    "slideshow": {
     "slide_type": ""
    }
   },
   "source": [
    "### Quiz #8<a id=\"quiz8-10\"></a> ([top](#home))\n",
    "**Why might hiding gridlines be useful when preparing an Excel file for presentation?**\n",
    "\n",
    "1. It enhances readability by reducing visual clutter.\n",
    "2. It prevents changes to data.\n",
    "3. It speeds up Excel calculations."
   ]
  },
  {
   "cell_type": "markdown",
   "id": "005f2cb2",
   "metadata": {},
   "source": [
    "<details>\n",
    "<summary>Click here to see the answer</summary>\n",
    "\n",
    "**The correct answer is:** 1. It enhances readability by reducing visual clutter.\n",
    "\n",
    "</details>"
   ]
  },
  {
   "cell_type": "markdown",
   "id": "ba803e21",
   "metadata": {
    "slideshow": {
     "slide_type": ""
    }
   },
   "source": [
    "### Quiz #9\n",
    "**How does freezing panes improve usability in data analysis?**\n",
    "\n",
    "1. It speeds up the application.\n",
    "2. It filters data automatically.\n",
    "3. It keeps header information visible."
   ]
  },
  {
   "cell_type": "markdown",
   "id": "3c0082e0",
   "metadata": {},
   "source": [
    "<details>\n",
    "<summary>Click here to see the answer</summary>\n",
    "\n",
    "**The correct answer is:** 3. It keeps header information visible.\n",
    "\n",
    "</details>"
   ]
  },
  {
   "cell_type": "markdown",
   "id": "27a18331",
   "metadata": {
    "slideshow": {
     "slide_type": ""
    }
   },
   "source": [
    "### Quiz #10\n",
    "**Where in Excel can you add page numbers for print layout?**\n",
    "\n",
    "1. View Tab\n",
    "2. Page Layout > Page Setup\n",
    "3. Data Tab"
   ]
  },
  {
   "cell_type": "markdown",
   "id": "571ae5df",
   "metadata": {},
   "source": [
    "<details>\n",
    "<summary>Click here to see the answer</summary>\n",
    "\n",
    "**The correct answer is:** 2. Page Layout > Page Setup\n",
    "\n",
    "</details>"
   ]
  },
  {
   "cell_type": "markdown",
   "id": "2664d42a",
   "metadata": {},
   "source": [
    "## Use conditional formatting<a id=\"conditional\"></a> ([top](#home))\n",
    "\n",
    "Here, you will explore the feature of **conditional formatting** in Excel. This tool lets you highlight cells based on certain conditions, making it easier to visualize and analyze data.\n",
    "\n",
    "Again, we consider an e-commerce platform, where sellers can track their monthly sales data. The goal is to identify sales trends by highlighting cells based on sales targets or thresholds.\n",
    "\n",
    "| Seller name        | Product           | Quantity available | Price per unit (€) | Total revenue (€) |\n",
    "|--------------------|-------------------|--------------------|----------------|---------------|\n",
    "| TechStore          | Laptop            | 50                 | 1200,00      | 60000,00    |\n",
    "| HomeGadgets        | Bluetooth Speaker | 100                | 150,00        | 15000,00    |\n",
    "| FashionHub         | Designer Handbag  | 30                 | 250,00        | 7500,00     |\n",
    "| BookWorld          | Programming Book  | 200                | 30,00         | 6000,00     |\n",
    "| FitnessPlus        | Yoga Mat          | 80                 | 25,00         | 2000,00     |\n",
    "| **Total revenue**  |                   |                    |                | **90500.00**|\n",
    "\n",
    "To access the data, download the Excel file using this link: [Tutorial2xls3-platformrevenue.xlsx](https://github.com/matgithub-picardy/ExcelPythonCourse/raw/refs/heads/main/Tutorial_Excel_2/Tutorial2xls3-platformfrevenue.xlsx).\n",
    "\n",
    "### Highlight low sales\n",
    "We want here  to highlight cells where the monthly sales are below €5,000. Follow these steps using **conditional formatting**:\n",
    "1. **Select** the cells containing \"Total revenue\" data.\n",
    "2. **Go to:**\n",
    "    - **Excel:** Home > Conditional Formatting > Highlight Cell Rules > Less Than...\n",
    "    - **LibreOffice:** Format > Conditional > Condition\n",
    "4. In the dialog box, enter `5000` and select a formatting style (e.g., red text).\n",
    "\n",
    "<div style=\"display: flex; justify-content: center; align-items: center;\">\n",
    "    <figure style=\"margin: 10px;\">\n",
    "        <img src=\"Tutorial_Excel_2/adjust_excel_10_XL.jpeg\" alt=\"LibreOffice Chart\" width=\"500\"/>\n",
    "        <figcaption style=\"text-align: center;\">Microsoft Excel</figcaption>\n",
    "    </figure>\n",
    "    <figure style=\"margin: 10px;\">\n",
    "        <img src=\"Tutorial_Excel_2/adjust_excel_10_LO.jpeg\" alt=\"Excel Chart\" width=\"500\"/>\n",
    "        <figcaption style=\"text-align: center;\">LibreOffice</figcaption>\n",
    "    </figure>\n",
    "</div>\n",
    "\n",
    "\n",
    "### Use icon sets\n",
    "For a more visual approach, you can use **icon sets** to display indicators. This is especially useful for tracking seller performance, with icons for **good**, **average**, and **low performance**:\n",
    "1. Select your data range.\n",
    "2. **Go to:**\n",
    "    - **Excel:** Home > Conditional Formatting > Icon Sets and choose \"3 Symbols (Uncircled)\"\n",
    "    - **LibreOffice:** Format > Conditional > Icon Set... and choose \"3 signs\"\n",
    "3. Excel will automatically assign symbols to cells based on value distribution.\n",
    "\n",
    "Let's replicate a similar check in Python. Below is code that uses **Pandas** to filter out sales data below a certain threshold and add a column with indicators based on performance. This code shows how an if-elif loop works. Modify the code below so that sales below 4,000 are classified as low and sales above 7,000 as high."
   ]
  },
  {
   "cell_type": "code",
   "execution_count": null,
   "id": "03842521",
   "metadata": {},
   "outputs": [],
   "source": [
    "import pandas as pd\n",
    "\n",
    "# Sample Data\n",
    "data = {'Seller': ['Alice', 'Bob', 'Charlie', 'Diana', 'Evan'],\n",
    "        'Monthly sales': [4800, 7500, 5200, 3000, 9000]}\n",
    "\n",
    "# Create DataFrame\n",
    "df = pd.DataFrame(data)\n",
    "\n",
    "# Add a column with performance indicators\n",
    "def performance_indicator(sales):\n",
    "    if sales < 5000:\n",
    "        return 'Low'\n",
    "    elif sales < 8000:\n",
    "        return 'Average'\n",
    "    else:\n",
    "        return 'High'\n",
    "\n",
    "df['Performance'] = df['Monthly sales'].apply(performance_indicator)\n",
    "df"
   ]
  },
  {
   "cell_type": "markdown",
   "id": "a340a6d8",
   "metadata": {},
   "source": [
    "**Discussion:**\n",
    "This code demonstrates a basic approach to conditional formatting using Python logic. Note how we used a function to categorize each seller’s performance based on their sales values."
   ]
  },
  {
   "cell_type": "markdown",
   "id": "5f4cfc1a",
   "metadata": {
    "slideshow": {
     "slide_type": ""
    }
   },
   "source": [
    "### Quiz #11<a id=\"quiz11-13\"></a> ([top](#home))\n",
    "**Why is it important to highlight cells with low sales?**\n",
    "\n",
    "1. To improve visual appeal  \n",
    "2. To identify areas that need attention  \n",
    "3. To simplify data entry  \n",
    "4. To display a summary of data  \n"
   ]
  },
  {
   "cell_type": "markdown",
   "id": "25269c39",
   "metadata": {},
   "source": [
    "<details>\n",
    "<summary>Click here to see the answer</summary>\n",
    "\n",
    "**The correct answer is:** 2. Page Layout > Page Setup\n",
    "\n",
    "</details>"
   ]
  },
  {
   "cell_type": "markdown",
   "id": "4792269a",
   "metadata": {
    "slideshow": {
     "slide_type": ""
    }
   },
   "source": [
    "### Quiz #12\n",
    "**When would icon sets be preferable over simple cell color highlighting?**\n",
    "\n",
    "1. When you want to show precise values  \n",
    "2. When summarizing complex datasets  \n",
    "3. When minimizing formatting  \n",
    "4. For numeric calculations only  "
   ]
  },
  {
   "cell_type": "markdown",
   "id": "a9931e2d",
   "metadata": {},
   "source": [
    "<details>\n",
    "<summary>Click here to see the answer</summary>\n",
    "\n",
    "**The correct answer is:**\n",
    "\n",
    "</details>"
   ]
  },
  {
   "cell_type": "markdown",
   "id": "d5b64142",
   "metadata": {
    "slideshow": {
     "slide_type": ""
    }
   },
   "source": [
    "### Quiz #13\n",
    "**What is a potential benefit of using data bars in conditional formatting?**\n",
    "\n",
    "1. To provide a visual comparison of values within a column\n",
    "2. To hide data that doesn’t meet specific criteria\n",
    "3. To apply uniform formatting across all cells\n",
    "4. To replace numeric values with symbols"
   ]
  },
  {
   "cell_type": "markdown",
   "id": "849bacb8",
   "metadata": {},
   "source": [
    "<details>\n",
    "<summary>Click here to see the answer</summary>\n",
    "\n",
    "**The correct answer is:** 1. To provide a visual comparison of values within a column\n",
    "\n",
    "</details>"
   ]
  },
  {
   "cell_type": "markdown",
   "id": "b394ed2a",
   "metadata": {},
   "source": [
    "## Use filter and sort functions<a id=\"filter\"></a> ([top](#home))\n",
    "\n",
    "In this section, we'll explore two essential Excel features for working with large datasets: **Filters** and **Sorting**. These tools are invaluable when managing extensive records, such as analyzing subscription trends for a streaming platform or studying online ad campaigns.\n",
    "\n",
    "We will use here the base of the first part [Tutorial2xls1-subscriptions.xlsx](https://github.com/matgithub-picardy/ExcelPythonCourse/raw/refs/heads/main/Tutorial_Excel_2/Tutorial2xls1-subscriptions.xlsx).\n",
    "You can download it again to work on an unmodified database.\n",
    "\n",
    "### Create a filter\n",
    "A filter allows you to display only certain rows in your dataset based on one or more criteria, which is useful for focusing on specific data points without removing any underlying data. When you filter data, only cells matching the filter criteria are displayed. Other data rows remain hidden, not deleted.\n",
    "\n",
    "**Example:** Suppose we have a table of media subscribers, and we want to see only those with a \"Premium Subscription.\"\n",
    "1. Select any cell in the table.\n",
    "2. Follow:\n",
    "    - **Excel:** \"Home\" tab > \"Editing\" group > \"Sort & Filter\" > \"Filter\"\n",
    "    - **LibreOffice:** \"Data\" menu > \"AutoFilter\"\n",
    "\n",
    "Each column header will show a small arrow. Clicking this arrow on a column like \"Account Type\" lets you apply a filter to view only specific types of account: \"Premium\" or \"Free\". Select “Premium” accounts to show only these accounts, then deselect them to show all accounts again.\n",
    "\n",
    "<div style=\"display: flex; justify-content: center; align-items: center;\">\n",
    "    <figure style=\"margin: 10px;\">\n",
    "        <img src=\"Tutorial_Excel_2/adjust_excel_11_XL.jpeg\" alt=\"LibreOffice Chart\" width=\"1000\"/>\n",
    "        <figcaption style=\"text-align: center;\">Microsoft Excel</figcaption>\n",
    "    </figure>\n",
    "    <figure style=\"margin: 10px;\">\n",
    "        <img src=\"Tutorial_Excel_2/adjust_excel_11_LO.jpeg\" alt=\"Excel Chart\" width=\"1000\"/>\n",
    "        <figcaption style=\"text-align: center;\">LibreOffice</figcaption>\n",
    "    </figure>\n",
    "</div>\n",
    "\n",
    "In the Python code below, accounts can be “Basic”, “Standard” or “Premium”, and are then selected to keep only “Premium” accounts. Modify the code to select “Standard” and “Premium” accounts."
   ]
  },
  {
   "cell_type": "code",
   "execution_count": null,
   "id": "81dc2084",
   "metadata": {},
   "outputs": [],
   "source": [
    "# Simulate data filtering example in Python (pandas)\n",
    "import pandas as pd\n",
    "\n",
    "# Sample data representing subscription types\n",
    "data = {'Subscriber': ['User A', 'User B', 'User C', 'User D'],\n",
    "        'Subscription Type': ['Premium', 'Standard', 'Premium', 'Basic']}\n",
    "df = pd.DataFrame(data)\n",
    "\n",
    "print(df)\n",
    "\n",
    "# Filter to show only Premium subscriptions\n",
    "premium_subscribers = df[df['Subscription Type'] == 'Premium']\n",
    "premium_subscribers"
   ]
  },
  {
   "cell_type": "markdown",
   "id": "e44a3271",
   "metadata": {},
   "source": [
    "Filters can be applied to text, numbers, or dates, and even colors in newer Excel versions.\n",
    "- Text: Filter for a specific word or phrase.\n",
    "- Numbers: Filter by values, such as selecting a minimum view count for movies.\n",
    "- Date: Filter based on a time range, such as subscriptions started in 2023.\n",
    "\n",
    "### Sorting\n",
    "Sorting organizes your data in a specific order. Unlike filtering, sorting doesn’t hide any data—it simply rearranges it.\n",
    "\n",
    "For example, sorting can help you arrange your data alphabetically by subscriber name, from oldest to newest for a date column, or from highest to lowest view count.\n",
    "\n",
    "To sort data in Excel:\n",
    "- Select a cell in the column you want to sort.\n",
    "- Follow:\n",
    "    - **Excel:** Home > Editing > Sort & Filter.\n",
    "    - **LibreOffice:** Data > Sort\n",
    "- Choose the sorting type:\n",
    "    - for text: \"A to Z\" or \"Z to A\"\n",
    "    - for numbers: \"Smallest to Largest\"\n",
    "    - for dates: \"Oldest to Newest\"\n",
    "   \n",
    "In LibreOffice, you can also customize sorting further by adding multiple sorting levels (e.g., first by name, then by date) in the Sort dialog box, which allows for even more tailored organization.\n",
    "\n",
    "<div style=\"display: flex; justify-content: center; align-items: center;\">\n",
    "    <figure style=\"margin: 10px;\">\n",
    "        <img src=\"Tutorial_Excel_2/adjust_excel_12_XL.jpeg\" alt=\"LibreOffice Chart\" width=\"1000\"/>\n",
    "        <figcaption style=\"text-align: center;\">Microsoft Excel</figcaption>\n",
    "    </figure>\n",
    "    <figure style=\"margin: 10px;\">\n",
    "        <img src=\"Tutorial_Excel_2/adjust_excel_12_LO.jpeg\" alt=\"Excel Chart\" width=\"1000\"/>\n",
    "        <figcaption style=\"text-align: center;\">LibreOffice</figcaption>\n",
    "    </figure>\n",
    "</div>\n",
    "\n",
    "**Example:** In the Excel file, sort subscriber list alphabetically by name, then by subscription date.\n",
    "\n",
    "The Python code below sorts the data by “Subscriber”. Now sort by “Subscription type”:"
   ]
  },
  {
   "cell_type": "code",
   "execution_count": null,
   "id": "1f5eb73d",
   "metadata": {},
   "outputs": [],
   "source": [
    "# Simulate sorting example in Python (pandas)\n",
    "sorted_df = df.sort_values(by='Subscriber')\n",
    "sorted_df"
   ]
  },
  {
   "cell_type": "markdown",
   "id": "0e9ee952",
   "metadata": {
    "slideshow": {
     "slide_type": ""
    }
   },
   "source": [
    "### Quiz #14<a id=\"quiz14-16\"></a> ([top](#home))\n",
    "**Why might it be useful to apply a filter to view only \"Premium\" subscribers?**\n",
    "\n",
    "1. To hide unnecessary data for easier focus\n",
    "2. To improve file appearance\n",
    "3. To change data values\n",
    "4. To reduce file size"
   ]
  },
  {
   "cell_type": "markdown",
   "id": "48caed90",
   "metadata": {},
   "source": [
    "<details>\n",
    "<summary>Click here to see the answer</summary>\n",
    "\n",
    "**The correct answer is:** 1. To hide unnecessary data for easier focus\n",
    "\n",
    "</details>"
   ]
  },
  {
   "cell_type": "markdown",
   "id": "dc6d6220",
   "metadata": {
    "slideshow": {
     "slide_type": ""
    }
   },
   "source": [
    "### Quiz #15\n",
    "**What advantage does sorting data by \"Date Joined\" provide in a subscriber list?**\n",
    "\n",
    "1. It groups by subscription type\n",
    "2. It shows oldest to newest subscribers\n",
    "3. It filters subscribers by date\n",
    "4. It deletes redundant records"
   ]
  },
  {
   "cell_type": "markdown",
   "id": "f33720bc",
   "metadata": {},
   "source": [
    "<details>\n",
    "<summary>Click here to see the answer</summary>\n",
    "\n",
    "**The correct answer is:** 2. It shows oldest to newest subscribers\n",
    "\n",
    "</details>"
   ]
  },
  {
   "cell_type": "markdown",
   "id": "167763fd",
   "metadata": {
    "slideshow": {
     "slide_type": ""
    }
   },
   "source": [
    "### Quiz #16\n",
    "****What does the filter symbol (downward arrow) in an Excel column indicate?**\n",
    "\n",
    "1. The data is sorted\n",
    "2. Filtering options are available\n",
    "3. Data in the column is deleted\n",
    "4. It’s a formatting mark "
   ]
  },
  {
   "cell_type": "markdown",
   "id": "78e3d149",
   "metadata": {},
   "source": [
    "<details>\n",
    "<summary>Click here to see the answer</summary>\n",
    "\n",
    "**The correct answer is:** 2. Filtering options are available\n",
    "\n",
    "</details>"
   ]
  },
  {
   "cell_type": "markdown",
   "id": "5a2a21b4",
   "metadata": {},
   "source": [
    "**Activity**\n",
    "Download the following Excel file: Media Subscriptions Data\n",
    "Use the Filter function to display only subscribers with a \"Premium\" subscription type.\n",
    "Apply a Sort to arrange the data alphabetically by subscriber name.\n",
    "Try exploring different filter and sort combinations to gain insights from the data, such as finding trends in subscription types or identifying patterns based on start dates."
   ]
  },
  {
   "cell_type": "markdown",
   "id": "71c34cad",
   "metadata": {},
   "source": [
    "## Practice formatting an Excel file<a id=\"practice\"></a> ([top](#home))\n",
    "\n",
    "You are managing advertising data for a music streaming service that targets different genres and audiences. You’ll need to sort, filter, and format this data to help the team make better strategic decisions.\n",
    "\n",
    "The data set includes 74 observations (rows) with 12 variables (columns) that represents a unique ad campaign targeted at specific demographics and music genres:\n",
    "- **Campaign_ID:** Unique identifier for each campaign (e.g., AD001 to AD130).\n",
    "- **Campaign_Name:** Name of each campaign (e.g., \"Pop Hits Spring Launch\", \"Classical Evening Promo\").\n",
    "- **Genre:** Genre targeted by the campaign (e.g., Pop, Hip-Hop, Jazz, Classical, Rock, EDM).\n",
    "- **Target_Audience:** Primary audience (e.g., Teens, Young Adults, Adults, Seniors).\n",
    "- **Platform:** Platform where the ad was run (e.g., Instagram, Facebook, YouTube, TikTok).\n",
    "- **Month:** Month the ad was run (e.g., January, February, March).\n",
    "- **Impressions:** Number of times the ad was shown\n",
    "- **Clicks:** Number of clicks the ad received\n",
    "- **Click_Through_Rate (%):** Percentage of clicks relative to impressions, calculated as: $$\\frac{\\text{Clicks}}{\\text{Impressions}} \\times 100$$\n",
    "- **Ad_Spend (USD):** Amount spent on each campaign\n",
    "- **Conversion_Rate (%):** Estimated percentage of clicks that led to subscriptions\n",
    "- **Engagement_Score:** Custom score for engagement level based on impressions, clicks, and conversions (e.g., a weighted score calculated based on clicks and conversion rate).\n",
    "\n",
    "Download the data file: [Tutorial2xls4-adcampaigns.xlsx](https://github.com/matgithub-picardy/ExcelPythonCourse/raw/refs/heads/main/Tutorial_Excel_2/Tutorial2xls4-adcampaigns.xlsx).\n",
    "\n",
    "Now, follow the steps below to organize the data in Sheet1:\n",
    "1. Sort the \"Impressions\" column from highest to lowest to identify which campaigns reached the largest audiences.\n",
    "2. Apply conditional formatting to highlight \"Clicks\" above 5,000 with a light green fill (above 5,000) and dark green text (above 8,000). This will allow you to easily identify campaigns with high engagement.\n",
    "3. Create a copy of Sheet1 for the three first months, and rename them \"January\", \"February\", and \"March\". Don't forget to copy the headers column.\n",
    "4. Hide Sheet1: Hide Sheet1 to keep the original data separate from your monthly analyses.\n",
    "5. Create a new sheet and rename it to \"Quarter 1 Summary\". Move \"Quarter 1 Summary\" to the first position of the sheets and change the sheet tab color to yellow.\n",
    "6. In \"Quarter 1 Summary\":\n",
    "    - place the data for the year's first three months “January”, “February”, and “March” in “Quarter 1 Summary”.\n",
    "    - Freeze the top row to keep the headers visible when scrolling.\n",
    "    - Hide the gridlines for a cleaner look.\n",
    "\n",
    "**Check your work**\n",
    "Download the completed version here: [Tutorial2xls4-adcampaigns_v2.xlsx](https://github.com/matgithub-picardy/ExcelPythonCourse/raw/refs/heads/main/Tutorial_Excel_2/Tutorial2xls4-adcampaigns_v2.xlsx) to see how your file should look after completing the steps.\n",
    "\n",
    "**data analysis** \n",
    "Now that you've organized your ad campaign data, analyze the total engagement by calculating the sum of clicks and sum of impressions in each month. We'll see how to do these calculations in the next tutorial, but you can start looking for yourself right now!\n",
    "\n",
    "\n",
    "\n",
    "\n",
    "\n",
    "\n",
    "\n",
    "\n",
    "\n"
   ]
  },
  {
   "cell_type": "markdown",
   "id": "89c355fd",
   "metadata": {
    "slideshow": {
     "slide_type": ""
    }
   },
   "source": [
    "### Quiz #17<a id=\"quiz17-19\"></a> ([top](#home))\n",
    "**Why is sorting the \"Impressions\" column from highest to lowest helpful?**\n",
    "\n",
    "1. To view the most successful campaigns in terms of reach.\n",
    "2. To highlight campaigns with low clicks.\n",
    "3. To improve visual formatting.\n",
    "4. To organize the data alphabetically."
   ]
  },
  {
   "cell_type": "markdown",
   "id": "e7cb1c4c",
   "metadata": {},
   "source": [
    "<details>\n",
    "<summary>Click here to see the answer</summary>\n",
    "\n",
    "**The correct answer is:** 1. To view the most successful campaigns in terms of reach.\n",
    "\n",
    "</details>"
   ]
  },
  {
   "cell_type": "markdown",
   "id": "5d0618fd",
   "metadata": {
    "slideshow": {
     "slide_type": ""
    }
   },
   "source": [
    "### Quiz #18\n",
    "**What does conditional formatting on \"Clicks\" over 5,000 achieve?**\n",
    "\n",
    "1. It changes the entire spreadsheet’s background color.\n",
    "2. It filters out all other campaigns.\n",
    "3. It allows easier identification of highly engaging campaigns.\n",
    "4. It hides cells with fewer than 5,000 clicks."
   ]
  },
  {
   "cell_type": "markdown",
   "id": "1917b029",
   "metadata": {},
   "source": [
    "<details>\n",
    "<summary>Click here to see the answer</summary>\n",
    "\n",
    "**The correct answer is:** 3. It allows easier identification of highly engaging campaigns.\n",
    "\n",
    "</details>"
   ]
  },
  {
   "cell_type": "markdown",
   "id": "5eb156a1",
   "metadata": {
    "slideshow": {
     "slide_type": ""
    }
   },
   "source": [
    "### Quiz #19\n",
    "**Why should we freeze the top row in the \"Quarter 1 Summary\" sheet?**\n",
    "\n",
    "1. To lock the entire sheet from editing.\n",
    "2. To filter data by rows.\n",
    "3. To sort data from top to bottom only.\n",
    "4. To keep column headers visible while scrolling."
   ]
  },
  {
   "cell_type": "markdown",
   "id": "e3dd83a1",
   "metadata": {},
   "source": [
    "<details>\n",
    "<summary>Click here to see the answer</summary>\n",
    "\n",
    "**The correct answer is:** 4. To keep column headers visible while scrolling.\n",
    "\n",
    "</details>"
   ]
  }
 ],
 "metadata": {
  "celltoolbar": "Tags",
  "kernelspec": {
   "display_name": "Python 3 (ipykernel)",
   "language": "python",
   "name": "python3"
  },
  "language_info": {
   "codemirror_mode": {
    "name": "ipython",
    "version": 3
   },
   "file_extension": ".py",
   "mimetype": "text/x-python",
   "name": "python",
   "nbconvert_exporter": "python",
   "pygments_lexer": "ipython3",
   "version": "3.11.4"
  },
  "toc-showtags": false
 },
 "nbformat": 4,
 "nbformat_minor": 5
}
